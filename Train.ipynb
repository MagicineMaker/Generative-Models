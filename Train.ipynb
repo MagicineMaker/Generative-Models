{
 "cells": [
  {
   "cell_type": "code",
   "execution_count": 32,
   "id": "c43b10a1",
   "metadata": {},
   "outputs": [],
   "source": [
    "import torch\n",
    "import torch.nn as nn\n",
    "import torch.optim as optim\n",
    "import torch.nn.functional as F\n",
    "from torch.utils.data import DataLoader\n",
    "from torchvision import datasets\n",
    "from torchvision.datasets import MNIST\n",
    "from torchvision.transforms import ToTensor, Lambda\n",
    "from torchvision import transforms\n",
    "from torch.distributions import Normal\n",
    "from torchvision.utils import save_image\n",
    "import time\n",
    "import tqdm\n",
    "import matplotlib.pyplot as plt\n",
    "import models"
   ]
  },
  {
   "cell_type": "markdown",
   "id": "1525b9e5",
   "metadata": {},
   "source": [
    "# VAE"
   ]
  },
  {
   "cell_type": "code",
   "execution_count": 2,
   "id": "60cf352b",
   "metadata": {},
   "outputs": [],
   "source": [
    "training_data = datasets.MNIST(\n",
    "    root=\"./\", train=True, download=False, transform=ToTensor())\n",
    "test_data = datasets.MNIST(\n",
    "    root=\"./\", train=False, download=False, transform=ToTensor())"
   ]
  },
  {
   "cell_type": "code",
   "execution_count": 3,
   "id": "61114daf",
   "metadata": {},
   "outputs": [],
   "source": [
    "input_dim = 784\n",
    "latent_dim = 20\n",
    "\n",
    "vae = models.VAE(input_dim, latent_dim).cuda()\n",
    "optimizer = optim.Adam(vae.parameters(), lr=0.001)"
   ]
  },
  {
   "cell_type": "code",
   "execution_count": 4,
   "id": "b975859c",
   "metadata": {},
   "outputs": [],
   "source": [
    "def train_vae(vae, train_loader, optimizer, num_epochs):\n",
    "    loss_history = []\n",
    "    vae.train()\n",
    "    for epoch in range(num_epochs):\n",
    "        total_loss = 0\n",
    "        pbar = tqdm.tqdm(train_loader,\n",
    "                         leave=True,\n",
    "                         ncols=70,\n",
    "                         unit='batch')\n",
    "        start_time = time.time()\n",
    "        for batch_id, (x, _) in enumerate(pbar):\n",
    "            x = x.cuda()\n",
    "            optimizer.zero_grad()\n",
    "            x = x.view(-1, input_dim)\n",
    "            x_hat, mu, logvar = vae(x)\n",
    "            loss = models.vae_loss(x_hat, x, mu, logvar)\n",
    "            loss.backward()\n",
    "            optimizer.step()\n",
    "            total_loss += loss.item()\n",
    "            pbar.set_description(\"Batch {}/{}\".format(batch_id+1, len(train_loader)))\n",
    "        end_time = time.time()\n",
    "        loss_history.append(total_loss / len(train_loader.dataset))\n",
    "        print('Epoch [{}/{}], Total Loss: {:.3f}, Time: {:.2f}s'.format(\n",
    "            epoch + 1, \n",
    "            num_epochs, total_loss / len(train_loader.dataset), \n",
    "            end_time - start_time))\n",
    "    return loss_history"
   ]
  },
  {
   "cell_type": "code",
   "execution_count": 5,
   "id": "00a65485",
   "metadata": {
    "scrolled": true
   },
   "outputs": [
    {
     "name": "stderr",
     "output_type": "stream",
     "text": [
      "Batch 938/938: 100%|█████████████| 938/938 [00:37<00:00, 24.97batch/s]\n"
     ]
    },
    {
     "name": "stdout",
     "output_type": "stream",
     "text": [
      "Epoch [1/100], Total Loss: 43.320, Time: 37.57s\n"
     ]
    },
    {
     "name": "stderr",
     "output_type": "stream",
     "text": [
      "Batch 938/938: 100%|█████████████| 938/938 [00:37<00:00, 24.97batch/s]\n"
     ]
    },
    {
     "name": "stdout",
     "output_type": "stream",
     "text": [
      "Epoch [2/100], Total Loss: 34.492, Time: 37.57s\n"
     ]
    },
    {
     "name": "stderr",
     "output_type": "stream",
     "text": [
      "Batch 938/938: 100%|█████████████| 938/938 [00:36<00:00, 25.45batch/s]\n"
     ]
    },
    {
     "name": "stdout",
     "output_type": "stream",
     "text": [
      "Epoch [3/100], Total Loss: 32.929, Time: 36.86s\n"
     ]
    },
    {
     "name": "stderr",
     "output_type": "stream",
     "text": [
      "Batch 938/938: 100%|█████████████| 938/938 [00:38<00:00, 24.53batch/s]\n"
     ]
    },
    {
     "name": "stdout",
     "output_type": "stream",
     "text": [
      "Epoch [4/100], Total Loss: 32.162, Time: 38.24s\n"
     ]
    },
    {
     "name": "stderr",
     "output_type": "stream",
     "text": [
      "Batch 938/938: 100%|█████████████| 938/938 [00:37<00:00, 24.90batch/s]\n"
     ]
    },
    {
     "name": "stdout",
     "output_type": "stream",
     "text": [
      "Epoch [5/100], Total Loss: 31.715, Time: 37.68s\n"
     ]
    },
    {
     "name": "stderr",
     "output_type": "stream",
     "text": [
      "Batch 938/938: 100%|█████████████| 938/938 [00:37<00:00, 24.90batch/s]\n"
     ]
    },
    {
     "name": "stdout",
     "output_type": "stream",
     "text": [
      "Epoch [6/100], Total Loss: 31.388, Time: 37.68s\n"
     ]
    },
    {
     "name": "stderr",
     "output_type": "stream",
     "text": [
      "Batch 938/938: 100%|█████████████| 938/938 [00:40<00:00, 23.36batch/s]\n"
     ]
    },
    {
     "name": "stdout",
     "output_type": "stream",
     "text": [
      "Epoch [7/100], Total Loss: 31.149, Time: 40.16s\n"
     ]
    },
    {
     "name": "stderr",
     "output_type": "stream",
     "text": [
      "Batch 938/938: 100%|█████████████| 938/938 [00:36<00:00, 25.43batch/s]\n"
     ]
    },
    {
     "name": "stdout",
     "output_type": "stream",
     "text": [
      "Epoch [8/100], Total Loss: 31.010, Time: 36.89s\n"
     ]
    },
    {
     "name": "stderr",
     "output_type": "stream",
     "text": [
      "Batch 938/938: 100%|█████████████| 938/938 [00:37<00:00, 24.69batch/s]\n"
     ]
    },
    {
     "name": "stdout",
     "output_type": "stream",
     "text": [
      "Epoch [9/100], Total Loss: 30.833, Time: 38.00s\n"
     ]
    },
    {
     "name": "stderr",
     "output_type": "stream",
     "text": [
      "Batch 938/938: 100%|█████████████| 938/938 [00:37<00:00, 24.95batch/s]\n"
     ]
    },
    {
     "name": "stdout",
     "output_type": "stream",
     "text": [
      "Epoch [10/100], Total Loss: 30.760, Time: 37.59s\n"
     ]
    },
    {
     "name": "stderr",
     "output_type": "stream",
     "text": [
      "Batch 938/938: 100%|█████████████| 938/938 [00:38<00:00, 24.55batch/s]\n"
     ]
    },
    {
     "name": "stdout",
     "output_type": "stream",
     "text": [
      "Epoch [11/100], Total Loss: 30.650, Time: 38.21s\n"
     ]
    },
    {
     "name": "stderr",
     "output_type": "stream",
     "text": [
      "Batch 938/938: 100%|█████████████| 938/938 [00:41<00:00, 22.60batch/s]\n"
     ]
    },
    {
     "name": "stdout",
     "output_type": "stream",
     "text": [
      "Epoch [12/100], Total Loss: 30.528, Time: 41.50s\n"
     ]
    },
    {
     "name": "stderr",
     "output_type": "stream",
     "text": [
      "Batch 938/938: 100%|█████████████| 938/938 [00:43<00:00, 21.35batch/s]\n"
     ]
    },
    {
     "name": "stdout",
     "output_type": "stream",
     "text": [
      "Epoch [13/100], Total Loss: 30.481, Time: 43.93s\n"
     ]
    },
    {
     "name": "stderr",
     "output_type": "stream",
     "text": [
      "Batch 938/938: 100%|█████████████| 938/938 [00:37<00:00, 24.87batch/s]\n"
     ]
    },
    {
     "name": "stdout",
     "output_type": "stream",
     "text": [
      "Epoch [14/100], Total Loss: 30.407, Time: 37.72s\n"
     ]
    },
    {
     "name": "stderr",
     "output_type": "stream",
     "text": [
      "Batch 938/938: 100%|█████████████| 938/938 [00:39<00:00, 23.53batch/s]\n"
     ]
    },
    {
     "name": "stdout",
     "output_type": "stream",
     "text": [
      "Epoch [15/100], Total Loss: 30.341, Time: 39.87s\n"
     ]
    },
    {
     "name": "stderr",
     "output_type": "stream",
     "text": [
      "Batch 938/938: 100%|█████████████| 938/938 [00:37<00:00, 24.94batch/s]\n"
     ]
    },
    {
     "name": "stdout",
     "output_type": "stream",
     "text": [
      "Epoch [16/100], Total Loss: 30.287, Time: 37.61s\n"
     ]
    },
    {
     "name": "stderr",
     "output_type": "stream",
     "text": [
      "Batch 938/938: 100%|█████████████| 938/938 [00:37<00:00, 25.35batch/s]\n"
     ]
    },
    {
     "name": "stdout",
     "output_type": "stream",
     "text": [
      "Epoch [17/100], Total Loss: 30.201, Time: 37.00s\n"
     ]
    },
    {
     "name": "stderr",
     "output_type": "stream",
     "text": [
      "Batch 938/938: 100%|█████████████| 938/938 [00:37<00:00, 25.22batch/s]\n"
     ]
    },
    {
     "name": "stdout",
     "output_type": "stream",
     "text": [
      "Epoch [18/100], Total Loss: 30.174, Time: 37.20s\n"
     ]
    },
    {
     "name": "stderr",
     "output_type": "stream",
     "text": [
      "Batch 938/938: 100%|█████████████| 938/938 [00:36<00:00, 25.37batch/s]\n"
     ]
    },
    {
     "name": "stdout",
     "output_type": "stream",
     "text": [
      "Epoch [19/100], Total Loss: 30.106, Time: 36.98s\n"
     ]
    },
    {
     "name": "stderr",
     "output_type": "stream",
     "text": [
      "Batch 938/938: 100%|█████████████| 938/938 [00:37<00:00, 25.19batch/s]\n"
     ]
    },
    {
     "name": "stdout",
     "output_type": "stream",
     "text": [
      "Epoch [20/100], Total Loss: 30.070, Time: 37.23s\n"
     ]
    },
    {
     "name": "stderr",
     "output_type": "stream",
     "text": [
      "Batch 938/938: 100%|█████████████| 938/938 [00:37<00:00, 25.31batch/s]\n"
     ]
    },
    {
     "name": "stdout",
     "output_type": "stream",
     "text": [
      "Epoch [21/100], Total Loss: 29.983, Time: 37.06s\n"
     ]
    },
    {
     "name": "stderr",
     "output_type": "stream",
     "text": [
      "Batch 938/938: 100%|█████████████| 938/938 [00:37<00:00, 25.25batch/s]\n"
     ]
    },
    {
     "name": "stdout",
     "output_type": "stream",
     "text": [
      "Epoch [22/100], Total Loss: 29.929, Time: 37.15s\n"
     ]
    },
    {
     "name": "stderr",
     "output_type": "stream",
     "text": [
      "Batch 938/938: 100%|█████████████| 938/938 [00:37<00:00, 25.29batch/s]\n"
     ]
    },
    {
     "name": "stdout",
     "output_type": "stream",
     "text": [
      "Epoch [23/100], Total Loss: 29.907, Time: 37.10s\n"
     ]
    },
    {
     "name": "stderr",
     "output_type": "stream",
     "text": [
      "Batch 938/938: 100%|█████████████| 938/938 [00:37<00:00, 25.26batch/s]\n"
     ]
    },
    {
     "name": "stdout",
     "output_type": "stream",
     "text": [
      "Epoch [24/100], Total Loss: 29.869, Time: 37.15s\n"
     ]
    },
    {
     "name": "stderr",
     "output_type": "stream",
     "text": [
      "Batch 938/938: 100%|█████████████| 938/938 [00:36<00:00, 25.36batch/s]\n"
     ]
    },
    {
     "name": "stdout",
     "output_type": "stream",
     "text": [
      "Epoch [25/100], Total Loss: 29.790, Time: 36.99s\n"
     ]
    },
    {
     "name": "stderr",
     "output_type": "stream",
     "text": [
      "Batch 938/938: 100%|█████████████| 938/938 [00:37<00:00, 25.29batch/s]\n"
     ]
    },
    {
     "name": "stdout",
     "output_type": "stream",
     "text": [
      "Epoch [26/100], Total Loss: 29.780, Time: 37.08s\n"
     ]
    },
    {
     "name": "stderr",
     "output_type": "stream",
     "text": [
      "Batch 938/938: 100%|█████████████| 938/938 [00:37<00:00, 25.13batch/s]\n"
     ]
    },
    {
     "name": "stdout",
     "output_type": "stream",
     "text": [
      "Epoch [27/100], Total Loss: 29.744, Time: 37.32s\n"
     ]
    },
    {
     "name": "stderr",
     "output_type": "stream",
     "text": [
      "Batch 938/938: 100%|█████████████| 938/938 [00:37<00:00, 25.31batch/s]\n"
     ]
    },
    {
     "name": "stdout",
     "output_type": "stream",
     "text": [
      "Epoch [28/100], Total Loss: 29.690, Time: 37.07s\n"
     ]
    },
    {
     "name": "stderr",
     "output_type": "stream",
     "text": [
      "Batch 938/938: 100%|█████████████| 938/938 [00:37<00:00, 25.25batch/s]\n"
     ]
    },
    {
     "name": "stdout",
     "output_type": "stream",
     "text": [
      "Epoch [29/100], Total Loss: 29.678, Time: 37.15s\n"
     ]
    },
    {
     "name": "stderr",
     "output_type": "stream",
     "text": [
      "Batch 938/938: 100%|█████████████| 938/938 [00:37<00:00, 25.35batch/s]\n"
     ]
    },
    {
     "name": "stdout",
     "output_type": "stream",
     "text": [
      "Epoch [30/100], Total Loss: 29.618, Time: 37.00s\n"
     ]
    },
    {
     "name": "stderr",
     "output_type": "stream",
     "text": [
      "Batch 938/938: 100%|█████████████| 938/938 [00:37<00:00, 25.24batch/s]\n"
     ]
    },
    {
     "name": "stdout",
     "output_type": "stream",
     "text": [
      "Epoch [31/100], Total Loss: 29.590, Time: 37.17s\n"
     ]
    },
    {
     "name": "stderr",
     "output_type": "stream",
     "text": [
      "Batch 938/938: 100%|█████████████| 938/938 [00:37<00:00, 24.93batch/s]\n"
     ]
    },
    {
     "name": "stdout",
     "output_type": "stream",
     "text": [
      "Epoch [32/100], Total Loss: 29.570, Time: 37.62s\n"
     ]
    },
    {
     "name": "stderr",
     "output_type": "stream",
     "text": [
      "Batch 938/938: 100%|█████████████| 938/938 [00:37<00:00, 25.22batch/s]\n"
     ]
    },
    {
     "name": "stdout",
     "output_type": "stream",
     "text": [
      "Epoch [33/100], Total Loss: 29.524, Time: 37.20s\n"
     ]
    },
    {
     "name": "stderr",
     "output_type": "stream",
     "text": [
      "Batch 938/938: 100%|█████████████| 938/938 [00:37<00:00, 25.19batch/s]\n"
     ]
    },
    {
     "name": "stdout",
     "output_type": "stream",
     "text": [
      "Epoch [34/100], Total Loss: 29.488, Time: 37.25s\n"
     ]
    },
    {
     "name": "stderr",
     "output_type": "stream",
     "text": [
      "Batch 938/938: 100%|█████████████| 938/938 [00:37<00:00, 25.31batch/s]\n"
     ]
    },
    {
     "name": "stdout",
     "output_type": "stream",
     "text": [
      "Epoch [35/100], Total Loss: 29.492, Time: 37.06s\n"
     ]
    },
    {
     "name": "stderr",
     "output_type": "stream",
     "text": [
      "Batch 938/938: 100%|█████████████| 938/938 [00:36<00:00, 25.44batch/s]\n"
     ]
    },
    {
     "name": "stdout",
     "output_type": "stream",
     "text": [
      "Epoch [36/100], Total Loss: 29.436, Time: 36.87s\n"
     ]
    },
    {
     "name": "stderr",
     "output_type": "stream",
     "text": [
      "Batch 938/938: 100%|█████████████| 938/938 [00:36<00:00, 25.41batch/s]\n"
     ]
    },
    {
     "name": "stdout",
     "output_type": "stream",
     "text": [
      "Epoch [37/100], Total Loss: 29.392, Time: 36.92s\n"
     ]
    },
    {
     "name": "stderr",
     "output_type": "stream",
     "text": [
      "Batch 938/938: 100%|█████████████| 938/938 [00:37<00:00, 25.32batch/s]\n"
     ]
    },
    {
     "name": "stdout",
     "output_type": "stream",
     "text": [
      "Epoch [38/100], Total Loss: 29.386, Time: 37.05s\n"
     ]
    },
    {
     "name": "stderr",
     "output_type": "stream",
     "text": [
      "Batch 938/938: 100%|█████████████| 938/938 [00:37<00:00, 25.33batch/s]\n"
     ]
    },
    {
     "name": "stdout",
     "output_type": "stream",
     "text": [
      "Epoch [39/100], Total Loss: 29.376, Time: 37.04s\n"
     ]
    },
    {
     "name": "stderr",
     "output_type": "stream",
     "text": [
      "Batch 938/938: 100%|█████████████| 938/938 [00:37<00:00, 25.19batch/s]\n"
     ]
    },
    {
     "name": "stdout",
     "output_type": "stream",
     "text": [
      "Epoch [40/100], Total Loss: 29.329, Time: 37.25s\n"
     ]
    },
    {
     "name": "stderr",
     "output_type": "stream",
     "text": [
      "Batch 938/938: 100%|█████████████| 938/938 [00:37<00:00, 25.29batch/s]\n"
     ]
    },
    {
     "name": "stdout",
     "output_type": "stream",
     "text": [
      "Epoch [41/100], Total Loss: 29.336, Time: 37.09s\n"
     ]
    },
    {
     "name": "stderr",
     "output_type": "stream",
     "text": [
      "Batch 938/938: 100%|█████████████| 938/938 [00:36<00:00, 25.48batch/s]\n"
     ]
    },
    {
     "name": "stdout",
     "output_type": "stream",
     "text": [
      "Epoch [42/100], Total Loss: 29.313, Time: 36.82s\n"
     ]
    },
    {
     "name": "stderr",
     "output_type": "stream",
     "text": [
      "Batch 938/938: 100%|█████████████| 938/938 [00:37<00:00, 25.02batch/s]\n"
     ]
    },
    {
     "name": "stdout",
     "output_type": "stream",
     "text": [
      "Epoch [43/100], Total Loss: 29.276, Time: 37.49s\n"
     ]
    },
    {
     "name": "stderr",
     "output_type": "stream",
     "text": [
      "Batch 938/938: 100%|█████████████| 938/938 [00:37<00:00, 24.83batch/s]\n"
     ]
    },
    {
     "name": "stdout",
     "output_type": "stream",
     "text": [
      "Epoch [44/100], Total Loss: 29.263, Time: 37.78s\n"
     ]
    },
    {
     "name": "stderr",
     "output_type": "stream",
     "text": [
      "Batch 938/938: 100%|█████████████| 938/938 [00:41<00:00, 22.87batch/s]\n"
     ]
    },
    {
     "name": "stdout",
     "output_type": "stream",
     "text": [
      "Epoch [45/100], Total Loss: 29.230, Time: 41.01s\n"
     ]
    },
    {
     "name": "stderr",
     "output_type": "stream",
     "text": [
      "Batch 938/938: 100%|█████████████| 938/938 [00:37<00:00, 25.18batch/s]\n"
     ]
    },
    {
     "name": "stdout",
     "output_type": "stream",
     "text": [
      "Epoch [46/100], Total Loss: 29.212, Time: 37.26s\n"
     ]
    },
    {
     "name": "stderr",
     "output_type": "stream",
     "text": [
      "Batch 938/938: 100%|█████████████| 938/938 [00:26<00:00, 35.56batch/s]\n"
     ]
    },
    {
     "name": "stdout",
     "output_type": "stream",
     "text": [
      "Epoch [47/100], Total Loss: 29.192, Time: 26.38s\n"
     ]
    },
    {
     "name": "stderr",
     "output_type": "stream",
     "text": [
      "Batch 938/938: 100%|█████████████| 938/938 [00:33<00:00, 28.00batch/s]\n"
     ]
    },
    {
     "name": "stdout",
     "output_type": "stream",
     "text": [
      "Epoch [48/100], Total Loss: 29.196, Time: 33.50s\n"
     ]
    },
    {
     "name": "stderr",
     "output_type": "stream",
     "text": [
      "Batch 938/938: 100%|█████████████| 938/938 [00:27<00:00, 33.62batch/s]\n"
     ]
    },
    {
     "name": "stdout",
     "output_type": "stream",
     "text": [
      "Epoch [49/100], Total Loss: 29.170, Time: 27.90s\n"
     ]
    },
    {
     "name": "stderr",
     "output_type": "stream",
     "text": [
      "Batch 938/938: 100%|█████████████| 938/938 [00:25<00:00, 36.39batch/s]\n"
     ]
    },
    {
     "name": "stdout",
     "output_type": "stream",
     "text": [
      "Epoch [50/100], Total Loss: 29.150, Time: 25.78s\n"
     ]
    },
    {
     "name": "stderr",
     "output_type": "stream",
     "text": [
      "Batch 938/938: 100%|█████████████| 938/938 [00:26<00:00, 35.67batch/s]\n"
     ]
    },
    {
     "name": "stdout",
     "output_type": "stream",
     "text": [
      "Epoch [51/100], Total Loss: 29.095, Time: 26.30s\n"
     ]
    },
    {
     "name": "stderr",
     "output_type": "stream",
     "text": [
      "Batch 938/938: 100%|█████████████| 938/938 [00:23<00:00, 40.44batch/s]\n"
     ]
    },
    {
     "name": "stdout",
     "output_type": "stream",
     "text": [
      "Epoch [52/100], Total Loss: 29.137, Time: 23.20s\n"
     ]
    },
    {
     "name": "stderr",
     "output_type": "stream",
     "text": [
      "Batch 938/938: 100%|█████████████| 938/938 [00:24<00:00, 38.87batch/s]\n"
     ]
    },
    {
     "name": "stdout",
     "output_type": "stream",
     "text": [
      "Epoch [53/100], Total Loss: 29.078, Time: 24.13s\n"
     ]
    },
    {
     "name": "stderr",
     "output_type": "stream",
     "text": [
      "Batch 938/938: 100%|█████████████| 938/938 [00:21<00:00, 44.47batch/s]\n"
     ]
    },
    {
     "name": "stdout",
     "output_type": "stream",
     "text": [
      "Epoch [54/100], Total Loss: 29.062, Time: 21.09s\n"
     ]
    },
    {
     "name": "stderr",
     "output_type": "stream",
     "text": [
      "Batch 938/938: 100%|█████████████| 938/938 [00:20<00:00, 45.89batch/s]\n"
     ]
    },
    {
     "name": "stdout",
     "output_type": "stream",
     "text": [
      "Epoch [55/100], Total Loss: 29.041, Time: 20.44s\n"
     ]
    },
    {
     "name": "stderr",
     "output_type": "stream",
     "text": [
      "Batch 938/938: 100%|█████████████| 938/938 [00:20<00:00, 45.46batch/s]\n"
     ]
    },
    {
     "name": "stdout",
     "output_type": "stream",
     "text": [
      "Epoch [56/100], Total Loss: 29.061, Time: 20.64s\n"
     ]
    },
    {
     "name": "stderr",
     "output_type": "stream",
     "text": [
      "Batch 938/938: 100%|█████████████| 938/938 [00:21<00:00, 43.25batch/s]\n"
     ]
    },
    {
     "name": "stdout",
     "output_type": "stream",
     "text": [
      "Epoch [57/100], Total Loss: 29.030, Time: 21.69s\n"
     ]
    },
    {
     "name": "stderr",
     "output_type": "stream",
     "text": [
      "Batch 938/938: 100%|█████████████| 938/938 [00:21<00:00, 43.77batch/s]\n"
     ]
    },
    {
     "name": "stdout",
     "output_type": "stream",
     "text": [
      "Epoch [58/100], Total Loss: 29.001, Time: 21.43s\n"
     ]
    },
    {
     "name": "stderr",
     "output_type": "stream",
     "text": [
      "Batch 938/938: 100%|█████████████| 938/938 [00:21<00:00, 43.52batch/s]\n"
     ]
    },
    {
     "name": "stdout",
     "output_type": "stream",
     "text": [
      "Epoch [59/100], Total Loss: 28.996, Time: 21.55s\n"
     ]
    },
    {
     "name": "stderr",
     "output_type": "stream",
     "text": [
      "Batch 938/938: 100%|█████████████| 938/938 [00:25<00:00, 36.78batch/s]\n"
     ]
    },
    {
     "name": "stdout",
     "output_type": "stream",
     "text": [
      "Epoch [60/100], Total Loss: 29.004, Time: 25.50s\n"
     ]
    },
    {
     "name": "stderr",
     "output_type": "stream",
     "text": [
      "Batch 938/938: 100%|█████████████| 938/938 [00:29<00:00, 32.26batch/s]\n"
     ]
    },
    {
     "name": "stdout",
     "output_type": "stream",
     "text": [
      "Epoch [61/100], Total Loss: 28.987, Time: 29.08s\n"
     ]
    },
    {
     "name": "stderr",
     "output_type": "stream",
     "text": [
      "Batch 938/938: 100%|█████████████| 938/938 [00:25<00:00, 37.03batch/s]\n"
     ]
    },
    {
     "name": "stdout",
     "output_type": "stream",
     "text": [
      "Epoch [62/100], Total Loss: 28.976, Time: 25.33s\n"
     ]
    },
    {
     "name": "stderr",
     "output_type": "stream",
     "text": [
      "Batch 938/938: 100%|█████████████| 938/938 [00:24<00:00, 37.87batch/s]\n"
     ]
    },
    {
     "name": "stdout",
     "output_type": "stream",
     "text": [
      "Epoch [63/100], Total Loss: 28.938, Time: 24.77s\n"
     ]
    },
    {
     "name": "stderr",
     "output_type": "stream",
     "text": [
      "Batch 938/938: 100%|█████████████| 938/938 [00:24<00:00, 37.97batch/s]\n"
     ]
    },
    {
     "name": "stdout",
     "output_type": "stream",
     "text": [
      "Epoch [64/100], Total Loss: 28.920, Time: 24.71s\n"
     ]
    },
    {
     "name": "stderr",
     "output_type": "stream",
     "text": [
      "Batch 938/938: 100%|█████████████| 938/938 [00:25<00:00, 36.45batch/s]\n"
     ]
    },
    {
     "name": "stdout",
     "output_type": "stream",
     "text": [
      "Epoch [65/100], Total Loss: 28.907, Time: 25.73s\n"
     ]
    },
    {
     "name": "stderr",
     "output_type": "stream",
     "text": [
      "Batch 938/938: 100%|█████████████| 938/938 [00:24<00:00, 37.71batch/s]\n"
     ]
    },
    {
     "name": "stdout",
     "output_type": "stream",
     "text": [
      "Epoch [66/100], Total Loss: 28.906, Time: 24.88s\n"
     ]
    },
    {
     "name": "stderr",
     "output_type": "stream",
     "text": [
      "Batch 938/938: 100%|█████████████| 938/938 [00:27<00:00, 34.72batch/s]\n"
     ]
    },
    {
     "name": "stdout",
     "output_type": "stream",
     "text": [
      "Epoch [67/100], Total Loss: 28.877, Time: 27.01s\n"
     ]
    },
    {
     "name": "stderr",
     "output_type": "stream",
     "text": [
      "Batch 938/938: 100%|█████████████| 938/938 [00:21<00:00, 43.88batch/s]\n"
     ]
    },
    {
     "name": "stdout",
     "output_type": "stream",
     "text": [
      "Epoch [68/100], Total Loss: 28.874, Time: 21.38s\n"
     ]
    },
    {
     "name": "stderr",
     "output_type": "stream",
     "text": [
      "Batch 938/938: 100%|█████████████| 938/938 [00:25<00:00, 37.24batch/s]\n"
     ]
    },
    {
     "name": "stdout",
     "output_type": "stream",
     "text": [
      "Epoch [69/100], Total Loss: 28.888, Time: 25.19s\n"
     ]
    },
    {
     "name": "stderr",
     "output_type": "stream",
     "text": [
      "Batch 938/938: 100%|█████████████| 938/938 [00:24<00:00, 37.90batch/s]\n"
     ]
    },
    {
     "name": "stdout",
     "output_type": "stream",
     "text": [
      "Epoch [70/100], Total Loss: 28.842, Time: 24.75s\n"
     ]
    },
    {
     "name": "stderr",
     "output_type": "stream",
     "text": [
      "Batch 938/938: 100%|█████████████| 938/938 [00:24<00:00, 38.21batch/s]\n"
     ]
    },
    {
     "name": "stdout",
     "output_type": "stream",
     "text": [
      "Epoch [71/100], Total Loss: 28.862, Time: 24.55s\n"
     ]
    },
    {
     "name": "stderr",
     "output_type": "stream",
     "text": [
      "Batch 938/938: 100%|█████████████| 938/938 [00:24<00:00, 37.62batch/s]\n"
     ]
    },
    {
     "name": "stdout",
     "output_type": "stream",
     "text": [
      "Epoch [72/100], Total Loss: 28.830, Time: 24.93s\n"
     ]
    },
    {
     "name": "stderr",
     "output_type": "stream",
     "text": [
      "Batch 938/938: 100%|█████████████| 938/938 [00:24<00:00, 37.90batch/s]\n"
     ]
    },
    {
     "name": "stdout",
     "output_type": "stream",
     "text": [
      "Epoch [73/100], Total Loss: 28.816, Time: 24.75s\n"
     ]
    },
    {
     "name": "stderr",
     "output_type": "stream",
     "text": [
      "Batch 938/938: 100%|█████████████| 938/938 [00:24<00:00, 37.58batch/s]\n"
     ]
    },
    {
     "name": "stdout",
     "output_type": "stream",
     "text": [
      "Epoch [74/100], Total Loss: 28.805, Time: 24.96s\n"
     ]
    },
    {
     "name": "stderr",
     "output_type": "stream",
     "text": [
      "Batch 938/938: 100%|█████████████| 938/938 [00:24<00:00, 37.95batch/s]\n"
     ]
    },
    {
     "name": "stdout",
     "output_type": "stream",
     "text": [
      "Epoch [75/100], Total Loss: 28.825, Time: 24.72s\n"
     ]
    },
    {
     "name": "stderr",
     "output_type": "stream",
     "text": [
      "Batch 938/938: 100%|█████████████| 938/938 [00:24<00:00, 37.88batch/s]\n"
     ]
    },
    {
     "name": "stdout",
     "output_type": "stream",
     "text": [
      "Epoch [76/100], Total Loss: 28.799, Time: 24.76s\n"
     ]
    },
    {
     "name": "stderr",
     "output_type": "stream",
     "text": [
      "Batch 938/938: 100%|█████████████| 938/938 [00:25<00:00, 37.11batch/s]\n"
     ]
    },
    {
     "name": "stdout",
     "output_type": "stream",
     "text": [
      "Epoch [77/100], Total Loss: 28.788, Time: 25.28s\n"
     ]
    },
    {
     "name": "stderr",
     "output_type": "stream",
     "text": [
      "Batch 938/938: 100%|█████████████| 938/938 [00:24<00:00, 37.66batch/s]\n"
     ]
    },
    {
     "name": "stdout",
     "output_type": "stream",
     "text": [
      "Epoch [78/100], Total Loss: 28.764, Time: 24.91s\n"
     ]
    },
    {
     "name": "stderr",
     "output_type": "stream",
     "text": [
      "Batch 938/938: 100%|█████████████| 938/938 [00:24<00:00, 38.24batch/s]\n"
     ]
    },
    {
     "name": "stdout",
     "output_type": "stream",
     "text": [
      "Epoch [79/100], Total Loss: 28.770, Time: 24.53s\n"
     ]
    },
    {
     "name": "stderr",
     "output_type": "stream",
     "text": [
      "Batch 938/938: 100%|█████████████| 938/938 [00:24<00:00, 38.62batch/s]\n"
     ]
    },
    {
     "name": "stdout",
     "output_type": "stream",
     "text": [
      "Epoch [80/100], Total Loss: 28.760, Time: 24.29s\n"
     ]
    },
    {
     "name": "stderr",
     "output_type": "stream",
     "text": [
      "Batch 938/938: 100%|█████████████| 938/938 [00:28<00:00, 32.43batch/s]\n"
     ]
    },
    {
     "name": "stdout",
     "output_type": "stream",
     "text": [
      "Epoch [81/100], Total Loss: 28.766, Time: 28.93s\n"
     ]
    },
    {
     "name": "stderr",
     "output_type": "stream",
     "text": [
      "Batch 938/938: 100%|█████████████| 938/938 [00:25<00:00, 36.37batch/s]\n"
     ]
    },
    {
     "name": "stdout",
     "output_type": "stream",
     "text": [
      "Epoch [82/100], Total Loss: 28.754, Time: 25.79s\n"
     ]
    },
    {
     "name": "stderr",
     "output_type": "stream",
     "text": [
      "Batch 938/938: 100%|█████████████| 938/938 [00:25<00:00, 36.75batch/s]\n"
     ]
    },
    {
     "name": "stdout",
     "output_type": "stream",
     "text": [
      "Epoch [83/100], Total Loss: 28.754, Time: 25.53s\n"
     ]
    },
    {
     "name": "stderr",
     "output_type": "stream",
     "text": [
      "Batch 938/938: 100%|█████████████| 938/938 [00:25<00:00, 36.64batch/s]\n"
     ]
    },
    {
     "name": "stdout",
     "output_type": "stream",
     "text": [
      "Epoch [84/100], Total Loss: 28.747, Time: 25.60s\n"
     ]
    },
    {
     "name": "stderr",
     "output_type": "stream",
     "text": [
      "Batch 938/938: 100%|█████████████| 938/938 [00:25<00:00, 36.67batch/s]\n"
     ]
    },
    {
     "name": "stdout",
     "output_type": "stream",
     "text": [
      "Epoch [85/100], Total Loss: 28.741, Time: 25.58s\n"
     ]
    },
    {
     "name": "stderr",
     "output_type": "stream",
     "text": [
      "Batch 938/938: 100%|█████████████| 938/938 [00:21<00:00, 43.59batch/s]\n"
     ]
    },
    {
     "name": "stdout",
     "output_type": "stream",
     "text": [
      "Epoch [86/100], Total Loss: 28.701, Time: 21.52s\n"
     ]
    },
    {
     "name": "stderr",
     "output_type": "stream",
     "text": [
      "Batch 938/938: 100%|█████████████| 938/938 [00:22<00:00, 41.17batch/s]\n"
     ]
    },
    {
     "name": "stdout",
     "output_type": "stream",
     "text": [
      "Epoch [87/100], Total Loss: 28.692, Time: 22.79s\n"
     ]
    },
    {
     "name": "stderr",
     "output_type": "stream",
     "text": [
      "Batch 938/938: 100%|█████████████| 938/938 [00:21<00:00, 44.40batch/s]\n"
     ]
    },
    {
     "name": "stdout",
     "output_type": "stream",
     "text": [
      "Epoch [88/100], Total Loss: 28.683, Time: 21.13s\n"
     ]
    },
    {
     "name": "stderr",
     "output_type": "stream",
     "text": [
      "Batch 938/938: 100%|█████████████| 938/938 [00:21<00:00, 43.03batch/s]\n"
     ]
    },
    {
     "name": "stdout",
     "output_type": "stream",
     "text": [
      "Epoch [89/100], Total Loss: 28.683, Time: 21.80s\n"
     ]
    },
    {
     "name": "stderr",
     "output_type": "stream",
     "text": [
      "Batch 938/938: 100%|█████████████| 938/938 [00:21<00:00, 43.03batch/s]\n"
     ]
    },
    {
     "name": "stdout",
     "output_type": "stream",
     "text": [
      "Epoch [90/100], Total Loss: 28.698, Time: 21.80s\n"
     ]
    },
    {
     "name": "stderr",
     "output_type": "stream",
     "text": [
      "Batch 938/938: 100%|█████████████| 938/938 [00:20<00:00, 45.61batch/s]\n"
     ]
    },
    {
     "name": "stdout",
     "output_type": "stream",
     "text": [
      "Epoch [91/100], Total Loss: 28.679, Time: 20.57s\n"
     ]
    },
    {
     "name": "stderr",
     "output_type": "stream",
     "text": [
      "Batch 938/938: 100%|█████████████| 938/938 [00:21<00:00, 42.91batch/s]\n"
     ]
    },
    {
     "name": "stdout",
     "output_type": "stream",
     "text": [
      "Epoch [92/100], Total Loss: 28.690, Time: 21.86s\n"
     ]
    },
    {
     "name": "stderr",
     "output_type": "stream",
     "text": [
      "Batch 938/938: 100%|█████████████| 938/938 [00:21<00:00, 44.48batch/s]\n"
     ]
    },
    {
     "name": "stdout",
     "output_type": "stream",
     "text": [
      "Epoch [93/100], Total Loss: 28.655, Time: 21.09s\n"
     ]
    },
    {
     "name": "stderr",
     "output_type": "stream",
     "text": [
      "Batch 938/938: 100%|█████████████| 938/938 [00:21<00:00, 44.11batch/s]\n"
     ]
    },
    {
     "name": "stdout",
     "output_type": "stream",
     "text": [
      "Epoch [94/100], Total Loss: 28.696, Time: 21.26s\n"
     ]
    },
    {
     "name": "stderr",
     "output_type": "stream",
     "text": [
      "Batch 938/938: 100%|█████████████| 938/938 [00:21<00:00, 44.04batch/s]\n"
     ]
    },
    {
     "name": "stdout",
     "output_type": "stream",
     "text": [
      "Epoch [95/100], Total Loss: 28.687, Time: 21.30s\n"
     ]
    },
    {
     "name": "stderr",
     "output_type": "stream",
     "text": [
      "Batch 938/938: 100%|█████████████| 938/938 [00:20<00:00, 44.95batch/s]\n"
     ]
    },
    {
     "name": "stdout",
     "output_type": "stream",
     "text": [
      "Epoch [96/100], Total Loss: 28.651, Time: 20.87s\n"
     ]
    },
    {
     "name": "stderr",
     "output_type": "stream",
     "text": [
      "Batch 938/938: 100%|█████████████| 938/938 [00:21<00:00, 44.53batch/s]\n"
     ]
    },
    {
     "name": "stdout",
     "output_type": "stream",
     "text": [
      "Epoch [97/100], Total Loss: 28.649, Time: 21.07s\n"
     ]
    },
    {
     "name": "stderr",
     "output_type": "stream",
     "text": [
      "Batch 938/938: 100%|█████████████| 938/938 [00:22<00:00, 42.41batch/s]\n"
     ]
    },
    {
     "name": "stdout",
     "output_type": "stream",
     "text": [
      "Epoch [98/100], Total Loss: 28.661, Time: 22.12s\n"
     ]
    },
    {
     "name": "stderr",
     "output_type": "stream",
     "text": [
      "Batch 938/938: 100%|█████████████| 938/938 [00:24<00:00, 37.87batch/s]\n"
     ]
    },
    {
     "name": "stdout",
     "output_type": "stream",
     "text": [
      "Epoch [99/100], Total Loss: 28.639, Time: 24.77s\n"
     ]
    },
    {
     "name": "stderr",
     "output_type": "stream",
     "text": [
      "Batch 938/938: 100%|█████████████| 938/938 [00:23<00:00, 40.78batch/s]"
     ]
    },
    {
     "name": "stdout",
     "output_type": "stream",
     "text": [
      "Epoch [100/100], Total Loss: 28.650, Time: 23.00s\n"
     ]
    },
    {
     "name": "stderr",
     "output_type": "stream",
     "text": [
      "\n"
     ]
    }
   ],
   "source": [
    "num_epochs = 100\n",
    "train_loader = DataLoader(training_data, batch_size=64, shuffle=True)\n",
    "loss_history = train_vae(vae, train_loader, optimizer, num_epochs)"
   ]
  },
  {
   "cell_type": "code",
   "execution_count": 6,
   "id": "dd1f9d78",
   "metadata": {
    "scrolled": true
   },
   "outputs": [
    {
     "data": {
      "image/png": "[encoded data removed]",
      "text/plain": [
       "<Figure size 640x480 with 1 Axes>"
      ]
     },
     "metadata": {},
     "output_type": "display_data"
    }
   ],
   "source": [
    "plt.plot(loss_history)\n",
    "plt.title(\"Loss History\")\n",
    "plt.xlabel(\"Epochs\")\n",
    "plt.ylabel(\"Loss\")\n",
    "plt.savefig(fname=\"./VAE_Loss.png\")\n",
    "plt.show()"
   ]
  },
  {
   "cell_type": "code",
   "execution_count": 7,
   "id": "6a73fb4b",
   "metadata": {},
   "outputs": [],
   "source": [
    "torch.save(vae.state_dict(), \"./models/VAE.pth\")\n",
    "del vae"
   ]
  },
  {
   "cell_type": "markdown",
   "id": "69204519",
   "metadata": {},
   "source": [
    "# GAN"
   ]
  },
  {
   "cell_type": "code",
   "execution_count": 18,
   "id": "45ea07e1",
   "metadata": {},
   "outputs": [],
   "source": [
    "latent_dim = 100\n",
    "output_dim = 784\n",
    "\n",
    "generator = models.Generator(latent_dim, output_dim).cuda()\n",
    "discriminator = models.Discriminator(output_dim).cuda()"
   ]
  },
  {
   "cell_type": "code",
   "execution_count": 19,
   "id": "1c823938",
   "metadata": {},
   "outputs": [],
   "source": [
    "criterion = nn.BCELoss()\n",
    "\n",
    "lr = 0.0002\n",
    "generator_optimizer = optim.Adam(generator.parameters(), lr=lr)\n",
    "discriminator_optimizer = optim.Adam(discriminator.parameters(), lr=lr)"
   ]
  },
  {
   "cell_type": "code",
   "execution_count": 22,
   "id": "fe43224b",
   "metadata": {},
   "outputs": [],
   "source": [
    "def train_gan(generator, discriminator, dataloader, num_epochs, critic_iterations):\n",
    "    generator.train()\n",
    "    discriminator.train()\n",
    "    loss_history_d, loss_history_g = [], []\n",
    "    \n",
    "    for epoch in range(num_epochs):\n",
    "        total_loss_d, total_loss_g = 0, 0\n",
    "        pbar = tqdm.tqdm(dataloader,\n",
    "                         leave=True,\n",
    "                         ncols=70,\n",
    "                         unit='batch')\n",
    "        start_time = time.time()\n",
    "        for batch_id, (real_images, _) in enumerate(pbar):\n",
    "            batch_size = real_images.size(0)\n",
    "            real_images = real_images.view(batch_size, -1).cuda()\n",
    "            \n",
    "            # Train Discrimitor\n",
    "            for _ in range(critic_iterations):\n",
    "                discriminator.zero_grad()\n",
    "                \n",
    "                # Real images\n",
    "                real_labels = torch.ones(batch_size, 1).cuda()\n",
    "                real_outputs = discriminator(real_images)\n",
    "                real_loss = criterion(real_outputs, real_labels)\n",
    "                \n",
    "                # Fake images\n",
    "                noise = torch.randn(batch_size, latent_dim)\n",
    "                noise = noise.cuda()\n",
    "                fake_images = generator(noise)\n",
    "                fake_labels = torch.zeros(batch_size, 1).cuda()\n",
    "                fake_outputs = discriminator(fake_images.detach())\n",
    "                fake_loss = criterion(fake_outputs, fake_labels)\n",
    "            \n",
    "                d_loss = real_loss + fake_loss\n",
    "                d_loss.backward()\n",
    "                discriminator_optimizer.step()\n",
    "                total_loss_d += d_loss.item()\n",
    "            \n",
    "            # Train Generator\n",
    "            generator.zero_grad()\n",
    "            fake_outputs = discriminator(fake_images)\n",
    "            g_loss = criterion(fake_outputs, real_labels)\n",
    "            g_loss.backward()\n",
    "            generator_optimizer.step()\n",
    "            \n",
    "            total_loss_g += g_loss.item()\n",
    "            \n",
    "            pbar.set_description(\"Batch {}/{}\".format(batch_id+1, len(dataloader)))\n",
    "            \n",
    "        end_time = time.time()\n",
    "        loss_history_d.append(total_loss_d / len(dataloader.dataset)*critic_iterations)\n",
    "        loss_history_g.append(total_loss_g / len(dataloader.dataset))\n",
    "        \n",
    "        print('Epoch [{}/{}], Discriminator Loss: {:.3f}, Generator Loss: {:.3f}, Time: {:.2f}s'.format(\n",
    "            epoch + 1, \n",
    "            num_epochs,\n",
    "            total_loss_d / len(dataloader.dataset),\n",
    "            total_loss_g / len(dataloader.dataset),\n",
    "            end_time - start_time))\n",
    "    return loss_history_d, loss_history_g"
   ]
  },
  {
   "cell_type": "markdown",
   "id": "34a5306b",
   "metadata": {},
   "source": [
    "### Instance 0\n",
    "critic_iterations = 1"
   ]
  },
  {
   "cell_type": "code",
   "execution_count": 15,
   "id": "d3b9554c",
   "metadata": {
    "scrolled": true
   },
   "outputs": [
    {
     "name": "stderr",
     "output_type": "stream",
     "text": [
      "Batch 469/469: 100%|█████████████| 469/469 [00:30<00:00, 15.36batch/s]\n"
     ]
    },
    {
     "name": "stdout",
     "output_type": "stream",
     "text": [
      "Epoch [1/100], Discriminator Loss: 0.003, Generator Loss: 0.044, Time: 30.53s\n"
     ]
    },
    {
     "name": "stderr",
     "output_type": "stream",
     "text": [
      "Batch 469/469: 100%|█████████████| 469/469 [00:32<00:00, 14.36batch/s]\n"
     ]
    },
    {
     "name": "stdout",
     "output_type": "stream",
     "text": [
      "Epoch [2/100], Discriminator Loss: 0.007, Generator Loss: 0.049, Time: 32.66s\n"
     ]
    },
    {
     "name": "stderr",
     "output_type": "stream",
     "text": [
      "Batch 469/469: 100%|█████████████| 469/469 [00:31<00:00, 14.96batch/s]\n"
     ]
    },
    {
     "name": "stdout",
     "output_type": "stream",
     "text": [
      "Epoch [3/100], Discriminator Loss: 0.004, Generator Loss: 0.022, Time: 31.36s\n"
     ]
    },
    {
     "name": "stderr",
     "output_type": "stream",
     "text": [
      "Batch 469/469: 100%|█████████████| 469/469 [00:31<00:00, 14.66batch/s]\n"
     ]
    },
    {
     "name": "stdout",
     "output_type": "stream",
     "text": [
      "Epoch [4/100], Discriminator Loss: 0.002, Generator Loss: 0.032, Time: 31.99s\n"
     ]
    },
    {
     "name": "stderr",
     "output_type": "stream",
     "text": [
      "Batch 469/469: 100%|█████████████| 469/469 [00:31<00:00, 15.05batch/s]\n"
     ]
    },
    {
     "name": "stdout",
     "output_type": "stream",
     "text": [
      "Epoch [5/100], Discriminator Loss: 0.003, Generator Loss: 0.046, Time: 31.17s\n"
     ]
    },
    {
     "name": "stderr",
     "output_type": "stream",
     "text": [
      "Batch 469/469: 100%|█████████████| 469/469 [00:31<00:00, 14.88batch/s]\n"
     ]
    },
    {
     "name": "stdout",
     "output_type": "stream",
     "text": [
      "Epoch [6/100], Discriminator Loss: 0.002, Generator Loss: 0.048, Time: 31.51s\n"
     ]
    },
    {
     "name": "stderr",
     "output_type": "stream",
     "text": [
      "Batch 469/469: 100%|█████████████| 469/469 [00:31<00:00, 14.80batch/s]\n"
     ]
    },
    {
     "name": "stdout",
     "output_type": "stream",
     "text": [
      "Epoch [7/100], Discriminator Loss: 0.002, Generator Loss: 0.040, Time: 31.68s\n"
     ]
    },
    {
     "name": "stderr",
     "output_type": "stream",
     "text": [
      "Batch 469/469: 100%|█████████████| 469/469 [00:32<00:00, 14.61batch/s]\n"
     ]
    },
    {
     "name": "stdout",
     "output_type": "stream",
     "text": [
      "Epoch [8/100], Discriminator Loss: 0.002, Generator Loss: 0.052, Time: 32.11s\n"
     ]
    },
    {
     "name": "stderr",
     "output_type": "stream",
     "text": [
      "Batch 469/469: 100%|█████████████| 469/469 [00:31<00:00, 14.71batch/s]\n"
     ]
    },
    {
     "name": "stdout",
     "output_type": "stream",
     "text": [
      "Epoch [9/100], Discriminator Loss: 0.002, Generator Loss: 0.048, Time: 31.89s\n"
     ]
    },
    {
     "name": "stderr",
     "output_type": "stream",
     "text": [
      "Batch 469/469: 100%|█████████████| 469/469 [00:31<00:00, 14.71batch/s]\n"
     ]
    },
    {
     "name": "stdout",
     "output_type": "stream",
     "text": [
      "Epoch [10/100], Discriminator Loss: 0.001, Generator Loss: 0.051, Time: 31.89s\n"
     ]
    },
    {
     "name": "stderr",
     "output_type": "stream",
     "text": [
      "Batch 469/469: 100%|█████████████| 469/469 [00:32<00:00, 14.56batch/s]\n"
     ]
    },
    {
     "name": "stdout",
     "output_type": "stream",
     "text": [
      "Epoch [11/100], Discriminator Loss: 0.002, Generator Loss: 0.050, Time: 32.22s\n"
     ]
    },
    {
     "name": "stderr",
     "output_type": "stream",
     "text": [
      "Batch 469/469: 100%|█████████████| 469/469 [00:31<00:00, 15.02batch/s]\n"
     ]
    },
    {
     "name": "stdout",
     "output_type": "stream",
     "text": [
      "Epoch [12/100], Discriminator Loss: 0.002, Generator Loss: 0.044, Time: 31.24s\n"
     ]
    },
    {
     "name": "stderr",
     "output_type": "stream",
     "text": [
      "Batch 469/469: 100%|█████████████| 469/469 [00:31<00:00, 14.80batch/s]\n"
     ]
    },
    {
     "name": "stdout",
     "output_type": "stream",
     "text": [
      "Epoch [13/100], Discriminator Loss: 0.002, Generator Loss: 0.041, Time: 31.69s\n"
     ]
    },
    {
     "name": "stderr",
     "output_type": "stream",
     "text": [
      "Batch 469/469: 100%|█████████████| 469/469 [00:31<00:00, 14.88batch/s]\n"
     ]
    },
    {
     "name": "stdout",
     "output_type": "stream",
     "text": [
      "Epoch [14/100], Discriminator Loss: 0.002, Generator Loss: 0.042, Time: 31.53s\n"
     ]
    },
    {
     "name": "stderr",
     "output_type": "stream",
     "text": [
      "Batch 469/469: 100%|█████████████| 469/469 [00:31<00:00, 14.67batch/s]\n"
     ]
    },
    {
     "name": "stdout",
     "output_type": "stream",
     "text": [
      "Epoch [15/100], Discriminator Loss: 0.002, Generator Loss: 0.043, Time: 31.98s\n"
     ]
    },
    {
     "name": "stderr",
     "output_type": "stream",
     "text": [
      "Batch 469/469: 100%|█████████████| 469/469 [00:31<00:00, 14.82batch/s]\n"
     ]
    },
    {
     "name": "stdout",
     "output_type": "stream",
     "text": [
      "Epoch [16/100], Discriminator Loss: 0.002, Generator Loss: 0.040, Time: 31.64s\n"
     ]
    },
    {
     "name": "stderr",
     "output_type": "stream",
     "text": [
      "Batch 469/469: 100%|█████████████| 469/469 [00:31<00:00, 15.07batch/s]\n"
     ]
    },
    {
     "name": "stdout",
     "output_type": "stream",
     "text": [
      "Epoch [17/100], Discriminator Loss: 0.002, Generator Loss: 0.040, Time: 31.13s\n"
     ]
    },
    {
     "name": "stderr",
     "output_type": "stream",
     "text": [
      "Batch 469/469: 100%|█████████████| 469/469 [00:31<00:00, 14.85batch/s]\n"
     ]
    },
    {
     "name": "stdout",
     "output_type": "stream",
     "text": [
      "Epoch [18/100], Discriminator Loss: 0.002, Generator Loss: 0.038, Time: 31.58s\n"
     ]
    },
    {
     "name": "stderr",
     "output_type": "stream",
     "text": [
      "Batch 469/469: 100%|█████████████| 469/469 [00:31<00:00, 14.88batch/s]\n"
     ]
    },
    {
     "name": "stdout",
     "output_type": "stream",
     "text": [
      "Epoch [19/100], Discriminator Loss: 0.002, Generator Loss: 0.038, Time: 31.52s\n"
     ]
    },
    {
     "name": "stderr",
     "output_type": "stream",
     "text": [
      "Batch 469/469: 100%|█████████████| 469/469 [00:31<00:00, 14.77batch/s]\n"
     ]
    },
    {
     "name": "stdout",
     "output_type": "stream",
     "text": [
      "Epoch [20/100], Discriminator Loss: 0.002, Generator Loss: 0.035, Time: 31.75s\n"
     ]
    },
    {
     "name": "stderr",
     "output_type": "stream",
     "text": [
      "Batch 469/469: 100%|█████████████| 469/469 [00:31<00:00, 14.96batch/s]\n"
     ]
    },
    {
     "name": "stdout",
     "output_type": "stream",
     "text": [
      "Epoch [21/100], Discriminator Loss: 0.002, Generator Loss: 0.039, Time: 31.35s\n"
     ]
    },
    {
     "name": "stderr",
     "output_type": "stream",
     "text": [
      "Batch 469/469: 100%|█████████████| 469/469 [00:34<00:00, 13.69batch/s]\n"
     ]
    },
    {
     "name": "stdout",
     "output_type": "stream",
     "text": [
      "Epoch [22/100], Discriminator Loss: 0.002, Generator Loss: 0.038, Time: 34.25s\n"
     ]
    },
    {
     "name": "stderr",
     "output_type": "stream",
     "text": [
      "Batch 469/469: 100%|█████████████| 469/469 [00:31<00:00, 14.75batch/s]\n"
     ]
    },
    {
     "name": "stdout",
     "output_type": "stream",
     "text": [
      "Epoch [23/100], Discriminator Loss: 0.002, Generator Loss: 0.037, Time: 31.80s\n"
     ]
    },
    {
     "name": "stderr",
     "output_type": "stream",
     "text": [
      "Batch 469/469: 100%|█████████████| 469/469 [00:31<00:00, 14.89batch/s]\n"
     ]
    },
    {
     "name": "stdout",
     "output_type": "stream",
     "text": [
      "Epoch [24/100], Discriminator Loss: 0.002, Generator Loss: 0.033, Time: 31.50s\n"
     ]
    },
    {
     "name": "stderr",
     "output_type": "stream",
     "text": [
      "Batch 469/469: 100%|█████████████| 469/469 [00:31<00:00, 15.01batch/s]\n"
     ]
    },
    {
     "name": "stdout",
     "output_type": "stream",
     "text": [
      "Epoch [25/100], Discriminator Loss: 0.003, Generator Loss: 0.031, Time: 31.25s\n"
     ]
    },
    {
     "name": "stderr",
     "output_type": "stream",
     "text": [
      "Batch 469/469: 100%|█████████████| 469/469 [00:31<00:00, 14.75batch/s]\n"
     ]
    },
    {
     "name": "stdout",
     "output_type": "stream",
     "text": [
      "Epoch [26/100], Discriminator Loss: 0.003, Generator Loss: 0.032, Time: 31.79s\n"
     ]
    },
    {
     "name": "stderr",
     "output_type": "stream",
     "text": [
      "Batch 469/469: 100%|█████████████| 469/469 [00:31<00:00, 14.87batch/s]\n"
     ]
    },
    {
     "name": "stdout",
     "output_type": "stream",
     "text": [
      "Epoch [27/100], Discriminator Loss: 0.003, Generator Loss: 0.027, Time: 31.54s\n"
     ]
    },
    {
     "name": "stderr",
     "output_type": "stream",
     "text": [
      "Batch 469/469: 100%|█████████████| 469/469 [00:31<00:00, 14.80batch/s]\n"
     ]
    },
    {
     "name": "stdout",
     "output_type": "stream",
     "text": [
      "Epoch [28/100], Discriminator Loss: 0.003, Generator Loss: 0.027, Time: 31.69s\n"
     ]
    },
    {
     "name": "stderr",
     "output_type": "stream",
     "text": [
      "Batch 469/469: 100%|█████████████| 469/469 [00:31<00:00, 14.98batch/s]\n"
     ]
    },
    {
     "name": "stdout",
     "output_type": "stream",
     "text": [
      "Epoch [29/100], Discriminator Loss: 0.003, Generator Loss: 0.027, Time: 31.30s\n"
     ]
    },
    {
     "name": "stderr",
     "output_type": "stream",
     "text": [
      "Batch 469/469: 100%|█████████████| 469/469 [00:31<00:00, 14.79batch/s]\n"
     ]
    },
    {
     "name": "stdout",
     "output_type": "stream",
     "text": [
      "Epoch [30/100], Discriminator Loss: 0.003, Generator Loss: 0.028, Time: 31.72s\n"
     ]
    },
    {
     "name": "stderr",
     "output_type": "stream",
     "text": [
      "Batch 469/469: 100%|█████████████| 469/469 [00:31<00:00, 14.77batch/s]\n"
     ]
    },
    {
     "name": "stdout",
     "output_type": "stream",
     "text": [
      "Epoch [31/100], Discriminator Loss: 0.003, Generator Loss: 0.031, Time: 31.75s\n"
     ]
    },
    {
     "name": "stderr",
     "output_type": "stream",
     "text": [
      "Batch 469/469: 100%|█████████████| 469/469 [00:31<00:00, 14.80batch/s]\n"
     ]
    },
    {
     "name": "stdout",
     "output_type": "stream",
     "text": [
      "Epoch [32/100], Discriminator Loss: 0.003, Generator Loss: 0.030, Time: 31.69s\n"
     ]
    },
    {
     "name": "stderr",
     "output_type": "stream",
     "text": [
      "Batch 469/469: 100%|█████████████| 469/469 [00:31<00:00, 14.80batch/s]\n"
     ]
    },
    {
     "name": "stdout",
     "output_type": "stream",
     "text": [
      "Epoch [33/100], Discriminator Loss: 0.003, Generator Loss: 0.032, Time: 31.68s\n"
     ]
    },
    {
     "name": "stderr",
     "output_type": "stream",
     "text": [
      "Batch 469/469: 100%|█████████████| 469/469 [00:32<00:00, 14.62batch/s]\n"
     ]
    },
    {
     "name": "stdout",
     "output_type": "stream",
     "text": [
      "Epoch [34/100], Discriminator Loss: 0.003, Generator Loss: 0.026, Time: 32.07s\n"
     ]
    },
    {
     "name": "stderr",
     "output_type": "stream",
     "text": [
      "Batch 469/469: 100%|█████████████| 469/469 [00:31<00:00, 14.84batch/s]\n"
     ]
    },
    {
     "name": "stdout",
     "output_type": "stream",
     "text": [
      "Epoch [35/100], Discriminator Loss: 0.003, Generator Loss: 0.025, Time: 31.61s\n"
     ]
    },
    {
     "name": "stderr",
     "output_type": "stream",
     "text": [
      "Batch 469/469: 100%|█████████████| 469/469 [00:31<00:00, 14.93batch/s]\n"
     ]
    },
    {
     "name": "stdout",
     "output_type": "stream",
     "text": [
      "Epoch [36/100], Discriminator Loss: 0.003, Generator Loss: 0.024, Time: 31.41s\n"
     ]
    },
    {
     "name": "stderr",
     "output_type": "stream",
     "text": [
      "Batch 469/469: 100%|█████████████| 469/469 [00:32<00:00, 14.66batch/s]\n"
     ]
    },
    {
     "name": "stdout",
     "output_type": "stream",
     "text": [
      "Epoch [37/100], Discriminator Loss: 0.004, Generator Loss: 0.024, Time: 32.00s\n"
     ]
    },
    {
     "name": "stderr",
     "output_type": "stream",
     "text": [
      "Batch 469/469: 100%|█████████████| 469/469 [00:31<00:00, 14.79batch/s]\n"
     ]
    },
    {
     "name": "stdout",
     "output_type": "stream",
     "text": [
      "Epoch [38/100], Discriminator Loss: 0.004, Generator Loss: 0.026, Time: 31.71s\n"
     ]
    },
    {
     "name": "stderr",
     "output_type": "stream",
     "text": [
      "Batch 469/469: 100%|█████████████| 469/469 [00:31<00:00, 14.84batch/s]\n"
     ]
    },
    {
     "name": "stdout",
     "output_type": "stream",
     "text": [
      "Epoch [39/100], Discriminator Loss: 0.004, Generator Loss: 0.025, Time: 31.61s\n"
     ]
    },
    {
     "name": "stderr",
     "output_type": "stream",
     "text": [
      "Batch 469/469: 100%|█████████████| 469/469 [00:31<00:00, 14.68batch/s]\n"
     ]
    },
    {
     "name": "stdout",
     "output_type": "stream",
     "text": [
      "Epoch [40/100], Discriminator Loss: 0.004, Generator Loss: 0.024, Time: 31.94s\n"
     ]
    },
    {
     "name": "stderr",
     "output_type": "stream",
     "text": [
      "Batch 469/469: 100%|█████████████| 469/469 [00:34<00:00, 13.59batch/s]\n"
     ]
    },
    {
     "name": "stdout",
     "output_type": "stream",
     "text": [
      "Epoch [41/100], Discriminator Loss: 0.004, Generator Loss: 0.023, Time: 34.51s\n"
     ]
    },
    {
     "name": "stderr",
     "output_type": "stream",
     "text": [
      "Batch 469/469: 100%|█████████████| 469/469 [00:31<00:00, 14.72batch/s]\n"
     ]
    },
    {
     "name": "stdout",
     "output_type": "stream",
     "text": [
      "Epoch [42/100], Discriminator Loss: 0.004, Generator Loss: 0.024, Time: 31.87s\n"
     ]
    },
    {
     "name": "stderr",
     "output_type": "stream",
     "text": [
      "Batch 469/469: 100%|█████████████| 469/469 [00:31<00:00, 15.04batch/s]\n"
     ]
    },
    {
     "name": "stdout",
     "output_type": "stream",
     "text": [
      "Epoch [43/100], Discriminator Loss: 0.004, Generator Loss: 0.022, Time: 31.19s\n"
     ]
    },
    {
     "name": "stderr",
     "output_type": "stream",
     "text": [
      "Batch 469/469: 100%|█████████████| 469/469 [00:31<00:00, 14.97batch/s]\n"
     ]
    },
    {
     "name": "stdout",
     "output_type": "stream",
     "text": [
      "Epoch [44/100], Discriminator Loss: 0.004, Generator Loss: 0.020, Time: 31.33s\n"
     ]
    },
    {
     "name": "stderr",
     "output_type": "stream",
     "text": [
      "Batch 469/469: 100%|█████████████| 469/469 [00:31<00:00, 14.85batch/s]\n"
     ]
    },
    {
     "name": "stdout",
     "output_type": "stream",
     "text": [
      "Epoch [45/100], Discriminator Loss: 0.004, Generator Loss: 0.021, Time: 31.59s\n"
     ]
    },
    {
     "name": "stderr",
     "output_type": "stream",
     "text": [
      "Batch 469/469: 100%|█████████████| 469/469 [00:31<00:00, 14.88batch/s]\n"
     ]
    },
    {
     "name": "stdout",
     "output_type": "stream",
     "text": [
      "Epoch [46/100], Discriminator Loss: 0.004, Generator Loss: 0.021, Time: 31.52s\n"
     ]
    },
    {
     "name": "stderr",
     "output_type": "stream",
     "text": [
      "Batch 469/469: 100%|█████████████| 469/469 [00:31<00:00, 15.09batch/s]\n"
     ]
    },
    {
     "name": "stdout",
     "output_type": "stream",
     "text": [
      "Epoch [47/100], Discriminator Loss: 0.004, Generator Loss: 0.020, Time: 31.07s\n"
     ]
    },
    {
     "name": "stderr",
     "output_type": "stream",
     "text": [
      "Batch 469/469: 100%|█████████████| 469/469 [00:31<00:00, 14.77batch/s]\n"
     ]
    },
    {
     "name": "stdout",
     "output_type": "stream",
     "text": [
      "Epoch [48/100], Discriminator Loss: 0.004, Generator Loss: 0.021, Time: 31.76s\n"
     ]
    },
    {
     "name": "stderr",
     "output_type": "stream",
     "text": [
      "Batch 469/469: 100%|█████████████| 469/469 [00:31<00:00, 14.71batch/s]\n"
     ]
    },
    {
     "name": "stdout",
     "output_type": "stream",
     "text": [
      "Epoch [49/100], Discriminator Loss: 0.004, Generator Loss: 0.021, Time: 31.89s\n"
     ]
    },
    {
     "name": "stderr",
     "output_type": "stream",
     "text": [
      "Batch 469/469: 100%|█████████████| 469/469 [00:33<00:00, 14.01batch/s]\n"
     ]
    },
    {
     "name": "stdout",
     "output_type": "stream",
     "text": [
      "Epoch [50/100], Discriminator Loss: 0.004, Generator Loss: 0.019, Time: 33.48s\n"
     ]
    },
    {
     "name": "stderr",
     "output_type": "stream",
     "text": [
      "Batch 469/469: 100%|█████████████| 469/469 [00:32<00:00, 14.22batch/s]\n"
     ]
    },
    {
     "name": "stdout",
     "output_type": "stream",
     "text": [
      "Epoch [51/100], Discriminator Loss: 0.004, Generator Loss: 0.020, Time: 32.97s\n"
     ]
    },
    {
     "name": "stderr",
     "output_type": "stream",
     "text": [
      "Batch 469/469: 100%|█████████████| 469/469 [00:32<00:00, 14.21batch/s]\n"
     ]
    },
    {
     "name": "stdout",
     "output_type": "stream",
     "text": [
      "Epoch [52/100], Discriminator Loss: 0.004, Generator Loss: 0.019, Time: 33.00s\n"
     ]
    },
    {
     "name": "stderr",
     "output_type": "stream",
     "text": [
      "Batch 469/469: 100%|█████████████| 469/469 [00:31<00:00, 14.80batch/s]\n"
     ]
    },
    {
     "name": "stdout",
     "output_type": "stream",
     "text": [
      "Epoch [53/100], Discriminator Loss: 0.005, Generator Loss: 0.019, Time: 31.70s\n"
     ]
    },
    {
     "name": "stderr",
     "output_type": "stream",
     "text": [
      "Batch 469/469: 100%|█████████████| 469/469 [00:33<00:00, 14.16batch/s]\n"
     ]
    },
    {
     "name": "stdout",
     "output_type": "stream",
     "text": [
      "Epoch [54/100], Discriminator Loss: 0.005, Generator Loss: 0.018, Time: 33.11s\n"
     ]
    },
    {
     "name": "stderr",
     "output_type": "stream",
     "text": [
      "Batch 469/469: 100%|█████████████| 469/469 [00:31<00:00, 14.81batch/s]\n"
     ]
    },
    {
     "name": "stdout",
     "output_type": "stream",
     "text": [
      "Epoch [55/100], Discriminator Loss: 0.005, Generator Loss: 0.018, Time: 31.67s\n"
     ]
    },
    {
     "name": "stderr",
     "output_type": "stream",
     "text": [
      "Batch 469/469: 100%|█████████████| 469/469 [00:32<00:00, 14.59batch/s]\n"
     ]
    },
    {
     "name": "stdout",
     "output_type": "stream",
     "text": [
      "Epoch [56/100], Discriminator Loss: 0.005, Generator Loss: 0.017, Time: 32.14s\n"
     ]
    },
    {
     "name": "stderr",
     "output_type": "stream",
     "text": [
      "Batch 469/469: 100%|█████████████| 469/469 [00:31<00:00, 14.85batch/s]\n"
     ]
    },
    {
     "name": "stdout",
     "output_type": "stream",
     "text": [
      "Epoch [57/100], Discriminator Loss: 0.005, Generator Loss: 0.018, Time: 31.58s\n"
     ]
    },
    {
     "name": "stderr",
     "output_type": "stream",
     "text": [
      "Batch 469/469: 100%|█████████████| 469/469 [00:31<00:00, 14.77batch/s]\n"
     ]
    },
    {
     "name": "stdout",
     "output_type": "stream",
     "text": [
      "Epoch [58/100], Discriminator Loss: 0.005, Generator Loss: 0.018, Time: 31.75s\n"
     ]
    },
    {
     "name": "stderr",
     "output_type": "stream",
     "text": [
      "Batch 469/469: 100%|█████████████| 469/469 [00:31<00:00, 14.98batch/s]\n"
     ]
    },
    {
     "name": "stdout",
     "output_type": "stream",
     "text": [
      "Epoch [59/100], Discriminator Loss: 0.005, Generator Loss: 0.017, Time: 31.31s\n"
     ]
    },
    {
     "name": "stderr",
     "output_type": "stream",
     "text": [
      "Batch 469/469: 100%|█████████████| 469/469 [00:31<00:00, 14.69batch/s]\n"
     ]
    },
    {
     "name": "stdout",
     "output_type": "stream",
     "text": [
      "Epoch [60/100], Discriminator Loss: 0.005, Generator Loss: 0.017, Time: 31.92s\n"
     ]
    },
    {
     "name": "stderr",
     "output_type": "stream",
     "text": [
      "Batch 469/469: 100%|█████████████| 469/469 [00:31<00:00, 14.95batch/s]\n"
     ]
    },
    {
     "name": "stdout",
     "output_type": "stream",
     "text": [
      "Epoch [61/100], Discriminator Loss: 0.005, Generator Loss: 0.017, Time: 31.36s\n"
     ]
    },
    {
     "name": "stderr",
     "output_type": "stream",
     "text": [
      "Batch 469/469: 100%|█████████████| 469/469 [00:31<00:00, 15.00batch/s]\n"
     ]
    },
    {
     "name": "stdout",
     "output_type": "stream",
     "text": [
      "Epoch [62/100], Discriminator Loss: 0.005, Generator Loss: 0.016, Time: 31.27s\n"
     ]
    },
    {
     "name": "stderr",
     "output_type": "stream",
     "text": [
      "Batch 469/469: 100%|█████████████| 469/469 [00:31<00:00, 14.90batch/s]\n"
     ]
    },
    {
     "name": "stdout",
     "output_type": "stream",
     "text": [
      "Epoch [63/100], Discriminator Loss: 0.005, Generator Loss: 0.016, Time: 31.47s\n"
     ]
    },
    {
     "name": "stderr",
     "output_type": "stream",
     "text": [
      "Batch 469/469: 100%|█████████████| 469/469 [00:31<00:00, 14.69batch/s]\n"
     ]
    },
    {
     "name": "stdout",
     "output_type": "stream",
     "text": [
      "Epoch [64/100], Discriminator Loss: 0.005, Generator Loss: 0.016, Time: 31.93s\n"
     ]
    },
    {
     "name": "stderr",
     "output_type": "stream",
     "text": [
      "Batch 469/469: 100%|█████████████| 469/469 [00:31<00:00, 14.98batch/s]\n"
     ]
    },
    {
     "name": "stdout",
     "output_type": "stream",
     "text": [
      "Epoch [65/100], Discriminator Loss: 0.005, Generator Loss: 0.016, Time: 31.31s\n"
     ]
    },
    {
     "name": "stderr",
     "output_type": "stream",
     "text": [
      "Batch 469/469: 100%|█████████████| 469/469 [00:31<00:00, 14.92batch/s]\n"
     ]
    },
    {
     "name": "stdout",
     "output_type": "stream",
     "text": [
      "Epoch [66/100], Discriminator Loss: 0.005, Generator Loss: 0.016, Time: 31.44s\n"
     ]
    },
    {
     "name": "stderr",
     "output_type": "stream",
     "text": [
      "Batch 469/469: 100%|█████████████| 469/469 [00:32<00:00, 14.27batch/s]\n"
     ]
    },
    {
     "name": "stdout",
     "output_type": "stream",
     "text": [
      "Epoch [67/100], Discriminator Loss: 0.005, Generator Loss: 0.015, Time: 32.87s\n"
     ]
    },
    {
     "name": "stderr",
     "output_type": "stream",
     "text": [
      "Batch 469/469: 100%|█████████████| 469/469 [00:31<00:00, 14.95batch/s]\n"
     ]
    },
    {
     "name": "stdout",
     "output_type": "stream",
     "text": [
      "Epoch [68/100], Discriminator Loss: 0.006, Generator Loss: 0.015, Time: 31.38s\n"
     ]
    },
    {
     "name": "stderr",
     "output_type": "stream",
     "text": [
      "Batch 469/469: 100%|█████████████| 469/469 [00:31<00:00, 14.77batch/s]\n"
     ]
    },
    {
     "name": "stdout",
     "output_type": "stream",
     "text": [
      "Epoch [69/100], Discriminator Loss: 0.006, Generator Loss: 0.015, Time: 31.75s\n"
     ]
    },
    {
     "name": "stderr",
     "output_type": "stream",
     "text": [
      "Batch 469/469: 100%|█████████████| 469/469 [00:31<00:00, 14.90batch/s]\n"
     ]
    },
    {
     "name": "stdout",
     "output_type": "stream",
     "text": [
      "Epoch [70/100], Discriminator Loss: 0.006, Generator Loss: 0.015, Time: 31.47s\n"
     ]
    },
    {
     "name": "stderr",
     "output_type": "stream",
     "text": [
      "Batch 469/469: 100%|█████████████| 469/469 [00:31<00:00, 14.89batch/s]\n"
     ]
    },
    {
     "name": "stdout",
     "output_type": "stream",
     "text": [
      "Epoch [71/100], Discriminator Loss: 0.006, Generator Loss: 0.015, Time: 31.50s\n"
     ]
    },
    {
     "name": "stderr",
     "output_type": "stream",
     "text": [
      "Batch 469/469: 100%|█████████████| 469/469 [00:31<00:00, 14.98batch/s]\n"
     ]
    },
    {
     "name": "stdout",
     "output_type": "stream",
     "text": [
      "Epoch [72/100], Discriminator Loss: 0.006, Generator Loss: 0.015, Time: 31.30s\n"
     ]
    },
    {
     "name": "stderr",
     "output_type": "stream",
     "text": [
      "Batch 469/469: 100%|█████████████| 469/469 [00:31<00:00, 14.86batch/s]\n"
     ]
    },
    {
     "name": "stdout",
     "output_type": "stream",
     "text": [
      "Epoch [73/100], Discriminator Loss: 0.006, Generator Loss: 0.014, Time: 31.56s\n"
     ]
    },
    {
     "name": "stderr",
     "output_type": "stream",
     "text": [
      "Batch 469/469: 100%|█████████████| 469/469 [00:31<00:00, 14.91batch/s]\n"
     ]
    },
    {
     "name": "stdout",
     "output_type": "stream",
     "text": [
      "Epoch [74/100], Discriminator Loss: 0.006, Generator Loss: 0.014, Time: 31.45s\n"
     ]
    },
    {
     "name": "stderr",
     "output_type": "stream",
     "text": [
      "Batch 469/469: 100%|█████████████| 469/469 [00:32<00:00, 14.58batch/s]\n"
     ]
    },
    {
     "name": "stdout",
     "output_type": "stream",
     "text": [
      "Epoch [75/100], Discriminator Loss: 0.006, Generator Loss: 0.014, Time: 32.16s\n"
     ]
    },
    {
     "name": "stderr",
     "output_type": "stream",
     "text": [
      "Batch 469/469: 100%|█████████████| 469/469 [00:31<00:00, 14.75batch/s]\n"
     ]
    },
    {
     "name": "stdout",
     "output_type": "stream",
     "text": [
      "Epoch [76/100], Discriminator Loss: 0.006, Generator Loss: 0.014, Time: 31.79s\n"
     ]
    },
    {
     "name": "stderr",
     "output_type": "stream",
     "text": [
      "Batch 469/469: 100%|█████████████| 469/469 [00:31<00:00, 14.80batch/s]\n"
     ]
    },
    {
     "name": "stdout",
     "output_type": "stream",
     "text": [
      "Epoch [77/100], Discriminator Loss: 0.006, Generator Loss: 0.014, Time: 31.69s\n"
     ]
    },
    {
     "name": "stderr",
     "output_type": "stream",
     "text": [
      "Batch 469/469: 100%|█████████████| 469/469 [00:31<00:00, 14.89batch/s]\n"
     ]
    },
    {
     "name": "stdout",
     "output_type": "stream",
     "text": [
      "Epoch [78/100], Discriminator Loss: 0.006, Generator Loss: 0.014, Time: 31.50s\n"
     ]
    },
    {
     "name": "stderr",
     "output_type": "stream",
     "text": [
      "Batch 469/469: 100%|█████████████| 469/469 [00:35<00:00, 13.40batch/s]\n"
     ]
    },
    {
     "name": "stdout",
     "output_type": "stream",
     "text": [
      "Epoch [79/100], Discriminator Loss: 0.006, Generator Loss: 0.014, Time: 35.01s\n"
     ]
    },
    {
     "name": "stderr",
     "output_type": "stream",
     "text": [
      "Batch 469/469: 100%|█████████████| 469/469 [00:31<00:00, 14.70batch/s]\n"
     ]
    },
    {
     "name": "stdout",
     "output_type": "stream",
     "text": [
      "Epoch [80/100], Discriminator Loss: 0.006, Generator Loss: 0.014, Time: 31.90s\n"
     ]
    },
    {
     "name": "stderr",
     "output_type": "stream",
     "text": [
      "Batch 469/469: 100%|█████████████| 469/469 [00:31<00:00, 14.93batch/s]\n"
     ]
    },
    {
     "name": "stdout",
     "output_type": "stream",
     "text": [
      "Epoch [81/100], Discriminator Loss: 0.006, Generator Loss: 0.014, Time: 31.42s\n"
     ]
    },
    {
     "name": "stderr",
     "output_type": "stream",
     "text": [
      "Batch 469/469: 100%|█████████████| 469/469 [00:32<00:00, 14.65batch/s]\n"
     ]
    },
    {
     "name": "stdout",
     "output_type": "stream",
     "text": [
      "Epoch [82/100], Discriminator Loss: 0.006, Generator Loss: 0.013, Time: 32.01s\n"
     ]
    },
    {
     "name": "stderr",
     "output_type": "stream",
     "text": [
      "Batch 469/469: 100%|█████████████| 469/469 [00:31<00:00, 14.88batch/s]\n"
     ]
    },
    {
     "name": "stdout",
     "output_type": "stream",
     "text": [
      "Epoch [83/100], Discriminator Loss: 0.006, Generator Loss: 0.013, Time: 31.52s\n"
     ]
    },
    {
     "name": "stderr",
     "output_type": "stream",
     "text": [
      "Batch 469/469: 100%|█████████████| 469/469 [00:32<00:00, 14.63batch/s]\n"
     ]
    },
    {
     "name": "stdout",
     "output_type": "stream",
     "text": [
      "Epoch [84/100], Discriminator Loss: 0.006, Generator Loss: 0.013, Time: 32.07s\n"
     ]
    },
    {
     "name": "stderr",
     "output_type": "stream",
     "text": [
      "Batch 469/469: 100%|█████████████| 469/469 [00:31<00:00, 14.86batch/s]\n"
     ]
    },
    {
     "name": "stdout",
     "output_type": "stream",
     "text": [
      "Epoch [85/100], Discriminator Loss: 0.006, Generator Loss: 0.013, Time: 31.56s\n"
     ]
    },
    {
     "name": "stderr",
     "output_type": "stream",
     "text": [
      "Batch 469/469: 100%|█████████████| 469/469 [00:31<00:00, 14.66batch/s]\n"
     ]
    },
    {
     "name": "stdout",
     "output_type": "stream",
     "text": [
      "Epoch [86/100], Discriminator Loss: 0.006, Generator Loss: 0.013, Time: 32.00s\n"
     ]
    },
    {
     "name": "stderr",
     "output_type": "stream",
     "text": [
      "Batch 469/469: 100%|█████████████| 469/469 [00:31<00:00, 14.87batch/s]\n"
     ]
    },
    {
     "name": "stdout",
     "output_type": "stream",
     "text": [
      "Epoch [87/100], Discriminator Loss: 0.006, Generator Loss: 0.013, Time: 31.54s\n"
     ]
    },
    {
     "name": "stderr",
     "output_type": "stream",
     "text": [
      "Batch 469/469: 100%|█████████████| 469/469 [00:31<00:00, 14.71batch/s]\n"
     ]
    },
    {
     "name": "stdout",
     "output_type": "stream",
     "text": [
      "Epoch [88/100], Discriminator Loss: 0.006, Generator Loss: 0.013, Time: 31.89s\n"
     ]
    },
    {
     "name": "stderr",
     "output_type": "stream",
     "text": [
      "Batch 469/469: 100%|█████████████| 469/469 [00:31<00:00, 14.79batch/s]\n"
     ]
    },
    {
     "name": "stdout",
     "output_type": "stream",
     "text": [
      "Epoch [89/100], Discriminator Loss: 0.006, Generator Loss: 0.013, Time: 31.71s\n"
     ]
    },
    {
     "name": "stderr",
     "output_type": "stream",
     "text": [
      "Batch 469/469: 100%|█████████████| 469/469 [00:32<00:00, 14.59batch/s]\n"
     ]
    },
    {
     "name": "stdout",
     "output_type": "stream",
     "text": [
      "Epoch [90/100], Discriminator Loss: 0.006, Generator Loss: 0.013, Time: 32.14s\n"
     ]
    },
    {
     "name": "stderr",
     "output_type": "stream",
     "text": [
      "Batch 469/469: 100%|█████████████| 469/469 [00:31<00:00, 14.81batch/s]\n"
     ]
    },
    {
     "name": "stdout",
     "output_type": "stream",
     "text": [
      "Epoch [91/100], Discriminator Loss: 0.006, Generator Loss: 0.013, Time: 31.67s\n"
     ]
    },
    {
     "name": "stderr",
     "output_type": "stream",
     "text": [
      "Batch 469/469: 100%|█████████████| 469/469 [00:31<00:00, 14.74batch/s]\n"
     ]
    },
    {
     "name": "stdout",
     "output_type": "stream",
     "text": [
      "Epoch [92/100], Discriminator Loss: 0.006, Generator Loss: 0.013, Time: 31.82s\n"
     ]
    },
    {
     "name": "stderr",
     "output_type": "stream",
     "text": [
      "Batch 469/469: 100%|█████████████| 469/469 [00:31<00:00, 14.82batch/s]\n"
     ]
    },
    {
     "name": "stdout",
     "output_type": "stream",
     "text": [
      "Epoch [93/100], Discriminator Loss: 0.006, Generator Loss: 0.013, Time: 31.65s\n"
     ]
    },
    {
     "name": "stderr",
     "output_type": "stream",
     "text": [
      "Batch 469/469: 100%|█████████████| 469/469 [00:32<00:00, 14.57batch/s]\n"
     ]
    },
    {
     "name": "stdout",
     "output_type": "stream",
     "text": [
      "Epoch [94/100], Discriminator Loss: 0.006, Generator Loss: 0.013, Time: 32.19s\n"
     ]
    },
    {
     "name": "stderr",
     "output_type": "stream",
     "text": [
      "Batch 469/469: 100%|█████████████| 469/469 [00:31<00:00, 14.72batch/s]\n"
     ]
    },
    {
     "name": "stdout",
     "output_type": "stream",
     "text": [
      "Epoch [95/100], Discriminator Loss: 0.006, Generator Loss: 0.013, Time: 31.85s\n"
     ]
    },
    {
     "name": "stderr",
     "output_type": "stream",
     "text": [
      "Batch 469/469: 100%|█████████████| 469/469 [00:31<00:00, 14.67batch/s]\n"
     ]
    },
    {
     "name": "stdout",
     "output_type": "stream",
     "text": [
      "Epoch [96/100], Discriminator Loss: 0.006, Generator Loss: 0.013, Time: 31.96s\n"
     ]
    },
    {
     "name": "stderr",
     "output_type": "stream",
     "text": [
      "Batch 469/469: 100%|█████████████| 469/469 [00:32<00:00, 14.38batch/s]\n"
     ]
    },
    {
     "name": "stdout",
     "output_type": "stream",
     "text": [
      "Epoch [97/100], Discriminator Loss: 0.006, Generator Loss: 0.013, Time: 32.61s\n"
     ]
    },
    {
     "name": "stderr",
     "output_type": "stream",
     "text": [
      "Batch 469/469: 100%|█████████████| 469/469 [00:32<00:00, 14.61batch/s]\n"
     ]
    },
    {
     "name": "stdout",
     "output_type": "stream",
     "text": [
      "Epoch [98/100], Discriminator Loss: 0.006, Generator Loss: 0.013, Time: 32.10s\n"
     ]
    },
    {
     "name": "stderr",
     "output_type": "stream",
     "text": [
      "Batch 469/469: 100%|█████████████| 469/469 [00:31<00:00, 14.66batch/s]\n"
     ]
    },
    {
     "name": "stdout",
     "output_type": "stream",
     "text": [
      "Epoch [99/100], Discriminator Loss: 0.006, Generator Loss: 0.013, Time: 31.99s\n"
     ]
    },
    {
     "name": "stderr",
     "output_type": "stream",
     "text": [
      "Batch 469/469: 100%|█████████████| 469/469 [00:33<00:00, 13.81batch/s]"
     ]
    },
    {
     "name": "stdout",
     "output_type": "stream",
     "text": [
      "Epoch [100/100], Discriminator Loss: 0.006, Generator Loss: 0.013, Time: 33.96s\n"
     ]
    },
    {
     "name": "stderr",
     "output_type": "stream",
     "text": [
      "\n"
     ]
    }
   ],
   "source": [
    "num_epochs = 100\n",
    "batch_size = 128\n",
    "transform = transforms.Compose([transforms.ToTensor(), transforms.Normalize((0.5,), (0.5,))])\n",
    "dataset = MNIST(root='./', train=True, transform=transform, download=False)\n",
    "dataloader = DataLoader(dataset, batch_size=batch_size, shuffle=True)\n",
    "loss_history_d, loss_history_g = train_gan(generator, discriminator, dataloader, num_epochs, 1)"
   ]
  },
  {
   "cell_type": "code",
   "execution_count": 16,
   "id": "ece25a43",
   "metadata": {
    "scrolled": true
   },
   "outputs": [
    {
     "data": {
      "image/png": "[encoded data removed]",
      "text/plain": [
       "<Figure size 640x480 with 1 Axes>"
      ]
     },
     "metadata": {},
     "output_type": "display_data"
    }
   ],
   "source": [
    "plt.plot(loss_history_d, label='Discriminator Loss')\n",
    "plt.plot(loss_history_g, label='Generator Loss')\n",
    "plt.title(\"Loss History\")\n",
    "plt.xlabel(\"Epochs\")\n",
    "plt.ylabel(\"Loss\")\n",
    "plt.legend()\n",
    "plt.savefig(fname=\"./GAN_Loss_critic_1.png\")\n",
    "plt.show()"
   ]
  },
  {
   "cell_type": "code",
   "execution_count": 17,
   "id": "e5dfbeff",
   "metadata": {},
   "outputs": [],
   "source": [
    "torch.save(generator.state_dict(), \"./models/Generator_critic_1.pth\")\n",
    "torch.save(discriminator.state_dict(), \"./models/Descriminator_critic_1.pth\")\n",
    "del generator, discriminator"
   ]
  },
  {
   "cell_type": "markdown",
   "id": "dcd79329",
   "metadata": {},
   "source": [
    "### Instance 1\n",
    "critic_iterations = 5"
   ]
  },
  {
   "cell_type": "code",
   "execution_count": 23,
   "id": "b04753d7",
   "metadata": {
    "scrolled": true
   },
   "outputs": [
    {
     "name": "stderr",
     "output_type": "stream",
     "text": [
      "Batch 469/469: 100%|█████████████| 469/469 [00:50<00:00,  9.24batch/s]\n"
     ]
    },
    {
     "name": "stdout",
     "output_type": "stream",
     "text": [
      "Epoch [1/100], Discriminator Loss: 0.000, Generator Loss: 0.367, Time: 50.77s\n"
     ]
    },
    {
     "name": "stderr",
     "output_type": "stream",
     "text": [
      "Batch 469/469: 100%|█████████████| 469/469 [00:56<00:00,  8.34batch/s]\n"
     ]
    },
    {
     "name": "stdout",
     "output_type": "stream",
     "text": [
      "Epoch [2/100], Discriminator Loss: 0.003, Generator Loss: 0.282, Time: 56.25s\n"
     ]
    },
    {
     "name": "stderr",
     "output_type": "stream",
     "text": [
      "Batch 469/469: 100%|█████████████| 469/469 [00:58<00:00,  8.02batch/s]\n"
     ]
    },
    {
     "name": "stdout",
     "output_type": "stream",
     "text": [
      "Epoch [3/100], Discriminator Loss: 0.004, Generator Loss: 0.055, Time: 58.48s\n"
     ]
    },
    {
     "name": "stderr",
     "output_type": "stream",
     "text": [
      "Batch 469/469: 100%|█████████████| 469/469 [00:59<00:00,  7.92batch/s]\n"
     ]
    },
    {
     "name": "stdout",
     "output_type": "stream",
     "text": [
      "Epoch [4/100], Discriminator Loss: 0.001, Generator Loss: 0.071, Time: 59.21s\n"
     ]
    },
    {
     "name": "stderr",
     "output_type": "stream",
     "text": [
      "Batch 469/469: 100%|█████████████| 469/469 [00:59<00:00,  7.89batch/s]\n"
     ]
    },
    {
     "name": "stdout",
     "output_type": "stream",
     "text": [
      "Epoch [5/100], Discriminator Loss: 0.001, Generator Loss: 0.073, Time: 59.45s\n"
     ]
    },
    {
     "name": "stderr",
     "output_type": "stream",
     "text": [
      "Batch 469/469: 100%|█████████████| 469/469 [00:56<00:00,  8.31batch/s]\n"
     ]
    },
    {
     "name": "stdout",
     "output_type": "stream",
     "text": [
      "Epoch [6/100], Discriminator Loss: 0.001, Generator Loss: 0.092, Time: 56.45s\n"
     ]
    },
    {
     "name": "stderr",
     "output_type": "stream",
     "text": [
      "Batch 469/469: 100%|█████████████| 469/469 [00:57<00:00,  8.12batch/s]\n"
     ]
    },
    {
     "name": "stdout",
     "output_type": "stream",
     "text": [
      "Epoch [7/100], Discriminator Loss: 0.000, Generator Loss: 0.087, Time: 57.76s\n"
     ]
    },
    {
     "name": "stderr",
     "output_type": "stream",
     "text": [
      "Batch 469/469: 100%|█████████████| 469/469 [00:58<00:00,  7.97batch/s]\n"
     ]
    },
    {
     "name": "stdout",
     "output_type": "stream",
     "text": [
      "Epoch [8/100], Discriminator Loss: 0.001, Generator Loss: 0.092, Time: 58.82s\n"
     ]
    },
    {
     "name": "stderr",
     "output_type": "stream",
     "text": [
      "Batch 469/469: 100%|█████████████| 469/469 [00:59<00:00,  7.94batch/s]\n"
     ]
    },
    {
     "name": "stdout",
     "output_type": "stream",
     "text": [
      "Epoch [9/100], Discriminator Loss: 0.001, Generator Loss: 0.081, Time: 59.04s\n"
     ]
    },
    {
     "name": "stderr",
     "output_type": "stream",
     "text": [
      "Batch 469/469: 100%|█████████████| 469/469 [00:56<00:00,  8.37batch/s]\n"
     ]
    },
    {
     "name": "stdout",
     "output_type": "stream",
     "text": [
      "Epoch [10/100], Discriminator Loss: 0.001, Generator Loss: 0.066, Time: 56.02s\n"
     ]
    },
    {
     "name": "stderr",
     "output_type": "stream",
     "text": [
      "Batch 469/469: 100%|█████████████| 469/469 [00:56<00:00,  8.24batch/s]\n"
     ]
    },
    {
     "name": "stdout",
     "output_type": "stream",
     "text": [
      "Epoch [11/100], Discriminator Loss: 0.001, Generator Loss: 0.063, Time: 56.93s\n"
     ]
    },
    {
     "name": "stderr",
     "output_type": "stream",
     "text": [
      "Batch 469/469: 100%|█████████████| 469/469 [00:57<00:00,  8.13batch/s]\n"
     ]
    },
    {
     "name": "stdout",
     "output_type": "stream",
     "text": [
      "Epoch [12/100], Discriminator Loss: 0.002, Generator Loss: 0.055, Time: 57.68s\n"
     ]
    },
    {
     "name": "stderr",
     "output_type": "stream",
     "text": [
      "Batch 469/469: 100%|█████████████| 469/469 [00:55<00:00,  8.48batch/s]\n"
     ]
    },
    {
     "name": "stdout",
     "output_type": "stream",
     "text": [
      "Epoch [13/100], Discriminator Loss: 0.003, Generator Loss: 0.050, Time: 55.30s\n"
     ]
    },
    {
     "name": "stderr",
     "output_type": "stream",
     "text": [
      "Batch 469/469: 100%|█████████████| 469/469 [00:54<00:00,  8.56batch/s]\n"
     ]
    },
    {
     "name": "stdout",
     "output_type": "stream",
     "text": [
      "Epoch [14/100], Discriminator Loss: 0.004, Generator Loss: 0.044, Time: 54.81s\n"
     ]
    },
    {
     "name": "stderr",
     "output_type": "stream",
     "text": [
      "Batch 469/469: 100%|█████████████| 469/469 [00:52<00:00,  8.97batch/s]\n"
     ]
    },
    {
     "name": "stdout",
     "output_type": "stream",
     "text": [
      "Epoch [15/100], Discriminator Loss: 0.005, Generator Loss: 0.039, Time: 52.28s\n"
     ]
    },
    {
     "name": "stderr",
     "output_type": "stream",
     "text": [
      "Batch 469/469: 100%|█████████████| 469/469 [00:52<00:00,  9.00batch/s]\n"
     ]
    },
    {
     "name": "stdout",
     "output_type": "stream",
     "text": [
      "Epoch [16/100], Discriminator Loss: 0.006, Generator Loss: 0.038, Time: 52.14s\n"
     ]
    },
    {
     "name": "stderr",
     "output_type": "stream",
     "text": [
      "Batch 469/469: 100%|█████████████| 469/469 [00:51<00:00,  9.03batch/s]\n"
     ]
    },
    {
     "name": "stdout",
     "output_type": "stream",
     "text": [
      "Epoch [17/100], Discriminator Loss: 0.006, Generator Loss: 0.038, Time: 51.92s\n"
     ]
    },
    {
     "name": "stderr",
     "output_type": "stream",
     "text": [
      "Batch 469/469: 100%|█████████████| 469/469 [00:52<00:00,  8.99batch/s]\n"
     ]
    },
    {
     "name": "stdout",
     "output_type": "stream",
     "text": [
      "Epoch [18/100], Discriminator Loss: 0.007, Generator Loss: 0.035, Time: 52.20s\n"
     ]
    },
    {
     "name": "stderr",
     "output_type": "stream",
     "text": [
      "Batch 469/469: 100%|█████████████| 469/469 [00:51<00:00,  9.03batch/s]\n"
     ]
    },
    {
     "name": "stdout",
     "output_type": "stream",
     "text": [
      "Epoch [19/100], Discriminator Loss: 0.008, Generator Loss: 0.033, Time: 51.96s\n"
     ]
    },
    {
     "name": "stderr",
     "output_type": "stream",
     "text": [
      "Batch 469/469: 100%|█████████████| 469/469 [00:53<00:00,  8.82batch/s]\n"
     ]
    },
    {
     "name": "stdout",
     "output_type": "stream",
     "text": [
      "Epoch [20/100], Discriminator Loss: 0.009, Generator Loss: 0.030, Time: 53.18s\n"
     ]
    },
    {
     "name": "stderr",
     "output_type": "stream",
     "text": [
      "Batch 469/469: 100%|█████████████| 469/469 [00:53<00:00,  8.82batch/s]\n"
     ]
    },
    {
     "name": "stdout",
     "output_type": "stream",
     "text": [
      "Epoch [21/100], Discriminator Loss: 0.010, Generator Loss: 0.027, Time: 53.19s\n"
     ]
    },
    {
     "name": "stderr",
     "output_type": "stream",
     "text": [
      "Batch 469/469: 100%|█████████████| 469/469 [00:52<00:00,  8.92batch/s]\n"
     ]
    },
    {
     "name": "stdout",
     "output_type": "stream",
     "text": [
      "Epoch [22/100], Discriminator Loss: 0.011, Generator Loss: 0.025, Time: 52.57s\n"
     ]
    },
    {
     "name": "stderr",
     "output_type": "stream",
     "text": [
      "Batch 469/469: 100%|█████████████| 469/469 [00:52<00:00,  8.96batch/s]\n"
     ]
    },
    {
     "name": "stdout",
     "output_type": "stream",
     "text": [
      "Epoch [23/100], Discriminator Loss: 0.011, Generator Loss: 0.025, Time: 52.37s\n"
     ]
    },
    {
     "name": "stderr",
     "output_type": "stream",
     "text": [
      "Batch 469/469: 100%|█████████████| 469/469 [00:52<00:00,  8.89batch/s]\n"
     ]
    },
    {
     "name": "stdout",
     "output_type": "stream",
     "text": [
      "Epoch [24/100], Discriminator Loss: 0.011, Generator Loss: 0.025, Time: 52.74s\n"
     ]
    },
    {
     "name": "stderr",
     "output_type": "stream",
     "text": [
      "Batch 469/469: 100%|█████████████| 469/469 [00:52<00:00,  8.86batch/s]\n"
     ]
    },
    {
     "name": "stdout",
     "output_type": "stream",
     "text": [
      "Epoch [25/100], Discriminator Loss: 0.012, Generator Loss: 0.025, Time: 52.92s\n"
     ]
    },
    {
     "name": "stderr",
     "output_type": "stream",
     "text": [
      "Batch 469/469: 100%|█████████████| 469/469 [00:52<00:00,  8.95batch/s]\n"
     ]
    },
    {
     "name": "stdout",
     "output_type": "stream",
     "text": [
      "Epoch [26/100], Discriminator Loss: 0.013, Generator Loss: 0.022, Time: 52.41s\n"
     ]
    },
    {
     "name": "stderr",
     "output_type": "stream",
     "text": [
      "Batch 469/469: 100%|█████████████| 469/469 [00:53<00:00,  8.75batch/s]\n"
     ]
    },
    {
     "name": "stdout",
     "output_type": "stream",
     "text": [
      "Epoch [27/100], Discriminator Loss: 0.012, Generator Loss: 0.024, Time: 53.58s\n"
     ]
    },
    {
     "name": "stderr",
     "output_type": "stream",
     "text": [
      "Batch 469/469: 100%|█████████████| 469/469 [00:52<00:00,  8.87batch/s]\n"
     ]
    },
    {
     "name": "stdout",
     "output_type": "stream",
     "text": [
      "Epoch [28/100], Discriminator Loss: 0.012, Generator Loss: 0.023, Time: 52.85s\n"
     ]
    },
    {
     "name": "stderr",
     "output_type": "stream",
     "text": [
      "Batch 469/469: 100%|█████████████| 469/469 [00:54<00:00,  8.61batch/s]\n"
     ]
    },
    {
     "name": "stdout",
     "output_type": "stream",
     "text": [
      "Epoch [29/100], Discriminator Loss: 0.013, Generator Loss: 0.022, Time: 54.48s\n"
     ]
    },
    {
     "name": "stderr",
     "output_type": "stream",
     "text": [
      "Batch 469/469: 100%|█████████████| 469/469 [00:51<00:00,  9.03batch/s]\n"
     ]
    },
    {
     "name": "stdout",
     "output_type": "stream",
     "text": [
      "Epoch [30/100], Discriminator Loss: 0.014, Generator Loss: 0.021, Time: 51.92s\n"
     ]
    },
    {
     "name": "stderr",
     "output_type": "stream",
     "text": [
      "Batch 469/469: 100%|█████████████| 469/469 [00:51<00:00,  9.03batch/s]\n"
     ]
    },
    {
     "name": "stdout",
     "output_type": "stream",
     "text": [
      "Epoch [31/100], Discriminator Loss: 0.013, Generator Loss: 0.021, Time: 51.95s\n"
     ]
    },
    {
     "name": "stderr",
     "output_type": "stream",
     "text": [
      "Batch 469/469: 100%|█████████████| 469/469 [00:52<00:00,  8.94batch/s]\n"
     ]
    },
    {
     "name": "stdout",
     "output_type": "stream",
     "text": [
      "Epoch [32/100], Discriminator Loss: 0.014, Generator Loss: 0.021, Time: 52.45s\n"
     ]
    },
    {
     "name": "stderr",
     "output_type": "stream",
     "text": [
      "Batch 469/469: 100%|█████████████| 469/469 [00:52<00:00,  8.90batch/s]\n"
     ]
    },
    {
     "name": "stdout",
     "output_type": "stream",
     "text": [
      "Epoch [33/100], Discriminator Loss: 0.014, Generator Loss: 0.021, Time: 52.69s\n"
     ]
    },
    {
     "name": "stderr",
     "output_type": "stream",
     "text": [
      "Batch 469/469: 100%|█████████████| 469/469 [00:51<00:00,  9.05batch/s]\n"
     ]
    },
    {
     "name": "stdout",
     "output_type": "stream",
     "text": [
      "Epoch [34/100], Discriminator Loss: 0.014, Generator Loss: 0.021, Time: 51.82s\n"
     ]
    },
    {
     "name": "stderr",
     "output_type": "stream",
     "text": [
      "Batch 469/469: 100%|█████████████| 469/469 [00:52<00:00,  8.97batch/s]\n"
     ]
    },
    {
     "name": "stdout",
     "output_type": "stream",
     "text": [
      "Epoch [35/100], Discriminator Loss: 0.014, Generator Loss: 0.021, Time: 52.28s\n"
     ]
    },
    {
     "name": "stderr",
     "output_type": "stream",
     "text": [
      "Batch 469/469: 100%|█████████████| 469/469 [00:51<00:00,  9.07batch/s]\n"
     ]
    },
    {
     "name": "stdout",
     "output_type": "stream",
     "text": [
      "Epoch [36/100], Discriminator Loss: 0.014, Generator Loss: 0.022, Time: 51.72s\n"
     ]
    },
    {
     "name": "stderr",
     "output_type": "stream",
     "text": [
      "Batch 469/469: 100%|█████████████| 469/469 [00:52<00:00,  8.96batch/s]\n"
     ]
    },
    {
     "name": "stdout",
     "output_type": "stream",
     "text": [
      "Epoch [37/100], Discriminator Loss: 0.015, Generator Loss: 0.021, Time: 52.36s\n"
     ]
    },
    {
     "name": "stderr",
     "output_type": "stream",
     "text": [
      "Batch 469/469: 100%|█████████████| 469/469 [00:51<00:00,  9.02batch/s]\n"
     ]
    },
    {
     "name": "stdout",
     "output_type": "stream",
     "text": [
      "Epoch [38/100], Discriminator Loss: 0.015, Generator Loss: 0.020, Time: 51.97s\n"
     ]
    },
    {
     "name": "stderr",
     "output_type": "stream",
     "text": [
      "Batch 469/469: 100%|█████████████| 469/469 [00:52<00:00,  8.97batch/s]\n"
     ]
    },
    {
     "name": "stdout",
     "output_type": "stream",
     "text": [
      "Epoch [39/100], Discriminator Loss: 0.015, Generator Loss: 0.020, Time: 52.29s\n"
     ]
    },
    {
     "name": "stderr",
     "output_type": "stream",
     "text": [
      "Batch 469/469: 100%|█████████████| 469/469 [00:52<00:00,  9.01batch/s]\n"
     ]
    },
    {
     "name": "stdout",
     "output_type": "stream",
     "text": [
      "Epoch [40/100], Discriminator Loss: 0.015, Generator Loss: 0.021, Time: 52.07s\n"
     ]
    },
    {
     "name": "stderr",
     "output_type": "stream",
     "text": [
      "Batch 469/469: 100%|█████████████| 469/469 [00:53<00:00,  8.78batch/s]\n"
     ]
    },
    {
     "name": "stdout",
     "output_type": "stream",
     "text": [
      "Epoch [41/100], Discriminator Loss: 0.015, Generator Loss: 0.021, Time: 53.45s\n"
     ]
    },
    {
     "name": "stderr",
     "output_type": "stream",
     "text": [
      "Batch 469/469: 100%|█████████████| 469/469 [00:52<00:00,  8.95batch/s]\n"
     ]
    },
    {
     "name": "stdout",
     "output_type": "stream",
     "text": [
      "Epoch [42/100], Discriminator Loss: 0.015, Generator Loss: 0.020, Time: 52.41s\n"
     ]
    },
    {
     "name": "stderr",
     "output_type": "stream",
     "text": [
      "Batch 469/469: 100%|█████████████| 469/469 [00:52<00:00,  9.01batch/s]\n"
     ]
    },
    {
     "name": "stdout",
     "output_type": "stream",
     "text": [
      "Epoch [43/100], Discriminator Loss: 0.015, Generator Loss: 0.020, Time: 52.08s\n"
     ]
    },
    {
     "name": "stderr",
     "output_type": "stream",
     "text": [
      "Batch 469/469: 100%|█████████████| 469/469 [00:53<00:00,  8.84batch/s]\n"
     ]
    },
    {
     "name": "stdout",
     "output_type": "stream",
     "text": [
      "Epoch [44/100], Discriminator Loss: 0.015, Generator Loss: 0.021, Time: 53.05s\n"
     ]
    },
    {
     "name": "stderr",
     "output_type": "stream",
     "text": [
      "Batch 469/469: 100%|█████████████| 469/469 [00:53<00:00,  8.74batch/s]\n"
     ]
    },
    {
     "name": "stdout",
     "output_type": "stream",
     "text": [
      "Epoch [45/100], Discriminator Loss: 0.015, Generator Loss: 0.021, Time: 53.64s\n"
     ]
    },
    {
     "name": "stderr",
     "output_type": "stream",
     "text": [
      "Batch 469/469: 100%|█████████████| 469/469 [00:51<00:00,  9.04batch/s]\n"
     ]
    },
    {
     "name": "stdout",
     "output_type": "stream",
     "text": [
      "Epoch [46/100], Discriminator Loss: 0.016, Generator Loss: 0.020, Time: 51.89s\n"
     ]
    },
    {
     "name": "stderr",
     "output_type": "stream",
     "text": [
      "Batch 469/469: 100%|█████████████| 469/469 [00:51<00:00,  9.10batch/s]\n"
     ]
    },
    {
     "name": "stdout",
     "output_type": "stream",
     "text": [
      "Epoch [47/100], Discriminator Loss: 0.016, Generator Loss: 0.020, Time: 51.56s\n"
     ]
    },
    {
     "name": "stderr",
     "output_type": "stream",
     "text": [
      "Batch 469/469: 100%|█████████████| 469/469 [00:52<00:00,  8.89batch/s]\n"
     ]
    },
    {
     "name": "stdout",
     "output_type": "stream",
     "text": [
      "Epoch [48/100], Discriminator Loss: 0.016, Generator Loss: 0.020, Time: 52.74s\n"
     ]
    },
    {
     "name": "stderr",
     "output_type": "stream",
     "text": [
      "Batch 469/469: 100%|█████████████| 469/469 [00:52<00:00,  8.92batch/s]\n"
     ]
    },
    {
     "name": "stdout",
     "output_type": "stream",
     "text": [
      "Epoch [49/100], Discriminator Loss: 0.016, Generator Loss: 0.020, Time: 52.55s\n"
     ]
    },
    {
     "name": "stderr",
     "output_type": "stream",
     "text": [
      "Batch 469/469: 100%|█████████████| 469/469 [00:52<00:00,  8.85batch/s]\n"
     ]
    },
    {
     "name": "stdout",
     "output_type": "stream",
     "text": [
      "Epoch [50/100], Discriminator Loss: 0.016, Generator Loss: 0.020, Time: 52.98s\n"
     ]
    },
    {
     "name": "stderr",
     "output_type": "stream",
     "text": [
      "Batch 469/469: 100%|█████████████| 469/469 [00:52<00:00,  8.95batch/s]\n"
     ]
    },
    {
     "name": "stdout",
     "output_type": "stream",
     "text": [
      "Epoch [51/100], Discriminator Loss: 0.016, Generator Loss: 0.019, Time: 52.39s\n"
     ]
    },
    {
     "name": "stderr",
     "output_type": "stream",
     "text": [
      "Batch 469/469: 100%|█████████████| 469/469 [00:52<00:00,  8.91batch/s]\n"
     ]
    },
    {
     "name": "stdout",
     "output_type": "stream",
     "text": [
      "Epoch [52/100], Discriminator Loss: 0.016, Generator Loss: 0.019, Time: 52.62s\n"
     ]
    },
    {
     "name": "stderr",
     "output_type": "stream",
     "text": [
      "Batch 469/469: 100%|█████████████| 469/469 [00:52<00:00,  9.00batch/s]\n"
     ]
    },
    {
     "name": "stdout",
     "output_type": "stream",
     "text": [
      "Epoch [53/100], Discriminator Loss: 0.016, Generator Loss: 0.020, Time: 52.14s\n"
     ]
    },
    {
     "name": "stderr",
     "output_type": "stream",
     "text": [
      "Batch 469/469: 100%|█████████████| 469/469 [00:52<00:00,  9.00batch/s]\n"
     ]
    },
    {
     "name": "stdout",
     "output_type": "stream",
     "text": [
      "Epoch [54/100], Discriminator Loss: 0.016, Generator Loss: 0.020, Time: 52.10s\n"
     ]
    },
    {
     "name": "stderr",
     "output_type": "stream",
     "text": [
      "Batch 469/469: 100%|█████████████| 469/469 [00:52<00:00,  8.97batch/s]\n"
     ]
    },
    {
     "name": "stdout",
     "output_type": "stream",
     "text": [
      "Epoch [55/100], Discriminator Loss: 0.016, Generator Loss: 0.020, Time: 52.30s\n"
     ]
    },
    {
     "name": "stderr",
     "output_type": "stream",
     "text": [
      "Batch 469/469: 100%|█████████████| 469/469 [00:52<00:00,  8.87batch/s]\n"
     ]
    },
    {
     "name": "stdout",
     "output_type": "stream",
     "text": [
      "Epoch [56/100], Discriminator Loss: 0.016, Generator Loss: 0.020, Time: 52.87s\n"
     ]
    },
    {
     "name": "stderr",
     "output_type": "stream",
     "text": [
      "Batch 469/469: 100%|█████████████| 469/469 [00:54<00:00,  8.60batch/s]\n"
     ]
    },
    {
     "name": "stdout",
     "output_type": "stream",
     "text": [
      "Epoch [57/100], Discriminator Loss: 0.017, Generator Loss: 0.019, Time: 54.56s\n"
     ]
    },
    {
     "name": "stderr",
     "output_type": "stream",
     "text": [
      "Batch 469/469: 100%|█████████████| 469/469 [00:51<00:00,  9.05batch/s]\n"
     ]
    },
    {
     "name": "stdout",
     "output_type": "stream",
     "text": [
      "Epoch [58/100], Discriminator Loss: 0.016, Generator Loss: 0.019, Time: 51.83s\n"
     ]
    },
    {
     "name": "stderr",
     "output_type": "stream",
     "text": [
      "Batch 469/469: 100%|█████████████| 469/469 [00:51<00:00,  9.02batch/s]\n"
     ]
    },
    {
     "name": "stdout",
     "output_type": "stream",
     "text": [
      "Epoch [59/100], Discriminator Loss: 0.016, Generator Loss: 0.020, Time: 51.97s\n"
     ]
    },
    {
     "name": "stderr",
     "output_type": "stream",
     "text": [
      "Batch 469/469: 100%|█████████████| 469/469 [00:53<00:00,  8.77batch/s]\n"
     ]
    },
    {
     "name": "stdout",
     "output_type": "stream",
     "text": [
      "Epoch [60/100], Discriminator Loss: 0.017, Generator Loss: 0.019, Time: 53.48s\n"
     ]
    },
    {
     "name": "stderr",
     "output_type": "stream",
     "text": [
      "Batch 469/469: 100%|█████████████| 469/469 [00:52<00:00,  8.85batch/s]\n"
     ]
    },
    {
     "name": "stdout",
     "output_type": "stream",
     "text": [
      "Epoch [61/100], Discriminator Loss: 0.017, Generator Loss: 0.019, Time: 52.99s\n"
     ]
    },
    {
     "name": "stderr",
     "output_type": "stream",
     "text": [
      "Batch 469/469: 100%|█████████████| 469/469 [00:54<00:00,  8.67batch/s]\n"
     ]
    },
    {
     "name": "stdout",
     "output_type": "stream",
     "text": [
      "Epoch [62/100], Discriminator Loss: 0.016, Generator Loss: 0.019, Time: 54.12s\n"
     ]
    },
    {
     "name": "stderr",
     "output_type": "stream",
     "text": [
      "Batch 469/469: 100%|█████████████| 469/469 [00:52<00:00,  8.99batch/s]\n"
     ]
    },
    {
     "name": "stdout",
     "output_type": "stream",
     "text": [
      "Epoch [63/100], Discriminator Loss: 0.017, Generator Loss: 0.019, Time: 52.15s\n"
     ]
    },
    {
     "name": "stderr",
     "output_type": "stream",
     "text": [
      "Batch 469/469: 100%|█████████████| 469/469 [00:52<00:00,  8.96batch/s]\n"
     ]
    },
    {
     "name": "stdout",
     "output_type": "stream",
     "text": [
      "Epoch [64/100], Discriminator Loss: 0.017, Generator Loss: 0.019, Time: 52.37s\n"
     ]
    },
    {
     "name": "stderr",
     "output_type": "stream",
     "text": [
      "Batch 469/469: 100%|█████████████| 469/469 [00:52<00:00,  8.98batch/s]\n"
     ]
    },
    {
     "name": "stdout",
     "output_type": "stream",
     "text": [
      "Epoch [65/100], Discriminator Loss: 0.016, Generator Loss: 0.020, Time: 52.20s\n"
     ]
    },
    {
     "name": "stderr",
     "output_type": "stream",
     "text": [
      "Batch 469/469: 100%|█████████████| 469/469 [00:51<00:00,  9.09batch/s]\n"
     ]
    },
    {
     "name": "stdout",
     "output_type": "stream",
     "text": [
      "Epoch [66/100], Discriminator Loss: 0.016, Generator Loss: 0.020, Time: 51.57s\n"
     ]
    },
    {
     "name": "stderr",
     "output_type": "stream",
     "text": [
      "Batch 469/469: 100%|█████████████| 469/469 [00:52<00:00,  8.99batch/s]\n"
     ]
    },
    {
     "name": "stdout",
     "output_type": "stream",
     "text": [
      "Epoch [67/100], Discriminator Loss: 0.017, Generator Loss: 0.019, Time: 52.20s\n"
     ]
    },
    {
     "name": "stderr",
     "output_type": "stream",
     "text": [
      "Batch 469/469: 100%|█████████████| 469/469 [00:52<00:00,  8.97batch/s]\n"
     ]
    },
    {
     "name": "stdout",
     "output_type": "stream",
     "text": [
      "Epoch [68/100], Discriminator Loss: 0.017, Generator Loss: 0.019, Time: 52.29s\n"
     ]
    },
    {
     "name": "stderr",
     "output_type": "stream",
     "text": [
      "Batch 469/469: 100%|█████████████| 469/469 [00:52<00:00,  8.86batch/s]\n"
     ]
    },
    {
     "name": "stdout",
     "output_type": "stream",
     "text": [
      "Epoch [69/100], Discriminator Loss: 0.017, Generator Loss: 0.019, Time: 52.94s\n"
     ]
    },
    {
     "name": "stderr",
     "output_type": "stream",
     "text": [
      "Batch 469/469: 100%|█████████████| 469/469 [00:51<00:00,  9.09batch/s]\n"
     ]
    },
    {
     "name": "stdout",
     "output_type": "stream",
     "text": [
      "Epoch [70/100], Discriminator Loss: 0.017, Generator Loss: 0.020, Time: 51.59s\n"
     ]
    },
    {
     "name": "stderr",
     "output_type": "stream",
     "text": [
      "Batch 469/469: 100%|█████████████| 469/469 [00:51<00:00,  9.05batch/s]\n"
     ]
    },
    {
     "name": "stdout",
     "output_type": "stream",
     "text": [
      "Epoch [71/100], Discriminator Loss: 0.017, Generator Loss: 0.019, Time: 51.84s\n"
     ]
    },
    {
     "name": "stderr",
     "output_type": "stream",
     "text": [
      "Batch 469/469: 100%|█████████████| 469/469 [00:51<00:00,  9.03batch/s]\n"
     ]
    },
    {
     "name": "stdout",
     "output_type": "stream",
     "text": [
      "Epoch [72/100], Discriminator Loss: 0.017, Generator Loss: 0.019, Time: 51.96s\n"
     ]
    },
    {
     "name": "stderr",
     "output_type": "stream",
     "text": [
      "Batch 469/469: 100%|█████████████| 469/469 [00:52<00:00,  8.99batch/s]\n"
     ]
    },
    {
     "name": "stdout",
     "output_type": "stream",
     "text": [
      "Epoch [73/100], Discriminator Loss: 0.017, Generator Loss: 0.019, Time: 52.20s\n"
     ]
    },
    {
     "name": "stderr",
     "output_type": "stream",
     "text": [
      "Batch 469/469: 100%|█████████████| 469/469 [00:52<00:00,  8.93batch/s]\n"
     ]
    },
    {
     "name": "stdout",
     "output_type": "stream",
     "text": [
      "Epoch [74/100], Discriminator Loss: 0.017, Generator Loss: 0.019, Time: 52.50s\n"
     ]
    },
    {
     "name": "stderr",
     "output_type": "stream",
     "text": [
      "Batch 469/469: 100%|█████████████| 469/469 [00:52<00:00,  8.86batch/s]\n"
     ]
    },
    {
     "name": "stdout",
     "output_type": "stream",
     "text": [
      "Epoch [75/100], Discriminator Loss: 0.017, Generator Loss: 0.019, Time: 52.92s\n"
     ]
    },
    {
     "name": "stderr",
     "output_type": "stream",
     "text": [
      "Batch 469/469: 100%|█████████████| 469/469 [00:53<00:00,  8.80batch/s]\n"
     ]
    },
    {
     "name": "stdout",
     "output_type": "stream",
     "text": [
      "Epoch [76/100], Discriminator Loss: 0.017, Generator Loss: 0.019, Time: 53.32s\n"
     ]
    },
    {
     "name": "stderr",
     "output_type": "stream",
     "text": [
      "Batch 469/469: 100%|█████████████| 469/469 [00:52<00:00,  8.93batch/s]\n"
     ]
    },
    {
     "name": "stdout",
     "output_type": "stream",
     "text": [
      "Epoch [77/100], Discriminator Loss: 0.017, Generator Loss: 0.019, Time: 52.52s\n"
     ]
    },
    {
     "name": "stderr",
     "output_type": "stream",
     "text": [
      "Batch 469/469: 100%|█████████████| 469/469 [00:52<00:00,  8.88batch/s]\n"
     ]
    },
    {
     "name": "stdout",
     "output_type": "stream",
     "text": [
      "Epoch [78/100], Discriminator Loss: 0.017, Generator Loss: 0.019, Time: 52.80s\n"
     ]
    },
    {
     "name": "stderr",
     "output_type": "stream",
     "text": [
      "Batch 469/469: 100%|█████████████| 469/469 [00:54<00:00,  8.62batch/s]\n"
     ]
    },
    {
     "name": "stdout",
     "output_type": "stream",
     "text": [
      "Epoch [79/100], Discriminator Loss: 0.017, Generator Loss: 0.019, Time: 54.42s\n"
     ]
    },
    {
     "name": "stderr",
     "output_type": "stream",
     "text": [
      "Batch 469/469: 100%|█████████████| 469/469 [00:52<00:00,  8.85batch/s]\n"
     ]
    },
    {
     "name": "stdout",
     "output_type": "stream",
     "text": [
      "Epoch [80/100], Discriminator Loss: 0.017, Generator Loss: 0.019, Time: 53.00s\n"
     ]
    },
    {
     "name": "stderr",
     "output_type": "stream",
     "text": [
      "Batch 469/469: 100%|█████████████| 469/469 [00:52<00:00,  8.92batch/s]\n"
     ]
    },
    {
     "name": "stdout",
     "output_type": "stream",
     "text": [
      "Epoch [81/100], Discriminator Loss: 0.017, Generator Loss: 0.019, Time: 52.60s\n"
     ]
    },
    {
     "name": "stderr",
     "output_type": "stream",
     "text": [
      "Batch 469/469: 100%|█████████████| 469/469 [00:51<00:00,  9.04batch/s]\n"
     ]
    },
    {
     "name": "stdout",
     "output_type": "stream",
     "text": [
      "Epoch [82/100], Discriminator Loss: 0.017, Generator Loss: 0.019, Time: 51.88s\n"
     ]
    },
    {
     "name": "stderr",
     "output_type": "stream",
     "text": [
      "Batch 469/469: 100%|█████████████| 469/469 [00:52<00:00,  8.97batch/s]\n"
     ]
    },
    {
     "name": "stdout",
     "output_type": "stream",
     "text": [
      "Epoch [83/100], Discriminator Loss: 0.017, Generator Loss: 0.019, Time: 52.31s\n"
     ]
    },
    {
     "name": "stderr",
     "output_type": "stream",
     "text": [
      "Batch 469/469: 100%|█████████████| 469/469 [00:52<00:00,  9.01batch/s]\n"
     ]
    },
    {
     "name": "stdout",
     "output_type": "stream",
     "text": [
      "Epoch [84/100], Discriminator Loss: 0.017, Generator Loss: 0.019, Time: 52.05s\n"
     ]
    },
    {
     "name": "stderr",
     "output_type": "stream",
     "text": [
      "Batch 469/469: 100%|█████████████| 469/469 [00:56<00:00,  8.37batch/s]\n"
     ]
    },
    {
     "name": "stdout",
     "output_type": "stream",
     "text": [
      "Epoch [85/100], Discriminator Loss: 0.017, Generator Loss: 0.019, Time: 56.06s\n"
     ]
    },
    {
     "name": "stderr",
     "output_type": "stream",
     "text": [
      "Batch 469/469: 100%|█████████████| 469/469 [00:52<00:00,  9.01batch/s]\n"
     ]
    },
    {
     "name": "stdout",
     "output_type": "stream",
     "text": [
      "Epoch [86/100], Discriminator Loss: 0.017, Generator Loss: 0.019, Time: 52.08s\n"
     ]
    },
    {
     "name": "stderr",
     "output_type": "stream",
     "text": [
      "Batch 469/469: 100%|█████████████| 469/469 [00:51<00:00,  9.03batch/s]\n"
     ]
    },
    {
     "name": "stdout",
     "output_type": "stream",
     "text": [
      "Epoch [87/100], Discriminator Loss: 0.017, Generator Loss: 0.019, Time: 51.93s\n"
     ]
    },
    {
     "name": "stderr",
     "output_type": "stream",
     "text": [
      "Batch 469/469: 100%|█████████████| 469/469 [00:51<00:00,  9.02batch/s]\n"
     ]
    },
    {
     "name": "stdout",
     "output_type": "stream",
     "text": [
      "Epoch [88/100], Discriminator Loss: 0.017, Generator Loss: 0.019, Time: 51.99s\n"
     ]
    },
    {
     "name": "stderr",
     "output_type": "stream",
     "text": [
      "Batch 469/469: 100%|█████████████| 469/469 [00:52<00:00,  8.99batch/s]\n"
     ]
    },
    {
     "name": "stdout",
     "output_type": "stream",
     "text": [
      "Epoch [89/100], Discriminator Loss: 0.017, Generator Loss: 0.019, Time: 52.18s\n"
     ]
    },
    {
     "name": "stderr",
     "output_type": "stream",
     "text": [
      "Batch 469/469: 100%|█████████████| 469/469 [00:52<00:00,  8.98batch/s]\n"
     ]
    },
    {
     "name": "stdout",
     "output_type": "stream",
     "text": [
      "Epoch [90/100], Discriminator Loss: 0.017, Generator Loss: 0.019, Time: 52.20s\n"
     ]
    },
    {
     "name": "stderr",
     "output_type": "stream",
     "text": [
      "Batch 469/469: 100%|█████████████| 469/469 [00:52<00:00,  8.94batch/s]\n"
     ]
    },
    {
     "name": "stdout",
     "output_type": "stream",
     "text": [
      "Epoch [91/100], Discriminator Loss: 0.017, Generator Loss: 0.019, Time: 52.45s\n"
     ]
    },
    {
     "name": "stderr",
     "output_type": "stream",
     "text": [
      "Batch 469/469: 100%|█████████████| 469/469 [00:51<00:00,  9.05batch/s]\n"
     ]
    },
    {
     "name": "stdout",
     "output_type": "stream",
     "text": [
      "Epoch [92/100], Discriminator Loss: 0.017, Generator Loss: 0.019, Time: 51.82s\n"
     ]
    },
    {
     "name": "stderr",
     "output_type": "stream",
     "text": [
      "Batch 469/469: 100%|█████████████| 469/469 [00:52<00:00,  8.96batch/s]\n"
     ]
    },
    {
     "name": "stdout",
     "output_type": "stream",
     "text": [
      "Epoch [93/100], Discriminator Loss: 0.017, Generator Loss: 0.019, Time: 52.37s\n"
     ]
    },
    {
     "name": "stderr",
     "output_type": "stream",
     "text": [
      "Batch 469/469: 100%|█████████████| 469/469 [00:52<00:00,  8.94batch/s]\n"
     ]
    },
    {
     "name": "stdout",
     "output_type": "stream",
     "text": [
      "Epoch [94/100], Discriminator Loss: 0.017, Generator Loss: 0.019, Time: 52.45s\n"
     ]
    },
    {
     "name": "stderr",
     "output_type": "stream",
     "text": [
      "Batch 469/469: 100%|█████████████| 469/469 [00:52<00:00,  9.00batch/s]\n"
     ]
    },
    {
     "name": "stdout",
     "output_type": "stream",
     "text": [
      "Epoch [95/100], Discriminator Loss: 0.016, Generator Loss: 0.019, Time: 52.09s\n"
     ]
    },
    {
     "name": "stderr",
     "output_type": "stream",
     "text": [
      "Batch 469/469: 100%|█████████████| 469/469 [00:56<00:00,  8.25batch/s]\n"
     ]
    },
    {
     "name": "stdout",
     "output_type": "stream",
     "text": [
      "Epoch [96/100], Discriminator Loss: 0.016, Generator Loss: 0.019, Time: 56.88s\n"
     ]
    },
    {
     "name": "stderr",
     "output_type": "stream",
     "text": [
      "Batch 469/469: 100%|█████████████| 469/469 [00:53<00:00,  8.73batch/s]\n"
     ]
    },
    {
     "name": "stdout",
     "output_type": "stream",
     "text": [
      "Epoch [97/100], Discriminator Loss: 0.016, Generator Loss: 0.019, Time: 53.75s\n"
     ]
    },
    {
     "name": "stderr",
     "output_type": "stream",
     "text": [
      "Batch 469/469: 100%|█████████████| 469/469 [00:50<00:00,  9.21batch/s]\n"
     ]
    },
    {
     "name": "stdout",
     "output_type": "stream",
     "text": [
      "Epoch [98/100], Discriminator Loss: 0.016, Generator Loss: 0.019, Time: 50.92s\n"
     ]
    },
    {
     "name": "stderr",
     "output_type": "stream",
     "text": [
      "Batch 469/469: 100%|█████████████| 469/469 [00:50<00:00,  9.21batch/s]\n"
     ]
    },
    {
     "name": "stdout",
     "output_type": "stream",
     "text": [
      "Epoch [99/100], Discriminator Loss: 0.016, Generator Loss: 0.019, Time: 50.93s\n"
     ]
    },
    {
     "name": "stderr",
     "output_type": "stream",
     "text": [
      "Batch 469/469: 100%|█████████████| 469/469 [00:51<00:00,  9.09batch/s]"
     ]
    },
    {
     "name": "stdout",
     "output_type": "stream",
     "text": [
      "Epoch [100/100], Discriminator Loss: 0.016, Generator Loss: 0.020, Time: 51.62s\n"
     ]
    },
    {
     "name": "stderr",
     "output_type": "stream",
     "text": [
      "\n"
     ]
    }
   ],
   "source": [
    "num_epochs = 100\n",
    "batch_size = 128\n",
    "transform = transforms.Compose([transforms.ToTensor(), transforms.Normalize((0.5,), (0.5,))])\n",
    "dataset = MNIST(root='./', train=True, transform=transform, download=False)\n",
    "dataloader = DataLoader(dataset, batch_size=batch_size, shuffle=True)\n",
    "loss_history_d, loss_history_g = train_gan(generator, discriminator, dataloader, num_epochs, 5)"
   ]
  },
  {
   "cell_type": "code",
   "execution_count": 24,
   "id": "3010f938",
   "metadata": {
    "scrolled": true
   },
   "outputs": [
    {
     "data": {
      "image/png": "[encoded data removed]",
      "text/plain": [
       "<Figure size 640x480 with 1 Axes>"
      ]
     },
     "metadata": {},
     "output_type": "display_data"
    }
   ],
   "source": [
    "plt.plot(loss_history_d, label='Discriminator Loss')\n",
    "plt.plot(loss_history_g, label='Generator Loss')\n",
    "plt.title(\"Loss History\")\n",
    "plt.xlabel(\"Epochs\")\n",
    "plt.ylabel(\"Loss\")\n",
    "plt.legend()\n",
    "plt.savefig(fname=\"./GAN_Loss_critic_5.png\")\n",
    "plt.show()"
   ]
  },
  {
   "cell_type": "code",
   "execution_count": 25,
   "id": "27625caa",
   "metadata": {},
   "outputs": [],
   "source": [
    "torch.save(generator.state_dict(), \"./models/Generator_critic_5.pth\")\n",
    "torch.save(discriminator.state_dict(), \"./models/Descriminator_critic_5.pth\")\n",
    "del generator, discriminator"
   ]
  },
  {
   "cell_type": "markdown",
   "id": "6a8f509b",
   "metadata": {},
   "source": [
    "# WGAN"
   ]
  },
  {
   "cell_type": "code",
   "execution_count": 52,
   "id": "d01b19d4",
   "metadata": {},
   "outputs": [],
   "source": [
    "latent_dim = 100\n",
    "output_dim = 784\n",
    "\n",
    "generator = models.W_Generator(latent_dim, output_dim).cuda()\n",
    "discriminator = models.W_Discriminator(output_dim).cuda()"
   ]
  },
  {
   "cell_type": "code",
   "execution_count": 53,
   "id": "474c6671",
   "metadata": {},
   "outputs": [],
   "source": [
    "critic_iterations = 5\n",
    "clip_value = 0.01\n",
    "\n",
    "generator_optimizer = optim.RMSprop(generator.parameters(), lr=0.00005)\n",
    "discriminator_optimizer = optim.RMSprop(discriminator.parameters(), lr=0.00005)"
   ]
  },
  {
   "cell_type": "code",
   "execution_count": 42,
   "id": "b0aa8c34",
   "metadata": {},
   "outputs": [],
   "source": [
    "def train_wgan(generator, discriminator, dataloader, num_epochs, clip_value=clip_value):\n",
    "    generator.train()\n",
    "    discriminator.train()\n",
    "    loss_history_dr, loss_history_df, loss_history_g = [], [], []\n",
    "\n",
    "    for epoch in range(num_epochs):\n",
    "        total_loss_dr, total_loss_df, total_loss_g = 0, 0, 0\n",
    "        pbar = tqdm.tqdm(dataloader,\n",
    "                         leave=True,\n",
    "                         ncols=70,\n",
    "                         unit='batch')\n",
    "        start_time = time.time()\n",
    "        for i, (real_images, _) in enumerate(pbar):\n",
    "            real_images = real_images.view(real_images.size(0), -1).cuda()\n",
    "            \n",
    "            # Train Discriminator\n",
    "            for _ in range(critic_iterations):\n",
    "                discriminator.zero_grad()\n",
    "                \n",
    "                # Real images\n",
    "                real_outputs = discriminator(real_images)\n",
    "                real_loss = -torch.mean(real_outputs)\n",
    "                real_loss.backward()\n",
    "                total_loss_dr += real_loss.item()\n",
    "                \n",
    "                # Fake images\n",
    "                noise = torch.randn(real_images.size(0), latent_dim).cuda()\n",
    "                fake_images = generator(noise)\n",
    "                fake_outputs = discriminator(fake_images.detach())\n",
    "                fake_loss = torch.mean(fake_outputs)\n",
    "                fake_loss.backward()\n",
    "                total_loss_df += fake_loss.item()\n",
    "                \n",
    "                discriminator_optimizer.step()\n",
    "                \n",
    "                # Weight clipping\n",
    "                for p in discriminator.parameters():\n",
    "                    p.data.clamp_(-clip_value, clip_value)\n",
    "            \n",
    "            # Train Generator\n",
    "            generator.zero_grad()\n",
    "            noise = torch.randn(real_images.size(0), latent_dim).cuda()\n",
    "            fake_images = generator(noise)\n",
    "            outputs = discriminator(fake_images)\n",
    "            generator_loss = -torch.mean(outputs)\n",
    "            generator_loss.backward()\n",
    "            total_loss_g += generator_loss.item()\n",
    "            generator_optimizer.step()\n",
    "            \n",
    "        end_time = time.time()\n",
    "        loss_history_dr.append(total_loss_dr / len(dataloader.dataset))\n",
    "        loss_history_df.append(total_loss_df / len(dataloader.dataset))\n",
    "        loss_history_g.append(total_loss_g / len(dataloader.dataset))\n",
    "        \n",
    "        print('Epoch [{}/{}], Real Loss: {:.3f}, Fake Loss: {:.3f}, Generator Loss: {:.3f}, Time: {:.2f}s'.format(\n",
    "            epoch + 1, \n",
    "            num_epochs,\n",
    "            total_loss_dr / len(dataloader.dataset),\n",
    "            total_loss_df / len(dataloader.dataset),\n",
    "            total_loss_g / len(dataloader.dataset),\n",
    "            end_time - start_time))\n",
    "    return (loss_history_dr, loss_history_df), loss_history_g"
   ]
  },
  {
   "cell_type": "markdown",
   "id": "ad6f036b",
   "metadata": {},
   "source": [
    "### Instance 0\n",
    "critic_iterations = 5\n",
    "clipping_value = 0.01"
   ]
  },
  {
   "cell_type": "code",
   "execution_count": 6,
   "id": "3c57d3be",
   "metadata": {
    "scrolled": true
   },
   "outputs": [
    {
     "name": "stderr",
     "output_type": "stream",
     "text": [
      "100%|████████████████████████████| 469/469 [01:00<00:00,  7.74batch/s]\n"
     ]
    },
    {
     "name": "stdout",
     "output_type": "stream",
     "text": [
      "Epoch [1/100], Real Loss: -0.071, Fake Loss: 0.070, Generator Loss: -0.014, Time: 60.57s\n"
     ]
    },
    {
     "name": "stderr",
     "output_type": "stream",
     "text": [
      "100%|████████████████████████████| 469/469 [00:59<00:00,  7.83batch/s]\n"
     ]
    },
    {
     "name": "stdout",
     "output_type": "stream",
     "text": [
      "Epoch [2/100], Real Loss: -0.037, Fake Loss: 0.037, Generator Loss: -0.007, Time: 59.93s\n"
     ]
    },
    {
     "name": "stderr",
     "output_type": "stream",
     "text": [
      "100%|████████████████████████████| 469/469 [00:58<00:00,  8.03batch/s]\n"
     ]
    },
    {
     "name": "stdout",
     "output_type": "stream",
     "text": [
      "Epoch [3/100], Real Loss: -0.015, Fake Loss: 0.013, Generator Loss: -0.003, Time: 58.40s\n"
     ]
    },
    {
     "name": "stderr",
     "output_type": "stream",
     "text": [
      "100%|████████████████████████████| 469/469 [00:58<00:00,  8.07batch/s]\n"
     ]
    },
    {
     "name": "stdout",
     "output_type": "stream",
     "text": [
      "Epoch [4/100], Real Loss: -0.008, Fake Loss: 0.006, Generator Loss: -0.001, Time: 58.13s\n"
     ]
    },
    {
     "name": "stderr",
     "output_type": "stream",
     "text": [
      "100%|████████████████████████████| 469/469 [00:56<00:00,  8.28batch/s]\n"
     ]
    },
    {
     "name": "stdout",
     "output_type": "stream",
     "text": [
      "Epoch [5/100], Real Loss: -0.010, Fake Loss: 0.008, Generator Loss: -0.001, Time: 56.66s\n"
     ]
    },
    {
     "name": "stderr",
     "output_type": "stream",
     "text": [
      "100%|████████████████████████████| 469/469 [00:56<00:00,  8.24batch/s]\n"
     ]
    },
    {
     "name": "stdout",
     "output_type": "stream",
     "text": [
      "Epoch [6/100], Real Loss: -0.008, Fake Loss: 0.005, Generator Loss: -0.001, Time: 56.93s\n"
     ]
    },
    {
     "name": "stderr",
     "output_type": "stream",
     "text": [
      "100%|████████████████████████████| 469/469 [00:56<00:00,  8.29batch/s]\n"
     ]
    },
    {
     "name": "stdout",
     "output_type": "stream",
     "text": [
      "Epoch [7/100], Real Loss: -0.006, Fake Loss: 0.003, Generator Loss: -0.001, Time: 56.59s\n"
     ]
    },
    {
     "name": "stderr",
     "output_type": "stream",
     "text": [
      "100%|████████████████████████████| 469/469 [00:57<00:00,  8.21batch/s]\n"
     ]
    },
    {
     "name": "stdout",
     "output_type": "stream",
     "text": [
      "Epoch [8/100], Real Loss: -0.008, Fake Loss: 0.005, Generator Loss: -0.001, Time: 57.12s\n"
     ]
    },
    {
     "name": "stderr",
     "output_type": "stream",
     "text": [
      "100%|████████████████████████████| 469/469 [00:57<00:00,  8.20batch/s]\n"
     ]
    },
    {
     "name": "stdout",
     "output_type": "stream",
     "text": [
      "Epoch [9/100], Real Loss: -0.008, Fake Loss: 0.005, Generator Loss: -0.001, Time: 57.17s\n"
     ]
    },
    {
     "name": "stderr",
     "output_type": "stream",
     "text": [
      "100%|████████████████████████████| 469/469 [00:57<00:00,  8.17batch/s]\n"
     ]
    },
    {
     "name": "stdout",
     "output_type": "stream",
     "text": [
      "Epoch [10/100], Real Loss: -0.008, Fake Loss: 0.006, Generator Loss: -0.001, Time: 57.42s\n"
     ]
    },
    {
     "name": "stderr",
     "output_type": "stream",
     "text": [
      "100%|████████████████████████████| 469/469 [00:59<00:00,  7.89batch/s]\n"
     ]
    },
    {
     "name": "stdout",
     "output_type": "stream",
     "text": [
      "Epoch [11/100], Real Loss: -0.008, Fake Loss: 0.006, Generator Loss: -0.001, Time: 59.43s\n"
     ]
    },
    {
     "name": "stderr",
     "output_type": "stream",
     "text": [
      "100%|████████████████████████████| 469/469 [00:57<00:00,  8.23batch/s]\n"
     ]
    },
    {
     "name": "stdout",
     "output_type": "stream",
     "text": [
      "Epoch [12/100], Real Loss: -0.009, Fake Loss: 0.006, Generator Loss: -0.001, Time: 57.01s\n"
     ]
    },
    {
     "name": "stderr",
     "output_type": "stream",
     "text": [
      "100%|████████████████████████████| 469/469 [00:57<00:00,  8.13batch/s]\n"
     ]
    },
    {
     "name": "stdout",
     "output_type": "stream",
     "text": [
      "Epoch [13/100], Real Loss: -0.007, Fake Loss: 0.005, Generator Loss: -0.001, Time: 57.71s\n"
     ]
    },
    {
     "name": "stderr",
     "output_type": "stream",
     "text": [
      "100%|████████████████████████████| 469/469 [00:56<00:00,  8.28batch/s]\n"
     ]
    },
    {
     "name": "stdout",
     "output_type": "stream",
     "text": [
      "Epoch [14/100], Real Loss: -0.009, Fake Loss: 0.007, Generator Loss: -0.001, Time: 56.66s\n"
     ]
    },
    {
     "name": "stderr",
     "output_type": "stream",
     "text": [
      "100%|████████████████████████████| 469/469 [00:56<00:00,  8.26batch/s]\n"
     ]
    },
    {
     "name": "stdout",
     "output_type": "stream",
     "text": [
      "Epoch [15/100], Real Loss: -0.007, Fake Loss: 0.005, Generator Loss: -0.001, Time: 56.81s\n"
     ]
    },
    {
     "name": "stderr",
     "output_type": "stream",
     "text": [
      "100%|████████████████████████████| 469/469 [00:56<00:00,  8.27batch/s]\n"
     ]
    },
    {
     "name": "stdout",
     "output_type": "stream",
     "text": [
      "Epoch [16/100], Real Loss: -0.009, Fake Loss: 0.007, Generator Loss: -0.001, Time: 56.74s\n"
     ]
    },
    {
     "name": "stderr",
     "output_type": "stream",
     "text": [
      "100%|████████████████████████████| 469/469 [00:57<00:00,  8.22batch/s]\n"
     ]
    },
    {
     "name": "stdout",
     "output_type": "stream",
     "text": [
      "Epoch [17/100], Real Loss: -0.007, Fake Loss: 0.005, Generator Loss: -0.001, Time: 57.03s\n"
     ]
    },
    {
     "name": "stderr",
     "output_type": "stream",
     "text": [
      "100%|████████████████████████████| 469/469 [00:56<00:00,  8.25batch/s]\n"
     ]
    },
    {
     "name": "stdout",
     "output_type": "stream",
     "text": [
      "Epoch [18/100], Real Loss: -0.008, Fake Loss: 0.006, Generator Loss: -0.001, Time: 56.85s\n"
     ]
    },
    {
     "name": "stderr",
     "output_type": "stream",
     "text": [
      "100%|████████████████████████████| 469/469 [00:57<00:00,  8.22batch/s]\n"
     ]
    },
    {
     "name": "stdout",
     "output_type": "stream",
     "text": [
      "Epoch [19/100], Real Loss: -0.008, Fake Loss: 0.006, Generator Loss: -0.001, Time: 57.03s\n"
     ]
    },
    {
     "name": "stderr",
     "output_type": "stream",
     "text": [
      "100%|████████████████████████████| 469/469 [00:56<00:00,  8.29batch/s]\n"
     ]
    },
    {
     "name": "stdout",
     "output_type": "stream",
     "text": [
      "Epoch [20/100], Real Loss: -0.010, Fake Loss: 0.008, Generator Loss: -0.002, Time: 56.60s\n"
     ]
    },
    {
     "name": "stderr",
     "output_type": "stream",
     "text": [
      "100%|████████████████████████████| 469/469 [00:57<00:00,  8.21batch/s]\n"
     ]
    },
    {
     "name": "stdout",
     "output_type": "stream",
     "text": [
      "Epoch [21/100], Real Loss: -0.008, Fake Loss: 0.006, Generator Loss: -0.001, Time: 57.14s\n"
     ]
    },
    {
     "name": "stderr",
     "output_type": "stream",
     "text": [
      "100%|████████████████████████████| 469/469 [00:57<00:00,  8.20batch/s]\n"
     ]
    },
    {
     "name": "stdout",
     "output_type": "stream",
     "text": [
      "Epoch [22/100], Real Loss: -0.009, Fake Loss: 0.007, Generator Loss: -0.001, Time: 57.17s\n"
     ]
    },
    {
     "name": "stderr",
     "output_type": "stream",
     "text": [
      "100%|████████████████████████████| 469/469 [00:58<00:00,  8.06batch/s]\n"
     ]
    },
    {
     "name": "stdout",
     "output_type": "stream",
     "text": [
      "Epoch [23/100], Real Loss: -0.008, Fake Loss: 0.006, Generator Loss: -0.001, Time: 58.22s\n"
     ]
    },
    {
     "name": "stderr",
     "output_type": "stream",
     "text": [
      "100%|████████████████████████████| 469/469 [00:58<00:00,  7.98batch/s]\n"
     ]
    },
    {
     "name": "stdout",
     "output_type": "stream",
     "text": [
      "Epoch [24/100], Real Loss: -0.009, Fake Loss: 0.008, Generator Loss: -0.002, Time: 58.81s\n"
     ]
    },
    {
     "name": "stderr",
     "output_type": "stream",
     "text": [
      "100%|████████████████████████████| 469/469 [00:56<00:00,  8.27batch/s]\n"
     ]
    },
    {
     "name": "stdout",
     "output_type": "stream",
     "text": [
      "Epoch [25/100], Real Loss: -0.007, Fake Loss: 0.005, Generator Loss: -0.001, Time: 56.70s\n"
     ]
    },
    {
     "name": "stderr",
     "output_type": "stream",
     "text": [
      "100%|████████████████████████████| 469/469 [00:56<00:00,  8.25batch/s]\n"
     ]
    },
    {
     "name": "stdout",
     "output_type": "stream",
     "text": [
      "Epoch [26/100], Real Loss: -0.008, Fake Loss: 0.006, Generator Loss: -0.001, Time: 56.82s\n"
     ]
    },
    {
     "name": "stderr",
     "output_type": "stream",
     "text": [
      "100%|████████████████████████████| 469/469 [00:56<00:00,  8.24batch/s]\n"
     ]
    },
    {
     "name": "stdout",
     "output_type": "stream",
     "text": [
      "Epoch [27/100], Real Loss: -0.008, Fake Loss: 0.006, Generator Loss: -0.001, Time: 56.90s\n"
     ]
    },
    {
     "name": "stderr",
     "output_type": "stream",
     "text": [
      "100%|████████████████████████████| 469/469 [00:56<00:00,  8.25batch/s]\n"
     ]
    },
    {
     "name": "stdout",
     "output_type": "stream",
     "text": [
      "Epoch [28/100], Real Loss: -0.009, Fake Loss: 0.007, Generator Loss: -0.001, Time: 56.83s\n"
     ]
    },
    {
     "name": "stderr",
     "output_type": "stream",
     "text": [
      "100%|████████████████████████████| 469/469 [00:57<00:00,  8.16batch/s]\n"
     ]
    },
    {
     "name": "stdout",
     "output_type": "stream",
     "text": [
      "Epoch [29/100], Real Loss: -0.008, Fake Loss: 0.006, Generator Loss: -0.001, Time: 57.45s\n"
     ]
    },
    {
     "name": "stderr",
     "output_type": "stream",
     "text": [
      "100%|████████████████████████████| 469/469 [00:56<00:00,  8.23batch/s]\n"
     ]
    },
    {
     "name": "stdout",
     "output_type": "stream",
     "text": [
      "Epoch [30/100], Real Loss: -0.008, Fake Loss: 0.006, Generator Loss: -0.001, Time: 56.99s\n"
     ]
    },
    {
     "name": "stderr",
     "output_type": "stream",
     "text": [
      "100%|████████████████████████████| 469/469 [00:56<00:00,  8.31batch/s]\n"
     ]
    },
    {
     "name": "stdout",
     "output_type": "stream",
     "text": [
      "Epoch [31/100], Real Loss: -0.009, Fake Loss: 0.007, Generator Loss: -0.001, Time: 56.41s\n"
     ]
    },
    {
     "name": "stderr",
     "output_type": "stream",
     "text": [
      "100%|████████████████████████████| 469/469 [00:57<00:00,  8.18batch/s]\n"
     ]
    },
    {
     "name": "stdout",
     "output_type": "stream",
     "text": [
      "Epoch [32/100], Real Loss: -0.008, Fake Loss: 0.007, Generator Loss: -0.001, Time: 57.35s\n"
     ]
    },
    {
     "name": "stderr",
     "output_type": "stream",
     "text": [
      "100%|████████████████████████████| 469/469 [00:56<00:00,  8.30batch/s]\n"
     ]
    },
    {
     "name": "stdout",
     "output_type": "stream",
     "text": [
      "Epoch [33/100], Real Loss: -0.009, Fake Loss: 0.007, Generator Loss: -0.001, Time: 56.52s\n"
     ]
    },
    {
     "name": "stderr",
     "output_type": "stream",
     "text": [
      "100%|████████████████████████████| 469/469 [00:56<00:00,  8.25batch/s]\n"
     ]
    },
    {
     "name": "stdout",
     "output_type": "stream",
     "text": [
      "Epoch [34/100], Real Loss: -0.009, Fake Loss: 0.007, Generator Loss: -0.001, Time: 56.86s\n"
     ]
    },
    {
     "name": "stderr",
     "output_type": "stream",
     "text": [
      "100%|████████████████████████████| 469/469 [00:56<00:00,  8.32batch/s]\n"
     ]
    },
    {
     "name": "stdout",
     "output_type": "stream",
     "text": [
      "Epoch [35/100], Real Loss: -0.008, Fake Loss: 0.006, Generator Loss: -0.001, Time: 56.34s\n"
     ]
    },
    {
     "name": "stderr",
     "output_type": "stream",
     "text": [
      "100%|████████████████████████████| 469/469 [00:56<00:00,  8.31batch/s]\n"
     ]
    },
    {
     "name": "stdout",
     "output_type": "stream",
     "text": [
      "Epoch [36/100], Real Loss: -0.011, Fake Loss: 0.009, Generator Loss: -0.002, Time: 56.46s\n"
     ]
    },
    {
     "name": "stderr",
     "output_type": "stream",
     "text": [
      "100%|████████████████████████████| 469/469 [00:56<00:00,  8.24batch/s]\n"
     ]
    },
    {
     "name": "stdout",
     "output_type": "stream",
     "text": [
      "Epoch [37/100], Real Loss: -0.008, Fake Loss: 0.007, Generator Loss: -0.001, Time: 56.89s\n"
     ]
    },
    {
     "name": "stderr",
     "output_type": "stream",
     "text": [
      "100%|████████████████████████████| 469/469 [00:56<00:00,  8.28batch/s]\n"
     ]
    },
    {
     "name": "stdout",
     "output_type": "stream",
     "text": [
      "Epoch [38/100], Real Loss: -0.009, Fake Loss: 0.008, Generator Loss: -0.002, Time: 56.63s\n"
     ]
    },
    {
     "name": "stderr",
     "output_type": "stream",
     "text": [
      "100%|████████████████████████████| 469/469 [00:57<00:00,  8.20batch/s]\n"
     ]
    },
    {
     "name": "stdout",
     "output_type": "stream",
     "text": [
      "Epoch [39/100], Real Loss: -0.009, Fake Loss: 0.008, Generator Loss: -0.001, Time: 57.19s\n"
     ]
    },
    {
     "name": "stderr",
     "output_type": "stream",
     "text": [
      "100%|████████████████████████████| 469/469 [00:56<00:00,  8.23batch/s]\n"
     ]
    },
    {
     "name": "stdout",
     "output_type": "stream",
     "text": [
      "Epoch [40/100], Real Loss: -0.009, Fake Loss: 0.007, Generator Loss: -0.001, Time: 56.98s\n"
     ]
    },
    {
     "name": "stderr",
     "output_type": "stream",
     "text": [
      "100%|████████████████████████████| 469/469 [00:56<00:00,  8.27batch/s]\n"
     ]
    },
    {
     "name": "stdout",
     "output_type": "stream",
     "text": [
      "Epoch [41/100], Real Loss: -0.007, Fake Loss: 0.006, Generator Loss: -0.001, Time: 56.70s\n"
     ]
    },
    {
     "name": "stderr",
     "output_type": "stream",
     "text": [
      "100%|████████████████████████████| 469/469 [00:56<00:00,  8.23batch/s]\n"
     ]
    },
    {
     "name": "stdout",
     "output_type": "stream",
     "text": [
      "Epoch [42/100], Real Loss: -0.009, Fake Loss: 0.007, Generator Loss: -0.001, Time: 56.98s\n"
     ]
    },
    {
     "name": "stderr",
     "output_type": "stream",
     "text": [
      "100%|████████████████████████████| 469/469 [00:57<00:00,  8.21batch/s]\n"
     ]
    },
    {
     "name": "stdout",
     "output_type": "stream",
     "text": [
      "Epoch [43/100], Real Loss: -0.009, Fake Loss: 0.008, Generator Loss: -0.002, Time: 57.11s\n"
     ]
    },
    {
     "name": "stderr",
     "output_type": "stream",
     "text": [
      "100%|████████████████████████████| 469/469 [00:57<00:00,  8.09batch/s]\n"
     ]
    },
    {
     "name": "stdout",
     "output_type": "stream",
     "text": [
      "Epoch [44/100], Real Loss: -0.009, Fake Loss: 0.007, Generator Loss: -0.001, Time: 57.98s\n"
     ]
    },
    {
     "name": "stderr",
     "output_type": "stream",
     "text": [
      "100%|████████████████████████████| 469/469 [00:57<00:00,  8.09batch/s]\n"
     ]
    },
    {
     "name": "stdout",
     "output_type": "stream",
     "text": [
      "Epoch [45/100], Real Loss: -0.006, Fake Loss: 0.005, Generator Loss: -0.001, Time: 57.96s\n"
     ]
    },
    {
     "name": "stderr",
     "output_type": "stream",
     "text": [
      "100%|████████████████████████████| 469/469 [00:57<00:00,  8.12batch/s]\n"
     ]
    },
    {
     "name": "stdout",
     "output_type": "stream",
     "text": [
      "Epoch [46/100], Real Loss: -0.005, Fake Loss: 0.003, Generator Loss: -0.001, Time: 57.76s\n"
     ]
    },
    {
     "name": "stderr",
     "output_type": "stream",
     "text": [
      "100%|████████████████████████████| 469/469 [00:56<00:00,  8.29batch/s]\n"
     ]
    },
    {
     "name": "stdout",
     "output_type": "stream",
     "text": [
      "Epoch [47/100], Real Loss: -0.004, Fake Loss: 0.002, Generator Loss: -0.000, Time: 56.55s\n"
     ]
    },
    {
     "name": "stderr",
     "output_type": "stream",
     "text": [
      "100%|████████████████████████████| 469/469 [00:56<00:00,  8.37batch/s]\n"
     ]
    },
    {
     "name": "stdout",
     "output_type": "stream",
     "text": [
      "Epoch [48/100], Real Loss: -0.003, Fake Loss: 0.001, Generator Loss: -0.000, Time: 56.03s\n"
     ]
    },
    {
     "name": "stderr",
     "output_type": "stream",
     "text": [
      "100%|████████████████████████████| 469/469 [00:56<00:00,  8.23batch/s]\n"
     ]
    },
    {
     "name": "stdout",
     "output_type": "stream",
     "text": [
      "Epoch [49/100], Real Loss: -0.003, Fake Loss: 0.000, Generator Loss: -0.000, Time: 56.96s\n"
     ]
    },
    {
     "name": "stderr",
     "output_type": "stream",
     "text": [
      "100%|████████████████████████████| 469/469 [00:58<00:00,  8.03batch/s]\n"
     ]
    },
    {
     "name": "stdout",
     "output_type": "stream",
     "text": [
      "Epoch [50/100], Real Loss: -0.003, Fake Loss: -0.000, Generator Loss: 0.000, Time: 58.44s\n"
     ]
    },
    {
     "name": "stderr",
     "output_type": "stream",
     "text": [
      "100%|████████████████████████████| 469/469 [00:45<00:00, 10.29batch/s]\n"
     ]
    },
    {
     "name": "stdout",
     "output_type": "stream",
     "text": [
      "Epoch [51/100], Real Loss: -0.003, Fake Loss: -0.001, Generator Loss: 0.000, Time: 45.60s\n"
     ]
    },
    {
     "name": "stderr",
     "output_type": "stream",
     "text": [
      "100%|████████████████████████████| 469/469 [00:37<00:00, 12.35batch/s]\n"
     ]
    },
    {
     "name": "stdout",
     "output_type": "stream",
     "text": [
      "Epoch [52/100], Real Loss: -0.003, Fake Loss: -0.000, Generator Loss: 0.000, Time: 37.97s\n"
     ]
    },
    {
     "name": "stderr",
     "output_type": "stream",
     "text": [
      "100%|████████████████████████████| 469/469 [00:38<00:00, 12.08batch/s]\n"
     ]
    },
    {
     "name": "stdout",
     "output_type": "stream",
     "text": [
      "Epoch [53/100], Real Loss: -0.003, Fake Loss: 0.000, Generator Loss: -0.000, Time: 38.81s\n"
     ]
    },
    {
     "name": "stderr",
     "output_type": "stream",
     "text": [
      "100%|████████████████████████████| 469/469 [00:38<00:00, 12.32batch/s]\n"
     ]
    },
    {
     "name": "stdout",
     "output_type": "stream",
     "text": [
      "Epoch [54/100], Real Loss: -0.004, Fake Loss: 0.001, Generator Loss: -0.000, Time: 38.07s\n"
     ]
    },
    {
     "name": "stderr",
     "output_type": "stream",
     "text": [
      "100%|████████████████████████████| 469/469 [00:37<00:00, 12.45batch/s]\n"
     ]
    },
    {
     "name": "stdout",
     "output_type": "stream",
     "text": [
      "Epoch [55/100], Real Loss: -0.003, Fake Loss: 0.001, Generator Loss: -0.000, Time: 37.68s\n"
     ]
    },
    {
     "name": "stderr",
     "output_type": "stream",
     "text": [
      "100%|████████████████████████████| 469/469 [00:38<00:00, 12.30batch/s]\n"
     ]
    },
    {
     "name": "stdout",
     "output_type": "stream",
     "text": [
      "Epoch [56/100], Real Loss: -0.004, Fake Loss: 0.001, Generator Loss: -0.000, Time: 38.13s\n"
     ]
    },
    {
     "name": "stderr",
     "output_type": "stream",
     "text": [
      "100%|████████████████████████████| 469/469 [00:38<00:00, 12.22batch/s]\n"
     ]
    },
    {
     "name": "stdout",
     "output_type": "stream",
     "text": [
      "Epoch [57/100], Real Loss: -0.004, Fake Loss: 0.001, Generator Loss: -0.000, Time: 38.38s\n"
     ]
    },
    {
     "name": "stderr",
     "output_type": "stream",
     "text": [
      "100%|████████████████████████████| 469/469 [00:38<00:00, 12.27batch/s]\n"
     ]
    },
    {
     "name": "stdout",
     "output_type": "stream",
     "text": [
      "Epoch [58/100], Real Loss: -0.004, Fake Loss: 0.001, Generator Loss: -0.000, Time: 38.23s\n"
     ]
    },
    {
     "name": "stderr",
     "output_type": "stream",
     "text": [
      "100%|████████████████████████████| 469/469 [00:53<00:00,  8.73batch/s]\n"
     ]
    },
    {
     "name": "stdout",
     "output_type": "stream",
     "text": [
      "Epoch [59/100], Real Loss: -0.004, Fake Loss: 0.001, Generator Loss: -0.000, Time: 53.75s\n"
     ]
    },
    {
     "name": "stderr",
     "output_type": "stream",
     "text": [
      "100%|████████████████████████████| 469/469 [00:40<00:00, 11.49batch/s]\n"
     ]
    },
    {
     "name": "stdout",
     "output_type": "stream",
     "text": [
      "Epoch [60/100], Real Loss: -0.004, Fake Loss: 0.002, Generator Loss: -0.000, Time: 40.82s\n"
     ]
    },
    {
     "name": "stderr",
     "output_type": "stream",
     "text": [
      "100%|████████████████████████████| 469/469 [00:38<00:00, 12.12batch/s]\n"
     ]
    },
    {
     "name": "stdout",
     "output_type": "stream",
     "text": [
      "Epoch [61/100], Real Loss: -0.005, Fake Loss: 0.002, Generator Loss: -0.000, Time: 38.70s\n"
     ]
    },
    {
     "name": "stderr",
     "output_type": "stream",
     "text": [
      "100%|████████████████████████████| 469/469 [00:38<00:00, 12.20batch/s]\n"
     ]
    },
    {
     "name": "stdout",
     "output_type": "stream",
     "text": [
      "Epoch [62/100], Real Loss: -0.005, Fake Loss: 0.002, Generator Loss: -0.000, Time: 38.44s\n"
     ]
    },
    {
     "name": "stderr",
     "output_type": "stream",
     "text": [
      "100%|████████████████████████████| 469/469 [00:37<00:00, 12.45batch/s]\n"
     ]
    },
    {
     "name": "stdout",
     "output_type": "stream",
     "text": [
      "Epoch [63/100], Real Loss: -0.005, Fake Loss: 0.002, Generator Loss: -0.000, Time: 37.67s\n"
     ]
    },
    {
     "name": "stderr",
     "output_type": "stream",
     "text": [
      "100%|████████████████████████████| 469/469 [00:42<00:00, 11.00batch/s]\n"
     ]
    },
    {
     "name": "stdout",
     "output_type": "stream",
     "text": [
      "Epoch [64/100], Real Loss: -0.004, Fake Loss: 0.002, Generator Loss: -0.000, Time: 42.63s\n"
     ]
    },
    {
     "name": "stderr",
     "output_type": "stream",
     "text": [
      "100%|████████████████████████████| 469/469 [00:37<00:00, 12.43batch/s]\n"
     ]
    },
    {
     "name": "stdout",
     "output_type": "stream",
     "text": [
      "Epoch [65/100], Real Loss: -0.004, Fake Loss: 0.002, Generator Loss: -0.000, Time: 37.72s\n"
     ]
    },
    {
     "name": "stderr",
     "output_type": "stream",
     "text": [
      "100%|████████████████████████████| 469/469 [00:38<00:00, 12.24batch/s]\n"
     ]
    },
    {
     "name": "stdout",
     "output_type": "stream",
     "text": [
      "Epoch [66/100], Real Loss: -0.004, Fake Loss: 0.002, Generator Loss: -0.000, Time: 38.33s\n"
     ]
    },
    {
     "name": "stderr",
     "output_type": "stream",
     "text": [
      "100%|████████████████████████████| 469/469 [00:38<00:00, 12.21batch/s]\n"
     ]
    },
    {
     "name": "stdout",
     "output_type": "stream",
     "text": [
      "Epoch [67/100], Real Loss: -0.004, Fake Loss: 0.002, Generator Loss: -0.000, Time: 38.41s\n"
     ]
    },
    {
     "name": "stderr",
     "output_type": "stream",
     "text": [
      "100%|████████████████████████████| 469/469 [00:37<00:00, 12.42batch/s]\n"
     ]
    },
    {
     "name": "stdout",
     "output_type": "stream",
     "text": [
      "Epoch [68/100], Real Loss: -0.004, Fake Loss: 0.002, Generator Loss: -0.000, Time: 37.75s\n"
     ]
    },
    {
     "name": "stderr",
     "output_type": "stream",
     "text": [
      "100%|████████████████████████████| 469/469 [00:38<00:00, 12.22batch/s]\n"
     ]
    },
    {
     "name": "stdout",
     "output_type": "stream",
     "text": [
      "Epoch [69/100], Real Loss: -0.004, Fake Loss: 0.002, Generator Loss: -0.000, Time: 38.37s\n"
     ]
    },
    {
     "name": "stderr",
     "output_type": "stream",
     "text": [
      "100%|████████████████████████████| 469/469 [00:37<00:00, 12.40batch/s]\n"
     ]
    },
    {
     "name": "stdout",
     "output_type": "stream",
     "text": [
      "Epoch [70/100], Real Loss: -0.004, Fake Loss: 0.002, Generator Loss: -0.000, Time: 37.84s\n"
     ]
    },
    {
     "name": "stderr",
     "output_type": "stream",
     "text": [
      "100%|████████████████████████████| 469/469 [00:37<00:00, 12.36batch/s]\n"
     ]
    },
    {
     "name": "stdout",
     "output_type": "stream",
     "text": [
      "Epoch [71/100], Real Loss: -0.004, Fake Loss: 0.002, Generator Loss: -0.000, Time: 37.94s\n"
     ]
    },
    {
     "name": "stderr",
     "output_type": "stream",
     "text": [
      "100%|████████████████████████████| 469/469 [00:38<00:00, 12.34batch/s]\n"
     ]
    },
    {
     "name": "stdout",
     "output_type": "stream",
     "text": [
      "Epoch [72/100], Real Loss: -0.004, Fake Loss: 0.002, Generator Loss: -0.000, Time: 38.01s\n"
     ]
    },
    {
     "name": "stderr",
     "output_type": "stream",
     "text": [
      "100%|████████████████████████████| 469/469 [00:38<00:00, 12.14batch/s]\n"
     ]
    },
    {
     "name": "stdout",
     "output_type": "stream",
     "text": [
      "Epoch [73/100], Real Loss: -0.004, Fake Loss: 0.002, Generator Loss: -0.000, Time: 38.62s\n"
     ]
    },
    {
     "name": "stderr",
     "output_type": "stream",
     "text": [
      "100%|████████████████████████████| 469/469 [00:38<00:00, 12.19batch/s]\n"
     ]
    },
    {
     "name": "stdout",
     "output_type": "stream",
     "text": [
      "Epoch [74/100], Real Loss: -0.004, Fake Loss: 0.002, Generator Loss: -0.000, Time: 38.49s\n"
     ]
    },
    {
     "name": "stderr",
     "output_type": "stream",
     "text": [
      "100%|████████████████████████████| 469/469 [00:41<00:00, 11.21batch/s]\n"
     ]
    },
    {
     "name": "stdout",
     "output_type": "stream",
     "text": [
      "Epoch [75/100], Real Loss: -0.004, Fake Loss: 0.002, Generator Loss: -0.000, Time: 41.83s\n"
     ]
    },
    {
     "name": "stderr",
     "output_type": "stream",
     "text": [
      "100%|████████████████████████████| 469/469 [00:38<00:00, 12.25batch/s]\n"
     ]
    },
    {
     "name": "stdout",
     "output_type": "stream",
     "text": [
      "Epoch [76/100], Real Loss: -0.005, Fake Loss: 0.002, Generator Loss: -0.000, Time: 38.29s\n"
     ]
    },
    {
     "name": "stderr",
     "output_type": "stream",
     "text": [
      "100%|████████████████████████████| 469/469 [00:38<00:00, 12.22batch/s]\n"
     ]
    },
    {
     "name": "stdout",
     "output_type": "stream",
     "text": [
      "Epoch [77/100], Real Loss: -0.004, Fake Loss: 0.002, Generator Loss: -0.000, Time: 38.37s\n"
     ]
    },
    {
     "name": "stderr",
     "output_type": "stream",
     "text": [
      "100%|████████████████████████████| 469/469 [00:38<00:00, 12.23batch/s]\n"
     ]
    },
    {
     "name": "stdout",
     "output_type": "stream",
     "text": [
      "Epoch [78/100], Real Loss: -0.004, Fake Loss: 0.002, Generator Loss: -0.000, Time: 38.34s\n"
     ]
    },
    {
     "name": "stderr",
     "output_type": "stream",
     "text": [
      "100%|████████████████████████████| 469/469 [00:37<00:00, 12.37batch/s]\n"
     ]
    },
    {
     "name": "stdout",
     "output_type": "stream",
     "text": [
      "Epoch [79/100], Real Loss: -0.004, Fake Loss: 0.002, Generator Loss: -0.000, Time: 37.90s\n"
     ]
    },
    {
     "name": "stderr",
     "output_type": "stream",
     "text": [
      "100%|████████████████████████████| 469/469 [00:38<00:00, 12.28batch/s]\n"
     ]
    },
    {
     "name": "stdout",
     "output_type": "stream",
     "text": [
      "Epoch [80/100], Real Loss: -0.004, Fake Loss: 0.002, Generator Loss: -0.000, Time: 38.20s\n"
     ]
    },
    {
     "name": "stderr",
     "output_type": "stream",
     "text": [
      "100%|████████████████████████████| 469/469 [00:38<00:00, 12.24batch/s]\n"
     ]
    },
    {
     "name": "stdout",
     "output_type": "stream",
     "text": [
      "Epoch [81/100], Real Loss: -0.004, Fake Loss: 0.002, Generator Loss: -0.000, Time: 38.32s\n"
     ]
    },
    {
     "name": "stderr",
     "output_type": "stream",
     "text": [
      "100%|████████████████████████████| 469/469 [00:38<00:00, 12.32batch/s]\n"
     ]
    },
    {
     "name": "stdout",
     "output_type": "stream",
     "text": [
      "Epoch [82/100], Real Loss: -0.004, Fake Loss: 0.002, Generator Loss: -0.000, Time: 38.07s\n"
     ]
    },
    {
     "name": "stderr",
     "output_type": "stream",
     "text": [
      "100%|████████████████████████████| 469/469 [00:38<00:00, 12.32batch/s]\n"
     ]
    },
    {
     "name": "stdout",
     "output_type": "stream",
     "text": [
      "Epoch [83/100], Real Loss: -0.004, Fake Loss: 0.002, Generator Loss: -0.000, Time: 38.07s\n"
     ]
    },
    {
     "name": "stderr",
     "output_type": "stream",
     "text": [
      "100%|████████████████████████████| 469/469 [00:38<00:00, 12.20batch/s]\n"
     ]
    },
    {
     "name": "stdout",
     "output_type": "stream",
     "text": [
      "Epoch [84/100], Real Loss: -0.004, Fake Loss: 0.003, Generator Loss: -0.001, Time: 38.46s\n"
     ]
    },
    {
     "name": "stderr",
     "output_type": "stream",
     "text": [
      "100%|████████████████████████████| 469/469 [00:38<00:00, 12.26batch/s]\n"
     ]
    },
    {
     "name": "stdout",
     "output_type": "stream",
     "text": [
      "Epoch [85/100], Real Loss: -0.004, Fake Loss: 0.002, Generator Loss: -0.000, Time: 38.27s\n"
     ]
    },
    {
     "name": "stderr",
     "output_type": "stream",
     "text": [
      "100%|████████████████████████████| 469/469 [00:37<00:00, 12.37batch/s]\n"
     ]
    },
    {
     "name": "stdout",
     "output_type": "stream",
     "text": [
      "Epoch [86/100], Real Loss: -0.004, Fake Loss: 0.002, Generator Loss: -0.000, Time: 37.92s\n"
     ]
    },
    {
     "name": "stderr",
     "output_type": "stream",
     "text": [
      "100%|████████████████████████████| 469/469 [00:41<00:00, 11.40batch/s]\n"
     ]
    },
    {
     "name": "stdout",
     "output_type": "stream",
     "text": [
      "Epoch [87/100], Real Loss: -0.004, Fake Loss: 0.002, Generator Loss: -0.000, Time: 41.14s\n"
     ]
    },
    {
     "name": "stderr",
     "output_type": "stream",
     "text": [
      "100%|████████████████████████████| 469/469 [00:38<00:00, 12.27batch/s]\n"
     ]
    },
    {
     "name": "stdout",
     "output_type": "stream",
     "text": [
      "Epoch [88/100], Real Loss: -0.004, Fake Loss: 0.002, Generator Loss: -0.000, Time: 38.21s\n"
     ]
    },
    {
     "name": "stderr",
     "output_type": "stream",
     "text": [
      "100%|████████████████████████████| 469/469 [00:37<00:00, 12.41batch/s]\n"
     ]
    },
    {
     "name": "stdout",
     "output_type": "stream",
     "text": [
      "Epoch [89/100], Real Loss: -0.005, Fake Loss: 0.003, Generator Loss: -0.001, Time: 37.80s\n"
     ]
    },
    {
     "name": "stderr",
     "output_type": "stream",
     "text": [
      "100%|████████████████████████████| 469/469 [00:38<00:00, 12.31batch/s]\n"
     ]
    },
    {
     "name": "stdout",
     "output_type": "stream",
     "text": [
      "Epoch [90/100], Real Loss: -0.004, Fake Loss: 0.002, Generator Loss: -0.000, Time: 38.11s\n"
     ]
    },
    {
     "name": "stderr",
     "output_type": "stream",
     "text": [
      "100%|████████████████████████████| 469/469 [00:38<00:00, 12.27batch/s]\n"
     ]
    },
    {
     "name": "stdout",
     "output_type": "stream",
     "text": [
      "Epoch [91/100], Real Loss: -0.004, Fake Loss: 0.002, Generator Loss: -0.000, Time: 38.22s\n"
     ]
    },
    {
     "name": "stderr",
     "output_type": "stream",
     "text": [
      "100%|████████████████████████████| 469/469 [00:37<00:00, 12.41batch/s]\n"
     ]
    },
    {
     "name": "stdout",
     "output_type": "stream",
     "text": [
      "Epoch [92/100], Real Loss: -0.004, Fake Loss: 0.002, Generator Loss: -0.000, Time: 37.78s\n"
     ]
    },
    {
     "name": "stderr",
     "output_type": "stream",
     "text": [
      "100%|████████████████████████████| 469/469 [00:38<00:00, 12.31batch/s]\n"
     ]
    },
    {
     "name": "stdout",
     "output_type": "stream",
     "text": [
      "Epoch [93/100], Real Loss: -0.004, Fake Loss: 0.002, Generator Loss: -0.000, Time: 38.11s\n"
     ]
    },
    {
     "name": "stderr",
     "output_type": "stream",
     "text": [
      "100%|████████████████████████████| 469/469 [00:37<00:00, 12.37batch/s]\n"
     ]
    },
    {
     "name": "stdout",
     "output_type": "stream",
     "text": [
      "Epoch [94/100], Real Loss: -0.004, Fake Loss: 0.002, Generator Loss: -0.000, Time: 37.91s\n"
     ]
    },
    {
     "name": "stderr",
     "output_type": "stream",
     "text": [
      "100%|████████████████████████████| 469/469 [00:38<00:00, 12.33batch/s]\n"
     ]
    },
    {
     "name": "stdout",
     "output_type": "stream",
     "text": [
      "Epoch [95/100], Real Loss: -0.004, Fake Loss: 0.002, Generator Loss: -0.000, Time: 38.03s\n"
     ]
    },
    {
     "name": "stderr",
     "output_type": "stream",
     "text": [
      "100%|████████████████████████████| 469/469 [00:37<00:00, 12.36batch/s]\n"
     ]
    },
    {
     "name": "stdout",
     "output_type": "stream",
     "text": [
      "Epoch [96/100], Real Loss: -0.004, Fake Loss: 0.002, Generator Loss: -0.000, Time: 37.95s\n"
     ]
    },
    {
     "name": "stderr",
     "output_type": "stream",
     "text": [
      "100%|████████████████████████████| 469/469 [00:38<00:00, 12.12batch/s]\n"
     ]
    },
    {
     "name": "stdout",
     "output_type": "stream",
     "text": [
      "Epoch [97/100], Real Loss: -0.003, Fake Loss: 0.002, Generator Loss: -0.000, Time: 38.70s\n"
     ]
    },
    {
     "name": "stderr",
     "output_type": "stream",
     "text": [
      "100%|████████████████████████████| 469/469 [00:41<00:00, 11.41batch/s]\n"
     ]
    },
    {
     "name": "stdout",
     "output_type": "stream",
     "text": [
      "Epoch [98/100], Real Loss: -0.003, Fake Loss: 0.001, Generator Loss: -0.000, Time: 41.12s\n"
     ]
    },
    {
     "name": "stderr",
     "output_type": "stream",
     "text": [
      "100%|████████████████████████████| 469/469 [00:38<00:00, 12.23batch/s]\n"
     ]
    },
    {
     "name": "stdout",
     "output_type": "stream",
     "text": [
      "Epoch [99/100], Real Loss: -0.003, Fake Loss: 0.001, Generator Loss: -0.000, Time: 38.35s\n"
     ]
    },
    {
     "name": "stderr",
     "output_type": "stream",
     "text": [
      "100%|████████████████████████████| 469/469 [00:38<00:00, 12.32batch/s]"
     ]
    },
    {
     "name": "stdout",
     "output_type": "stream",
     "text": [
      "Epoch [100/100], Real Loss: -0.003, Fake Loss: 0.001, Generator Loss: -0.000, Time: 38.07s\n"
     ]
    },
    {
     "name": "stderr",
     "output_type": "stream",
     "text": [
      "\n"
     ]
    }
   ],
   "source": [
    "num_epochs = 100\n",
    "batch_size = 128\n",
    "transform = transforms.Compose([transforms.ToTensor(), transforms.Normalize((0.5,), (0.5,))])\n",
    "dataset = MNIST(root='./', train=True, transform=transform, download=False)\n",
    "dataloader = DataLoader(dataset, batch_size=batch_size, shuffle=True)\n",
    "(loss_history_dr, loss_history_df), loss_history_g = train_wgan(generator, discriminator, dataloader, num_epochs)"
   ]
  },
  {
   "cell_type": "code",
   "execution_count": 7,
   "id": "20e755e5",
   "metadata": {},
   "outputs": [
    {
     "data": {
      "image/png": "[encoded data removed]",
      "text/plain": [
       "<Figure size 640x480 with 1 Axes>"
      ]
     },
     "metadata": {},
     "output_type": "display_data"
    }
   ],
   "source": [
    "plt.plot(loss_history_dr, label='Real Loss')\n",
    "plt.plot(loss_history_df, label='Fake Loss')\n",
    "plt.plot(loss_history_g, label='Generator Loss')\n",
    "plt.title(\"Loss History\")\n",
    "plt.xlabel(\"Epochs\")\n",
    "plt.ylabel(\"Loss\")\n",
    "plt.legend()\n",
    "plt.savefig(fname=\"./WGAN_Loss_critic_5.png\")\n",
    "plt.show()"
   ]
  },
  {
   "cell_type": "code",
   "execution_count": 8,
   "id": "cde6d317",
   "metadata": {},
   "outputs": [],
   "source": [
    "torch.save(generator.state_dict(), \"./models/W_Generator_critic_5.pth\")\n",
    "torch.save(discriminator.state_dict(), \"./models/W_Descriminator_critic_5.pth\")\n",
    "del generator, discriminator"
   ]
  },
  {
   "cell_type": "markdown",
   "id": "7c51fc3e",
   "metadata": {},
   "source": [
    "### Instance 1\n",
    "critic_iterations = 5\n",
    "clipping_value = 0.1"
   ]
  },
  {
   "cell_type": "code",
   "execution_count": 5,
   "id": "5bf0584a",
   "metadata": {
    "scrolled": true
   },
   "outputs": [
    {
     "name": "stderr",
     "output_type": "stream",
     "text": [
      "100%|████████████████████████████| 469/469 [00:24<00:00, 18.79batch/s]\n"
     ]
    },
    {
     "name": "stdout",
     "output_type": "stream",
     "text": [
      "Epoch [1/100], Real Loss: -21.652, Fake Loss: 21.089, Generator Loss: -4.225, Time: 24.96s\n"
     ]
    },
    {
     "name": "stderr",
     "output_type": "stream",
     "text": [
      "100%|████████████████████████████| 469/469 [00:39<00:00, 11.85batch/s]\n"
     ]
    },
    {
     "name": "stdout",
     "output_type": "stream",
     "text": [
      "Epoch [2/100], Real Loss: -38.429, Fake Loss: 37.777, Generator Loss: -7.554, Time: 39.56s\n"
     ]
    },
    {
     "name": "stderr",
     "output_type": "stream",
     "text": [
      "100%|████████████████████████████| 469/469 [00:35<00:00, 13.18batch/s]\n"
     ]
    },
    {
     "name": "stdout",
     "output_type": "stream",
     "text": [
      "Epoch [3/100], Real Loss: -31.806, Fake Loss: 31.220, Generator Loss: -6.231, Time: 35.57s\n"
     ]
    },
    {
     "name": "stderr",
     "output_type": "stream",
     "text": [
      "100%|████████████████████████████| 469/469 [00:35<00:00, 13.25batch/s]\n"
     ]
    },
    {
     "name": "stdout",
     "output_type": "stream",
     "text": [
      "Epoch [4/100], Real Loss: -19.874, Fake Loss: 18.860, Generator Loss: -3.766, Time: 35.40s\n"
     ]
    },
    {
     "name": "stderr",
     "output_type": "stream",
     "text": [
      "100%|████████████████████████████| 469/469 [00:33<00:00, 13.86batch/s]\n"
     ]
    },
    {
     "name": "stdout",
     "output_type": "stream",
     "text": [
      "Epoch [5/100], Real Loss: -8.324, Fake Loss: 5.884, Generator Loss: -1.161, Time: 33.83s\n"
     ]
    },
    {
     "name": "stderr",
     "output_type": "stream",
     "text": [
      "100%|████████████████████████████| 469/469 [00:34<00:00, 13.73batch/s]\n"
     ]
    },
    {
     "name": "stdout",
     "output_type": "stream",
     "text": [
      "Epoch [6/100], Real Loss: -12.475, Fake Loss: 9.177, Generator Loss: -1.813, Time: 34.16s\n"
     ]
    },
    {
     "name": "stderr",
     "output_type": "stream",
     "text": [
      "100%|████████████████████████████| 469/469 [00:33<00:00, 13.89batch/s]\n"
     ]
    },
    {
     "name": "stdout",
     "output_type": "stream",
     "text": [
      "Epoch [7/100], Real Loss: -20.938, Fake Loss: 18.131, Generator Loss: -3.604, Time: 33.78s\n"
     ]
    },
    {
     "name": "stderr",
     "output_type": "stream",
     "text": [
      "100%|████████████████████████████| 469/469 [00:37<00:00, 12.65batch/s]\n"
     ]
    },
    {
     "name": "stdout",
     "output_type": "stream",
     "text": [
      "Epoch [8/100], Real Loss: -32.120, Fake Loss: 26.481, Generator Loss: -5.289, Time: 37.08s\n"
     ]
    },
    {
     "name": "stderr",
     "output_type": "stream",
     "text": [
      "100%|████████████████████████████| 469/469 [00:34<00:00, 13.73batch/s]\n"
     ]
    },
    {
     "name": "stdout",
     "output_type": "stream",
     "text": [
      "Epoch [9/100], Real Loss: -41.638, Fake Loss: 35.705, Generator Loss: -7.118, Time: 34.17s\n"
     ]
    },
    {
     "name": "stderr",
     "output_type": "stream",
     "text": [
      "100%|████████████████████████████| 469/469 [00:33<00:00, 13.85batch/s]\n"
     ]
    },
    {
     "name": "stdout",
     "output_type": "stream",
     "text": [
      "Epoch [10/100], Real Loss: -37.462, Fake Loss: 32.354, Generator Loss: -6.440, Time: 33.86s\n"
     ]
    },
    {
     "name": "stderr",
     "output_type": "stream",
     "text": [
      "100%|████████████████████████████| 469/469 [00:34<00:00, 13.65batch/s]\n"
     ]
    },
    {
     "name": "stdout",
     "output_type": "stream",
     "text": [
      "Epoch [11/100], Real Loss: -34.361, Fake Loss: 28.518, Generator Loss: -5.670, Time: 34.36s\n"
     ]
    },
    {
     "name": "stderr",
     "output_type": "stream",
     "text": [
      "100%|████████████████████████████| 469/469 [00:33<00:00, 13.81batch/s]\n"
     ]
    },
    {
     "name": "stdout",
     "output_type": "stream",
     "text": [
      "Epoch [12/100], Real Loss: -29.613, Fake Loss: 23.712, Generator Loss: -4.704, Time: 33.97s\n"
     ]
    },
    {
     "name": "stderr",
     "output_type": "stream",
     "text": [
      "100%|████████████████████████████| 469/469 [00:34<00:00, 13.65batch/s]\n"
     ]
    },
    {
     "name": "stdout",
     "output_type": "stream",
     "text": [
      "Epoch [13/100], Real Loss: -23.426, Fake Loss: 18.069, Generator Loss: -3.558, Time: 34.36s\n"
     ]
    },
    {
     "name": "stderr",
     "output_type": "stream",
     "text": [
      "100%|████████████████████████████| 469/469 [00:34<00:00, 13.71batch/s]\n"
     ]
    },
    {
     "name": "stdout",
     "output_type": "stream",
     "text": [
      "Epoch [14/100], Real Loss: -22.362, Fake Loss: 14.721, Generator Loss: -2.900, Time: 34.20s\n"
     ]
    },
    {
     "name": "stderr",
     "output_type": "stream",
     "text": [
      "100%|████████████████████████████| 469/469 [00:34<00:00, 13.74batch/s]\n"
     ]
    },
    {
     "name": "stdout",
     "output_type": "stream",
     "text": [
      "Epoch [15/100], Real Loss: -18.572, Fake Loss: 14.183, Generator Loss: -2.797, Time: 34.15s\n"
     ]
    },
    {
     "name": "stderr",
     "output_type": "stream",
     "text": [
      "100%|████████████████████████████| 469/469 [00:33<00:00, 13.81batch/s]\n"
     ]
    },
    {
     "name": "stdout",
     "output_type": "stream",
     "text": [
      "Epoch [16/100], Real Loss: -18.754, Fake Loss: 14.207, Generator Loss: -2.792, Time: 33.97s\n"
     ]
    },
    {
     "name": "stderr",
     "output_type": "stream",
     "text": [
      "100%|████████████████████████████| 469/469 [00:35<00:00, 13.20batch/s]\n"
     ]
    },
    {
     "name": "stdout",
     "output_type": "stream",
     "text": [
      "Epoch [17/100], Real Loss: -16.557, Fake Loss: 12.293, Generator Loss: -2.421, Time: 35.53s\n"
     ]
    },
    {
     "name": "stderr",
     "output_type": "stream",
     "text": [
      "100%|████████████████████████████| 469/469 [00:37<00:00, 12.67batch/s]\n"
     ]
    },
    {
     "name": "stdout",
     "output_type": "stream",
     "text": [
      "Epoch [18/100], Real Loss: -15.348, Fake Loss: 10.123, Generator Loss: -1.976, Time: 37.00s\n"
     ]
    },
    {
     "name": "stderr",
     "output_type": "stream",
     "text": [
      "100%|████████████████████████████| 469/469 [00:36<00:00, 12.94batch/s]\n"
     ]
    },
    {
     "name": "stdout",
     "output_type": "stream",
     "text": [
      "Epoch [19/100], Real Loss: -16.585, Fake Loss: 12.089, Generator Loss: -2.366, Time: 36.26s\n"
     ]
    },
    {
     "name": "stderr",
     "output_type": "stream",
     "text": [
      "100%|████████████████████████████| 469/469 [00:32<00:00, 14.21batch/s]\n"
     ]
    },
    {
     "name": "stdout",
     "output_type": "stream",
     "text": [
      "Epoch [20/100], Real Loss: -12.262, Fake Loss: 6.641, Generator Loss: -1.282, Time: 33.00s\n"
     ]
    },
    {
     "name": "stderr",
     "output_type": "stream",
     "text": [
      "100%|████████████████████████████| 469/469 [00:32<00:00, 14.27batch/s]\n"
     ]
    },
    {
     "name": "stdout",
     "output_type": "stream",
     "text": [
      "Epoch [21/100], Real Loss: -15.332, Fake Loss: 10.073, Generator Loss: -1.969, Time: 32.86s\n"
     ]
    },
    {
     "name": "stderr",
     "output_type": "stream",
     "text": [
      "100%|████████████████████████████| 469/469 [00:33<00:00, 13.97batch/s]\n"
     ]
    },
    {
     "name": "stdout",
     "output_type": "stream",
     "text": [
      "Epoch [22/100], Real Loss: -11.028, Fake Loss: 6.678, Generator Loss: -1.278, Time: 33.57s\n"
     ]
    },
    {
     "name": "stderr",
     "output_type": "stream",
     "text": [
      "100%|████████████████████████████| 469/469 [00:33<00:00, 14.20batch/s]\n"
     ]
    },
    {
     "name": "stdout",
     "output_type": "stream",
     "text": [
      "Epoch [23/100], Real Loss: -10.154, Fake Loss: 5.435, Generator Loss: -1.042, Time: 33.02s\n"
     ]
    },
    {
     "name": "stderr",
     "output_type": "stream",
     "text": [
      "100%|████████████████████████████| 469/469 [00:32<00:00, 14.40batch/s]\n"
     ]
    },
    {
     "name": "stdout",
     "output_type": "stream",
     "text": [
      "Epoch [24/100], Real Loss: -13.933, Fake Loss: 9.920, Generator Loss: -1.932, Time: 32.56s\n"
     ]
    },
    {
     "name": "stderr",
     "output_type": "stream",
     "text": [
      "100%|████████████████████████████| 469/469 [00:33<00:00, 13.97batch/s]\n"
     ]
    },
    {
     "name": "stdout",
     "output_type": "stream",
     "text": [
      "Epoch [25/100], Real Loss: -11.429, Fake Loss: 8.224, Generator Loss: -1.595, Time: 33.57s\n"
     ]
    },
    {
     "name": "stderr",
     "output_type": "stream",
     "text": [
      "100%|████████████████████████████| 469/469 [00:32<00:00, 14.22batch/s]\n"
     ]
    },
    {
     "name": "stdout",
     "output_type": "stream",
     "text": [
      "Epoch [26/100], Real Loss: -15.529, Fake Loss: 11.936, Generator Loss: -2.338, Time: 32.99s\n"
     ]
    },
    {
     "name": "stderr",
     "output_type": "stream",
     "text": [
      "100%|████████████████████████████| 469/469 [00:32<00:00, 14.38batch/s]\n"
     ]
    },
    {
     "name": "stdout",
     "output_type": "stream",
     "text": [
      "Epoch [27/100], Real Loss: -15.201, Fake Loss: 12.700, Generator Loss: -2.481, Time: 32.61s\n"
     ]
    },
    {
     "name": "stderr",
     "output_type": "stream",
     "text": [
      "100%|████████████████████████████| 469/469 [00:33<00:00, 14.18batch/s]\n"
     ]
    },
    {
     "name": "stdout",
     "output_type": "stream",
     "text": [
      "Epoch [28/100], Real Loss: -20.209, Fake Loss: 18.299, Generator Loss: -3.612, Time: 33.09s\n"
     ]
    },
    {
     "name": "stderr",
     "output_type": "stream",
     "text": [
      "100%|████████████████████████████| 469/469 [00:37<00:00, 12.35batch/s]\n"
     ]
    },
    {
     "name": "stdout",
     "output_type": "stream",
     "text": [
      "Epoch [29/100], Real Loss: -16.232, Fake Loss: 13.672, Generator Loss: -2.682, Time: 37.98s\n"
     ]
    },
    {
     "name": "stderr",
     "output_type": "stream",
     "text": [
      "100%|████████████████████████████| 469/469 [00:35<00:00, 13.19batch/s]\n"
     ]
    },
    {
     "name": "stdout",
     "output_type": "stream",
     "text": [
      "Epoch [30/100], Real Loss: -16.921, Fake Loss: 13.956, Generator Loss: -2.734, Time: 35.56s\n"
     ]
    },
    {
     "name": "stderr",
     "output_type": "stream",
     "text": [
      "100%|████████████████████████████| 469/469 [00:36<00:00, 12.92batch/s]\n"
     ]
    },
    {
     "name": "stdout",
     "output_type": "stream",
     "text": [
      "Epoch [31/100], Real Loss: -14.080, Fake Loss: 11.415, Generator Loss: -2.231, Time: 36.31s\n"
     ]
    },
    {
     "name": "stderr",
     "output_type": "stream",
     "text": [
      "100%|████████████████████████████| 469/469 [00:34<00:00, 13.70batch/s]\n"
     ]
    },
    {
     "name": "stdout",
     "output_type": "stream",
     "text": [
      "Epoch [32/100], Real Loss: -16.185, Fake Loss: 13.357, Generator Loss: -2.616, Time: 34.24s\n"
     ]
    },
    {
     "name": "stderr",
     "output_type": "stream",
     "text": [
      "100%|████████████████████████████| 469/469 [00:34<00:00, 13.62batch/s]\n"
     ]
    },
    {
     "name": "stdout",
     "output_type": "stream",
     "text": [
      "Epoch [33/100], Real Loss: -20.860, Fake Loss: 18.813, Generator Loss: -3.720, Time: 34.43s\n"
     ]
    },
    {
     "name": "stderr",
     "output_type": "stream",
     "text": [
      "100%|████████████████████████████| 469/469 [00:36<00:00, 12.75batch/s]\n"
     ]
    },
    {
     "name": "stdout",
     "output_type": "stream",
     "text": [
      "Epoch [34/100], Real Loss: -26.507, Fake Loss: 24.510, Generator Loss: -4.858, Time: 36.80s\n"
     ]
    },
    {
     "name": "stderr",
     "output_type": "stream",
     "text": [
      "100%|████████████████████████████| 469/469 [00:34<00:00, 13.72batch/s]\n"
     ]
    },
    {
     "name": "stdout",
     "output_type": "stream",
     "text": [
      "Epoch [35/100], Real Loss: -24.840, Fake Loss: 22.972, Generator Loss: -4.537, Time: 34.17s\n"
     ]
    },
    {
     "name": "stderr",
     "output_type": "stream",
     "text": [
      "100%|████████████████████████████| 469/469 [00:34<00:00, 13.51batch/s]\n"
     ]
    },
    {
     "name": "stdout",
     "output_type": "stream",
     "text": [
      "Epoch [36/100], Real Loss: -23.701, Fake Loss: 21.283, Generator Loss: -4.204, Time: 34.71s\n"
     ]
    },
    {
     "name": "stderr",
     "output_type": "stream",
     "text": [
      "100%|████████████████████████████| 469/469 [00:34<00:00, 13.73batch/s]\n"
     ]
    },
    {
     "name": "stdout",
     "output_type": "stream",
     "text": [
      "Epoch [37/100], Real Loss: -19.258, Fake Loss: 16.482, Generator Loss: -3.245, Time: 34.15s\n"
     ]
    },
    {
     "name": "stderr",
     "output_type": "stream",
     "text": [
      "100%|████████████████████████████| 469/469 [00:33<00:00, 13.99batch/s]\n"
     ]
    },
    {
     "name": "stdout",
     "output_type": "stream",
     "text": [
      "Epoch [38/100], Real Loss: -19.355, Fake Loss: 16.777, Generator Loss: -3.304, Time: 33.52s\n"
     ]
    },
    {
     "name": "stderr",
     "output_type": "stream",
     "text": [
      "100%|████████████████████████████| 469/469 [00:34<00:00, 13.50batch/s]\n"
     ]
    },
    {
     "name": "stdout",
     "output_type": "stream",
     "text": [
      "Epoch [39/100], Real Loss: -19.730, Fake Loss: 16.976, Generator Loss: -3.350, Time: 34.75s\n"
     ]
    },
    {
     "name": "stderr",
     "output_type": "stream",
     "text": [
      "100%|████████████████████████████| 469/469 [00:34<00:00, 13.79batch/s]\n"
     ]
    },
    {
     "name": "stdout",
     "output_type": "stream",
     "text": [
      "Epoch [40/100], Real Loss: -19.863, Fake Loss: 17.554, Generator Loss: -3.460, Time: 34.01s\n"
     ]
    },
    {
     "name": "stderr",
     "output_type": "stream",
     "text": [
      "100%|████████████████████████████| 469/469 [00:34<00:00, 13.76batch/s]\n"
     ]
    },
    {
     "name": "stdout",
     "output_type": "stream",
     "text": [
      "Epoch [41/100], Real Loss: -16.303, Fake Loss: 13.504, Generator Loss: -2.655, Time: 34.09s\n"
     ]
    },
    {
     "name": "stderr",
     "output_type": "stream",
     "text": [
      "100%|████████████████████████████| 469/469 [00:34<00:00, 13.76batch/s]\n"
     ]
    },
    {
     "name": "stdout",
     "output_type": "stream",
     "text": [
      "Epoch [42/100], Real Loss: -17.399, Fake Loss: 14.688, Generator Loss: -2.895, Time: 34.09s\n"
     ]
    },
    {
     "name": "stderr",
     "output_type": "stream",
     "text": [
      "100%|████████████████████████████| 469/469 [00:34<00:00, 13.55batch/s]\n"
     ]
    },
    {
     "name": "stdout",
     "output_type": "stream",
     "text": [
      "Epoch [43/100], Real Loss: -17.818, Fake Loss: 15.862, Generator Loss: -3.126, Time: 34.60s\n"
     ]
    },
    {
     "name": "stderr",
     "output_type": "stream",
     "text": [
      "100%|████████████████████████████| 469/469 [00:34<00:00, 13.48batch/s]\n"
     ]
    },
    {
     "name": "stdout",
     "output_type": "stream",
     "text": [
      "Epoch [44/100], Real Loss: -18.797, Fake Loss: 16.539, Generator Loss: -3.272, Time: 34.78s\n"
     ]
    },
    {
     "name": "stderr",
     "output_type": "stream",
     "text": [
      "100%|████████████████████████████| 469/469 [00:34<00:00, 13.71batch/s]\n"
     ]
    },
    {
     "name": "stdout",
     "output_type": "stream",
     "text": [
      "Epoch [45/100], Real Loss: -18.341, Fake Loss: 16.001, Generator Loss: -3.155, Time: 34.20s\n"
     ]
    },
    {
     "name": "stderr",
     "output_type": "stream",
     "text": [
      "100%|████████████████████████████| 469/469 [00:34<00:00, 13.71batch/s]\n"
     ]
    },
    {
     "name": "stdout",
     "output_type": "stream",
     "text": [
      "Epoch [46/100], Real Loss: -16.726, Fake Loss: 13.625, Generator Loss: -2.681, Time: 34.22s\n"
     ]
    },
    {
     "name": "stderr",
     "output_type": "stream",
     "text": [
      "100%|████████████████████████████| 469/469 [00:35<00:00, 13.12batch/s]\n"
     ]
    },
    {
     "name": "stdout",
     "output_type": "stream",
     "text": [
      "Epoch [47/100], Real Loss: -16.110, Fake Loss: 13.289, Generator Loss: -2.618, Time: 35.76s\n"
     ]
    },
    {
     "name": "stderr",
     "output_type": "stream",
     "text": [
      "100%|████████████████████████████| 469/469 [00:38<00:00, 12.27batch/s]\n"
     ]
    },
    {
     "name": "stdout",
     "output_type": "stream",
     "text": [
      "Epoch [48/100], Real Loss: -15.036, Fake Loss: 11.894, Generator Loss: -2.337, Time: 38.23s\n"
     ]
    },
    {
     "name": "stderr",
     "output_type": "stream",
     "text": [
      "100%|████████████████████████████| 469/469 [00:44<00:00, 10.55batch/s]\n"
     ]
    },
    {
     "name": "stdout",
     "output_type": "stream",
     "text": [
      "Epoch [49/100], Real Loss: -17.382, Fake Loss: 14.958, Generator Loss: -2.946, Time: 44.46s\n"
     ]
    },
    {
     "name": "stderr",
     "output_type": "stream",
     "text": [
      "100%|████████████████████████████| 469/469 [00:37<00:00, 12.35batch/s]\n"
     ]
    },
    {
     "name": "stdout",
     "output_type": "stream",
     "text": [
      "Epoch [50/100], Real Loss: -16.834, Fake Loss: 14.405, Generator Loss: -2.834, Time: 37.99s\n"
     ]
    },
    {
     "name": "stderr",
     "output_type": "stream",
     "text": [
      "100%|████████████████████████████| 469/469 [00:40<00:00, 11.63batch/s]\n"
     ]
    },
    {
     "name": "stdout",
     "output_type": "stream",
     "text": [
      "Epoch [51/100], Real Loss: -14.566, Fake Loss: 11.732, Generator Loss: -2.303, Time: 40.33s\n"
     ]
    },
    {
     "name": "stderr",
     "output_type": "stream",
     "text": [
      "100%|████████████████████████████| 469/469 [00:49<00:00,  9.54batch/s]\n"
     ]
    },
    {
     "name": "stdout",
     "output_type": "stream",
     "text": [
      "Epoch [52/100], Real Loss: -14.647, Fake Loss: 12.039, Generator Loss: -2.365, Time: 49.18s\n"
     ]
    },
    {
     "name": "stderr",
     "output_type": "stream",
     "text": [
      "100%|████████████████████████████| 469/469 [00:39<00:00, 11.96batch/s]\n"
     ]
    },
    {
     "name": "stdout",
     "output_type": "stream",
     "text": [
      "Epoch [53/100], Real Loss: -14.717, Fake Loss: 12.207, Generator Loss: -2.395, Time: 39.21s\n"
     ]
    },
    {
     "name": "stderr",
     "output_type": "stream",
     "text": [
      "100%|████████████████████████████| 469/469 [00:37<00:00, 12.45batch/s]\n"
     ]
    },
    {
     "name": "stdout",
     "output_type": "stream",
     "text": [
      "Epoch [54/100], Real Loss: -16.960, Fake Loss: 15.081, Generator Loss: -2.973, Time: 37.68s\n"
     ]
    },
    {
     "name": "stderr",
     "output_type": "stream",
     "text": [
      "100%|████████████████████████████| 469/469 [00:38<00:00, 12.15batch/s]\n"
     ]
    },
    {
     "name": "stdout",
     "output_type": "stream",
     "text": [
      "Epoch [55/100], Real Loss: -14.387, Fake Loss: 12.078, Generator Loss: -2.375, Time: 38.61s\n"
     ]
    },
    {
     "name": "stderr",
     "output_type": "stream",
     "text": [
      "100%|████████████████████████████| 469/469 [00:35<00:00, 13.15batch/s]\n"
     ]
    },
    {
     "name": "stdout",
     "output_type": "stream",
     "text": [
      "Epoch [56/100], Real Loss: -15.164, Fake Loss: 12.909, Generator Loss: -2.541, Time: 35.66s\n"
     ]
    },
    {
     "name": "stderr",
     "output_type": "stream",
     "text": [
      "100%|████████████████████████████| 469/469 [00:33<00:00, 13.85batch/s]\n"
     ]
    },
    {
     "name": "stdout",
     "output_type": "stream",
     "text": [
      "Epoch [57/100], Real Loss: -15.428, Fake Loss: 13.216, Generator Loss: -2.603, Time: 33.86s\n"
     ]
    },
    {
     "name": "stderr",
     "output_type": "stream",
     "text": [
      "100%|████████████████████████████| 469/469 [00:35<00:00, 13.15batch/s]\n"
     ]
    },
    {
     "name": "stdout",
     "output_type": "stream",
     "text": [
      "Epoch [58/100], Real Loss: -12.679, Fake Loss: 10.437, Generator Loss: -2.046, Time: 35.67s\n"
     ]
    },
    {
     "name": "stderr",
     "output_type": "stream",
     "text": [
      "100%|████████████████████████████| 469/469 [00:33<00:00, 14.17batch/s]\n"
     ]
    },
    {
     "name": "stdout",
     "output_type": "stream",
     "text": [
      "Epoch [59/100], Real Loss: -16.336, Fake Loss: 14.442, Generator Loss: -2.849, Time: 33.09s\n"
     ]
    },
    {
     "name": "stderr",
     "output_type": "stream",
     "text": [
      "100%|████████████████████████████| 469/469 [00:33<00:00, 13.90batch/s]\n"
     ]
    },
    {
     "name": "stdout",
     "output_type": "stream",
     "text": [
      "Epoch [60/100], Real Loss: -13.165, Fake Loss: 10.585, Generator Loss: -2.079, Time: 33.75s\n"
     ]
    },
    {
     "name": "stderr",
     "output_type": "stream",
     "text": [
      "100%|████████████████████████████| 469/469 [00:32<00:00, 14.39batch/s]\n"
     ]
    },
    {
     "name": "stdout",
     "output_type": "stream",
     "text": [
      "Epoch [61/100], Real Loss: -11.593, Fake Loss: 9.310, Generator Loss: -1.821, Time: 32.59s\n"
     ]
    },
    {
     "name": "stderr",
     "output_type": "stream",
     "text": [
      "100%|████████████████████████████| 469/469 [00:35<00:00, 13.34batch/s]\n"
     ]
    },
    {
     "name": "stdout",
     "output_type": "stream",
     "text": [
      "Epoch [62/100], Real Loss: -11.628, Fake Loss: 8.716, Generator Loss: -1.708, Time: 35.17s\n"
     ]
    },
    {
     "name": "stderr",
     "output_type": "stream",
     "text": [
      "100%|████████████████████████████| 469/469 [00:35<00:00, 13.04batch/s]\n"
     ]
    },
    {
     "name": "stdout",
     "output_type": "stream",
     "text": [
      "Epoch [63/100], Real Loss: -14.700, Fake Loss: 12.399, Generator Loss: -2.440, Time: 35.96s\n"
     ]
    },
    {
     "name": "stderr",
     "output_type": "stream",
     "text": [
      "100%|████████████████████████████| 469/469 [00:35<00:00, 13.13batch/s]\n"
     ]
    },
    {
     "name": "stdout",
     "output_type": "stream",
     "text": [
      "Epoch [64/100], Real Loss: -12.703, Fake Loss: 10.228, Generator Loss: -2.007, Time: 35.73s\n"
     ]
    },
    {
     "name": "stderr",
     "output_type": "stream",
     "text": [
      "100%|████████████████████████████| 469/469 [00:38<00:00, 12.34batch/s]\n"
     ]
    },
    {
     "name": "stdout",
     "output_type": "stream",
     "text": [
      "Epoch [65/100], Real Loss: -12.204, Fake Loss: 9.852, Generator Loss: -1.933, Time: 38.01s\n"
     ]
    },
    {
     "name": "stderr",
     "output_type": "stream",
     "text": [
      "100%|████████████████████████████| 469/469 [00:33<00:00, 14.01batch/s]\n"
     ]
    },
    {
     "name": "stdout",
     "output_type": "stream",
     "text": [
      "Epoch [66/100], Real Loss: -13.094, Fake Loss: 10.784, Generator Loss: -2.116, Time: 33.47s\n"
     ]
    },
    {
     "name": "stderr",
     "output_type": "stream",
     "text": [
      "100%|████████████████████████████| 469/469 [00:34<00:00, 13.65batch/s]\n"
     ]
    },
    {
     "name": "stdout",
     "output_type": "stream",
     "text": [
      "Epoch [67/100], Real Loss: -14.055, Fake Loss: 12.135, Generator Loss: -2.381, Time: 34.36s\n"
     ]
    },
    {
     "name": "stderr",
     "output_type": "stream",
     "text": [
      "100%|████████████████████████████| 469/469 [00:34<00:00, 13.74batch/s]\n"
     ]
    },
    {
     "name": "stdout",
     "output_type": "stream",
     "text": [
      "Epoch [68/100], Real Loss: -10.921, Fake Loss: 8.630, Generator Loss: -1.691, Time: 34.14s\n"
     ]
    },
    {
     "name": "stderr",
     "output_type": "stream",
     "text": [
      "100%|████████████████████████████| 469/469 [00:33<00:00, 14.02batch/s]\n"
     ]
    },
    {
     "name": "stdout",
     "output_type": "stream",
     "text": [
      "Epoch [69/100], Real Loss: -10.484, Fake Loss: 8.566, Generator Loss: -1.675, Time: 33.45s\n"
     ]
    },
    {
     "name": "stderr",
     "output_type": "stream",
     "text": [
      "100%|████████████████████████████| 469/469 [00:33<00:00, 14.21batch/s]\n"
     ]
    },
    {
     "name": "stdout",
     "output_type": "stream",
     "text": [
      "Epoch [70/100], Real Loss: -11.616, Fake Loss: 9.596, Generator Loss: -1.884, Time: 33.01s\n"
     ]
    },
    {
     "name": "stderr",
     "output_type": "stream",
     "text": [
      "100%|████████████████████████████| 469/469 [00:34<00:00, 13.61batch/s]\n"
     ]
    },
    {
     "name": "stdout",
     "output_type": "stream",
     "text": [
      "Epoch [71/100], Real Loss: -11.364, Fake Loss: 9.302, Generator Loss: -1.822, Time: 34.46s\n"
     ]
    },
    {
     "name": "stderr",
     "output_type": "stream",
     "text": [
      "100%|████████████████████████████| 469/469 [00:34<00:00, 13.62batch/s]\n"
     ]
    },
    {
     "name": "stdout",
     "output_type": "stream",
     "text": [
      "Epoch [72/100], Real Loss: -12.055, Fake Loss: 10.065, Generator Loss: -1.980, Time: 34.45s\n"
     ]
    },
    {
     "name": "stderr",
     "output_type": "stream",
     "text": [
      "100%|████████████████████████████| 469/469 [00:35<00:00, 13.27batch/s]\n"
     ]
    },
    {
     "name": "stdout",
     "output_type": "stream",
     "text": [
      "Epoch [73/100], Real Loss: -11.782, Fake Loss: 9.713, Generator Loss: -1.902, Time: 35.33s\n"
     ]
    },
    {
     "name": "stderr",
     "output_type": "stream",
     "text": [
      "100%|████████████████████████████| 469/469 [00:35<00:00, 13.16batch/s]\n"
     ]
    },
    {
     "name": "stdout",
     "output_type": "stream",
     "text": [
      "Epoch [74/100], Real Loss: -9.210, Fake Loss: 7.249, Generator Loss: -1.414, Time: 35.63s\n"
     ]
    },
    {
     "name": "stderr",
     "output_type": "stream",
     "text": [
      "100%|████████████████████████████| 469/469 [00:35<00:00, 13.28batch/s]\n"
     ]
    },
    {
     "name": "stdout",
     "output_type": "stream",
     "text": [
      "Epoch [75/100], Real Loss: -8.232, Fake Loss: 6.356, Generator Loss: -1.231, Time: 35.32s\n"
     ]
    },
    {
     "name": "stderr",
     "output_type": "stream",
     "text": [
      "100%|████████████████████████████| 469/469 [00:36<00:00, 12.84batch/s]\n"
     ]
    },
    {
     "name": "stdout",
     "output_type": "stream",
     "text": [
      "Epoch [76/100], Real Loss: -7.493, Fake Loss: 5.467, Generator Loss: -1.054, Time: 36.54s\n"
     ]
    },
    {
     "name": "stderr",
     "output_type": "stream",
     "text": [
      "100%|████████████████████████████| 469/469 [00:35<00:00, 13.34batch/s]\n"
     ]
    },
    {
     "name": "stdout",
     "output_type": "stream",
     "text": [
      "Epoch [77/100], Real Loss: -8.275, Fake Loss: 6.412, Generator Loss: -1.246, Time: 35.17s\n"
     ]
    },
    {
     "name": "stderr",
     "output_type": "stream",
     "text": [
      "100%|████████████████████████████| 469/469 [00:34<00:00, 13.73batch/s]\n"
     ]
    },
    {
     "name": "stdout",
     "output_type": "stream",
     "text": [
      "Epoch [78/100], Real Loss: -7.442, Fake Loss: 5.613, Generator Loss: -1.086, Time: 34.16s\n"
     ]
    },
    {
     "name": "stderr",
     "output_type": "stream",
     "text": [
      "100%|████████████████████████████| 469/469 [00:37<00:00, 12.48batch/s]\n"
     ]
    },
    {
     "name": "stdout",
     "output_type": "stream",
     "text": [
      "Epoch [79/100], Real Loss: -8.970, Fake Loss: 7.069, Generator Loss: -1.377, Time: 37.59s\n"
     ]
    },
    {
     "name": "stderr",
     "output_type": "stream",
     "text": [
      "100%|████████████████████████████| 469/469 [00:34<00:00, 13.57batch/s]\n"
     ]
    },
    {
     "name": "stdout",
     "output_type": "stream",
     "text": [
      "Epoch [80/100], Real Loss: -9.409, Fake Loss: 7.599, Generator Loss: -1.481, Time: 34.55s\n"
     ]
    },
    {
     "name": "stderr",
     "output_type": "stream",
     "text": [
      "100%|████████████████████████████| 469/469 [00:34<00:00, 13.50batch/s]\n"
     ]
    },
    {
     "name": "stdout",
     "output_type": "stream",
     "text": [
      "Epoch [81/100], Real Loss: -9.209, Fake Loss: 7.452, Generator Loss: -1.455, Time: 34.73s\n"
     ]
    },
    {
     "name": "stderr",
     "output_type": "stream",
     "text": [
      "100%|████████████████████████████| 469/469 [00:36<00:00, 13.00batch/s]\n"
     ]
    },
    {
     "name": "stdout",
     "output_type": "stream",
     "text": [
      "Epoch [82/100], Real Loss: -8.796, Fake Loss: 7.084, Generator Loss: -1.382, Time: 36.07s\n"
     ]
    },
    {
     "name": "stderr",
     "output_type": "stream",
     "text": [
      "100%|████████████████████████████| 469/469 [00:34<00:00, 13.50batch/s]\n"
     ]
    },
    {
     "name": "stdout",
     "output_type": "stream",
     "text": [
      "Epoch [83/100], Real Loss: -8.087, Fake Loss: 6.179, Generator Loss: -1.201, Time: 34.74s\n"
     ]
    },
    {
     "name": "stderr",
     "output_type": "stream",
     "text": [
      "100%|████████████████████████████| 469/469 [00:35<00:00, 13.27batch/s]\n"
     ]
    },
    {
     "name": "stdout",
     "output_type": "stream",
     "text": [
      "Epoch [84/100], Real Loss: -9.126, Fake Loss: 7.254, Generator Loss: -1.414, Time: 35.35s\n"
     ]
    },
    {
     "name": "stderr",
     "output_type": "stream",
     "text": [
      "100%|████████████████████████████| 469/469 [00:35<00:00, 13.30batch/s]\n"
     ]
    },
    {
     "name": "stdout",
     "output_type": "stream",
     "text": [
      "Epoch [85/100], Real Loss: -7.541, Fake Loss: 5.844, Generator Loss: -1.135, Time: 35.26s\n"
     ]
    },
    {
     "name": "stderr",
     "output_type": "stream",
     "text": [
      "100%|████████████████████████████| 469/469 [00:36<00:00, 12.99batch/s]\n"
     ]
    },
    {
     "name": "stdout",
     "output_type": "stream",
     "text": [
      "Epoch [86/100], Real Loss: -8.373, Fake Loss: 6.531, Generator Loss: -1.271, Time: 36.10s\n"
     ]
    },
    {
     "name": "stderr",
     "output_type": "stream",
     "text": [
      "100%|████████████████████████████| 469/469 [00:33<00:00, 13.83batch/s]\n"
     ]
    },
    {
     "name": "stdout",
     "output_type": "stream",
     "text": [
      "Epoch [87/100], Real Loss: -10.512, Fake Loss: 8.728, Generator Loss: -1.711, Time: 33.91s\n"
     ]
    },
    {
     "name": "stderr",
     "output_type": "stream",
     "text": [
      "100%|████████████████████████████| 469/469 [00:33<00:00, 13.88batch/s]\n"
     ]
    },
    {
     "name": "stdout",
     "output_type": "stream",
     "text": [
      "Epoch [88/100], Real Loss: -10.460, Fake Loss: 8.817, Generator Loss: -1.732, Time: 33.80s\n"
     ]
    },
    {
     "name": "stderr",
     "output_type": "stream",
     "text": [
      "100%|████████████████████████████| 469/469 [00:35<00:00, 13.29batch/s]\n"
     ]
    },
    {
     "name": "stdout",
     "output_type": "stream",
     "text": [
      "Epoch [89/100], Real Loss: -9.817, Fake Loss: 8.169, Generator Loss: -1.600, Time: 35.31s\n"
     ]
    },
    {
     "name": "stderr",
     "output_type": "stream",
     "text": [
      "100%|████████████████████████████| 469/469 [00:36<00:00, 12.92batch/s]\n"
     ]
    },
    {
     "name": "stdout",
     "output_type": "stream",
     "text": [
      "Epoch [90/100], Real Loss: -10.887, Fake Loss: 9.601, Generator Loss: -1.887, Time: 36.30s\n"
     ]
    },
    {
     "name": "stderr",
     "output_type": "stream",
     "text": [
      "100%|████████████████████████████| 469/469 [00:35<00:00, 13.27batch/s]\n"
     ]
    },
    {
     "name": "stdout",
     "output_type": "stream",
     "text": [
      "Epoch [91/100], Real Loss: -10.565, Fake Loss: 9.180, Generator Loss: -1.799, Time: 35.35s\n"
     ]
    },
    {
     "name": "stderr",
     "output_type": "stream",
     "text": [
      "100%|████████████████████████████| 469/469 [00:37<00:00, 12.52batch/s]\n"
     ]
    },
    {
     "name": "stdout",
     "output_type": "stream",
     "text": [
      "Epoch [92/100], Real Loss: -8.474, Fake Loss: 7.095, Generator Loss: -1.386, Time: 37.45s\n"
     ]
    },
    {
     "name": "stderr",
     "output_type": "stream",
     "text": [
      "100%|████████████████████████████| 469/469 [00:37<00:00, 12.37batch/s]\n"
     ]
    },
    {
     "name": "stdout",
     "output_type": "stream",
     "text": [
      "Epoch [93/100], Real Loss: -8.432, Fake Loss: 6.759, Generator Loss: -1.317, Time: 37.92s\n"
     ]
    },
    {
     "name": "stderr",
     "output_type": "stream",
     "text": [
      "100%|████████████████████████████| 469/469 [00:33<00:00, 13.80batch/s]\n"
     ]
    },
    {
     "name": "stdout",
     "output_type": "stream",
     "text": [
      "Epoch [94/100], Real Loss: -8.510, Fake Loss: 6.995, Generator Loss: -1.363, Time: 33.98s\n"
     ]
    },
    {
     "name": "stderr",
     "output_type": "stream",
     "text": [
      "100%|████████████████████████████| 469/469 [00:33<00:00, 14.08batch/s]\n"
     ]
    },
    {
     "name": "stdout",
     "output_type": "stream",
     "text": [
      "Epoch [95/100], Real Loss: -7.802, Fake Loss: 6.122, Generator Loss: -1.190, Time: 33.31s\n"
     ]
    },
    {
     "name": "stderr",
     "output_type": "stream",
     "text": [
      "100%|████████████████████████████| 469/469 [00:33<00:00, 14.02batch/s]\n"
     ]
    },
    {
     "name": "stdout",
     "output_type": "stream",
     "text": [
      "Epoch [96/100], Real Loss: -10.443, Fake Loss: 9.061, Generator Loss: -1.780, Time: 33.45s\n"
     ]
    },
    {
     "name": "stderr",
     "output_type": "stream",
     "text": [
      "100%|████████████████████████████| 469/469 [00:33<00:00, 13.90batch/s]\n"
     ]
    },
    {
     "name": "stdout",
     "output_type": "stream",
     "text": [
      "Epoch [97/100], Real Loss: -9.004, Fake Loss: 7.702, Generator Loss: -1.503, Time: 33.75s\n"
     ]
    },
    {
     "name": "stderr",
     "output_type": "stream",
     "text": [
      "100%|████████████████████████████| 469/469 [00:32<00:00, 14.34batch/s]\n"
     ]
    },
    {
     "name": "stdout",
     "output_type": "stream",
     "text": [
      "Epoch [98/100], Real Loss: -9.015, Fake Loss: 7.417, Generator Loss: -1.452, Time: 32.70s\n"
     ]
    },
    {
     "name": "stderr",
     "output_type": "stream",
     "text": [
      "100%|████████████████████████████| 469/469 [00:32<00:00, 14.27batch/s]\n"
     ]
    },
    {
     "name": "stdout",
     "output_type": "stream",
     "text": [
      "Epoch [99/100], Real Loss: -8.548, Fake Loss: 7.307, Generator Loss: -1.423, Time: 32.86s\n"
     ]
    },
    {
     "name": "stderr",
     "output_type": "stream",
     "text": [
      "100%|████████████████████████████| 469/469 [00:33<00:00, 14.00batch/s]"
     ]
    },
    {
     "name": "stdout",
     "output_type": "stream",
     "text": [
      "Epoch [100/100], Real Loss: -8.107, Fake Loss: 6.942, Generator Loss: -1.357, Time: 33.49s\n"
     ]
    },
    {
     "name": "stderr",
     "output_type": "stream",
     "text": [
      "\n"
     ]
    }
   ],
   "source": [
    "num_epochs = 100\n",
    "batch_size = 128\n",
    "transform = transforms.Compose([transforms.ToTensor(), transforms.Normalize((0.5,), (0.5,))])\n",
    "dataset = MNIST(root='./', train=True, transform=transform, download=False)\n",
    "dataloader = DataLoader(dataset, batch_size=batch_size, shuffle=True)\n",
    "(loss_history_dr, loss_history_df), loss_history_g = train_wgan(generator, discriminator, dataloader, num_epochs, clip_value=0.1)"
   ]
  },
  {
   "cell_type": "code",
   "execution_count": 6,
   "id": "20f01033",
   "metadata": {},
   "outputs": [
    {
     "data": {
      "image/png": "[encoded data removed]",
      "text/plain": [
       "<Figure size 640x480 with 1 Axes>"
      ]
     },
     "metadata": {},
     "output_type": "display_data"
    }
   ],
   "source": [
    "plt.plot(loss_history_dr, label='Real Loss')\n",
    "plt.plot(loss_history_df, label='Fake Loss')\n",
    "plt.plot(loss_history_g, label='Generator Loss')\n",
    "plt.title(\"Loss History\")\n",
    "plt.xlabel(\"Epochs\")\n",
    "plt.ylabel(\"Loss\")\n",
    "plt.legend()\n",
    "plt.savefig(fname=\"./WGAN_Loss_Bigger_Window_critic_5.png\")\n",
    "plt.show()"
   ]
  },
  {
   "cell_type": "code",
   "execution_count": 7,
   "id": "2e27b77d",
   "metadata": {},
   "outputs": [],
   "source": [
    "torch.save(generator.state_dict(), \"./models/W_Generator_Bigger_Window_critic_5.pth\")\n",
    "torch.save(discriminator.state_dict(), \"./models/W_Descriminator_Bigger_Window_critic_5.pth\")\n",
    "del generator, discriminator"
   ]
  },
  {
   "cell_type": "markdown",
   "id": "6c8931bb",
   "metadata": {},
   "source": [
    "### Instance 2\n",
    "critic_iterations = 5\n",
    "clipping_value = 0.005"
   ]
  },
  {
   "cell_type": "code",
   "execution_count": 20,
   "id": "6efa519f",
   "metadata": {
    "scrolled": true
   },
   "outputs": [
    {
     "name": "stderr",
     "output_type": "stream",
     "text": [
      "100%|████████████████████████████| 469/469 [00:59<00:00,  7.88batch/s]\n"
     ]
    },
    {
     "name": "stdout",
     "output_type": "stream",
     "text": [
      "Epoch [1/100], Real Loss: -0.018, Fake Loss: 0.016, Generator Loss: -0.003, Time: 59.50s\n"
     ]
    },
    {
     "name": "stderr",
     "output_type": "stream",
     "text": [
      "100%|████████████████████████████| 469/469 [01:02<00:00,  7.47batch/s]\n"
     ]
    },
    {
     "name": "stdout",
     "output_type": "stream",
     "text": [
      "Epoch [2/100], Real Loss: -0.000, Fake Loss: -0.001, Generator Loss: 0.000, Time: 62.80s\n"
     ]
    },
    {
     "name": "stderr",
     "output_type": "stream",
     "text": [
      "100%|████████████████████████████| 469/469 [01:01<00:00,  7.58batch/s]\n"
     ]
    },
    {
     "name": "stdout",
     "output_type": "stream",
     "text": [
      "Epoch [3/100], Real Loss: -0.001, Fake Loss: -0.000, Generator Loss: 0.000, Time: 61.91s\n"
     ]
    },
    {
     "name": "stderr",
     "output_type": "stream",
     "text": [
      "100%|████████████████████████████| 469/469 [01:01<00:00,  7.66batch/s]\n"
     ]
    },
    {
     "name": "stdout",
     "output_type": "stream",
     "text": [
      "Epoch [4/100], Real Loss: -0.001, Fake Loss: 0.000, Generator Loss: -0.000, Time: 61.22s\n"
     ]
    },
    {
     "name": "stderr",
     "output_type": "stream",
     "text": [
      "100%|████████████████████████████| 469/469 [01:02<00:00,  7.46batch/s]\n"
     ]
    },
    {
     "name": "stdout",
     "output_type": "stream",
     "text": [
      "Epoch [5/100], Real Loss: -0.001, Fake Loss: 0.001, Generator Loss: -0.000, Time: 62.85s\n"
     ]
    },
    {
     "name": "stderr",
     "output_type": "stream",
     "text": [
      "100%|████████████████████████████| 469/469 [01:02<00:00,  7.56batch/s]\n"
     ]
    },
    {
     "name": "stdout",
     "output_type": "stream",
     "text": [
      "Epoch [6/100], Real Loss: -0.001, Fake Loss: 0.000, Generator Loss: -0.000, Time: 62.02s\n"
     ]
    },
    {
     "name": "stderr",
     "output_type": "stream",
     "text": [
      "100%|████████████████████████████| 469/469 [01:01<00:00,  7.60batch/s]\n"
     ]
    },
    {
     "name": "stdout",
     "output_type": "stream",
     "text": [
      "Epoch [7/100], Real Loss: -0.001, Fake Loss: 0.000, Generator Loss: -0.000, Time: 61.67s\n"
     ]
    },
    {
     "name": "stderr",
     "output_type": "stream",
     "text": [
      "100%|████████████████████████████| 469/469 [01:01<00:00,  7.68batch/s]\n"
     ]
    },
    {
     "name": "stdout",
     "output_type": "stream",
     "text": [
      "Epoch [8/100], Real Loss: -0.001, Fake Loss: 0.000, Generator Loss: -0.000, Time: 61.06s\n"
     ]
    },
    {
     "name": "stderr",
     "output_type": "stream",
     "text": [
      "100%|████████████████████████████| 469/469 [00:56<00:00,  8.25batch/s]\n"
     ]
    },
    {
     "name": "stdout",
     "output_type": "stream",
     "text": [
      "Epoch [9/100], Real Loss: -0.001, Fake Loss: 0.000, Generator Loss: -0.000, Time: 56.86s\n"
     ]
    },
    {
     "name": "stderr",
     "output_type": "stream",
     "text": [
      "100%|████████████████████████████| 469/469 [00:52<00:00,  8.94batch/s]\n"
     ]
    },
    {
     "name": "stdout",
     "output_type": "stream",
     "text": [
      "Epoch [10/100], Real Loss: -0.001, Fake Loss: 0.000, Generator Loss: -0.000, Time: 52.49s\n"
     ]
    },
    {
     "name": "stderr",
     "output_type": "stream",
     "text": [
      "100%|████████████████████████████| 469/469 [00:51<00:00,  9.04batch/s]\n"
     ]
    },
    {
     "name": "stdout",
     "output_type": "stream",
     "text": [
      "Epoch [11/100], Real Loss: -0.001, Fake Loss: 0.000, Generator Loss: -0.000, Time: 51.86s\n"
     ]
    },
    {
     "name": "stderr",
     "output_type": "stream",
     "text": [
      "100%|████████████████████████████| 469/469 [00:53<00:00,  8.79batch/s]\n"
     ]
    },
    {
     "name": "stdout",
     "output_type": "stream",
     "text": [
      "Epoch [12/100], Real Loss: -0.001, Fake Loss: 0.000, Generator Loss: -0.000, Time: 53.37s\n"
     ]
    },
    {
     "name": "stderr",
     "output_type": "stream",
     "text": [
      "100%|████████████████████████████| 469/469 [00:55<00:00,  8.52batch/s]\n"
     ]
    },
    {
     "name": "stdout",
     "output_type": "stream",
     "text": [
      "Epoch [13/100], Real Loss: -0.001, Fake Loss: 0.000, Generator Loss: -0.000, Time: 55.05s\n"
     ]
    },
    {
     "name": "stderr",
     "output_type": "stream",
     "text": [
      "100%|████████████████████████████| 469/469 [00:56<00:00,  8.33batch/s]\n"
     ]
    },
    {
     "name": "stdout",
     "output_type": "stream",
     "text": [
      "Epoch [14/100], Real Loss: -0.001, Fake Loss: 0.000, Generator Loss: -0.000, Time: 56.31s\n"
     ]
    },
    {
     "name": "stderr",
     "output_type": "stream",
     "text": [
      "100%|████████████████████████████| 469/469 [00:53<00:00,  8.77batch/s]\n"
     ]
    },
    {
     "name": "stdout",
     "output_type": "stream",
     "text": [
      "Epoch [15/100], Real Loss: -0.001, Fake Loss: 0.000, Generator Loss: -0.000, Time: 53.47s\n"
     ]
    },
    {
     "name": "stderr",
     "output_type": "stream",
     "text": [
      "100%|████████████████████████████| 469/469 [00:52<00:00,  8.85batch/s]\n"
     ]
    },
    {
     "name": "stdout",
     "output_type": "stream",
     "text": [
      "Epoch [16/100], Real Loss: -0.001, Fake Loss: 0.000, Generator Loss: -0.000, Time: 52.98s\n"
     ]
    },
    {
     "name": "stderr",
     "output_type": "stream",
     "text": [
      "100%|████████████████████████████| 469/469 [00:52<00:00,  9.00batch/s]\n"
     ]
    },
    {
     "name": "stdout",
     "output_type": "stream",
     "text": [
      "Epoch [17/100], Real Loss: -0.001, Fake Loss: 0.000, Generator Loss: -0.000, Time: 52.09s\n"
     ]
    },
    {
     "name": "stderr",
     "output_type": "stream",
     "text": [
      "100%|████████████████████████████| 469/469 [00:50<00:00,  9.36batch/s]\n"
     ]
    },
    {
     "name": "stdout",
     "output_type": "stream",
     "text": [
      "Epoch [18/100], Real Loss: -0.001, Fake Loss: 0.000, Generator Loss: -0.000, Time: 50.09s\n"
     ]
    },
    {
     "name": "stderr",
     "output_type": "stream",
     "text": [
      "100%|████████████████████████████| 469/469 [00:49<00:00,  9.48batch/s]\n"
     ]
    },
    {
     "name": "stdout",
     "output_type": "stream",
     "text": [
      "Epoch [19/100], Real Loss: -0.001, Fake Loss: 0.000, Generator Loss: -0.000, Time: 49.45s\n"
     ]
    },
    {
     "name": "stderr",
     "output_type": "stream",
     "text": [
      "100%|████████████████████████████| 469/469 [00:53<00:00,  8.71batch/s]\n"
     ]
    },
    {
     "name": "stdout",
     "output_type": "stream",
     "text": [
      "Epoch [20/100], Real Loss: -0.001, Fake Loss: 0.000, Generator Loss: -0.000, Time: 53.83s\n"
     ]
    },
    {
     "name": "stderr",
     "output_type": "stream",
     "text": [
      "100%|████████████████████████████| 469/469 [00:52<00:00,  9.00batch/s]\n"
     ]
    },
    {
     "name": "stdout",
     "output_type": "stream",
     "text": [
      "Epoch [21/100], Real Loss: -0.001, Fake Loss: 0.000, Generator Loss: -0.000, Time: 52.10s\n"
     ]
    },
    {
     "name": "stderr",
     "output_type": "stream",
     "text": [
      "100%|████████████████████████████| 469/469 [00:49<00:00,  9.49batch/s]\n"
     ]
    },
    {
     "name": "stdout",
     "output_type": "stream",
     "text": [
      "Epoch [22/100], Real Loss: -0.001, Fake Loss: 0.000, Generator Loss: -0.000, Time: 49.42s\n"
     ]
    },
    {
     "name": "stderr",
     "output_type": "stream",
     "text": [
      "100%|████████████████████████████| 469/469 [00:50<00:00,  9.37batch/s]\n"
     ]
    },
    {
     "name": "stdout",
     "output_type": "stream",
     "text": [
      "Epoch [23/100], Real Loss: -0.001, Fake Loss: 0.000, Generator Loss: -0.000, Time: 50.07s\n"
     ]
    },
    {
     "name": "stderr",
     "output_type": "stream",
     "text": [
      "100%|████████████████████████████| 469/469 [00:53<00:00,  8.84batch/s]\n"
     ]
    },
    {
     "name": "stdout",
     "output_type": "stream",
     "text": [
      "Epoch [24/100], Real Loss: -0.001, Fake Loss: 0.000, Generator Loss: -0.000, Time: 53.08s\n"
     ]
    },
    {
     "name": "stderr",
     "output_type": "stream",
     "text": [
      "100%|████████████████████████████| 469/469 [00:53<00:00,  8.82batch/s]\n"
     ]
    },
    {
     "name": "stdout",
     "output_type": "stream",
     "text": [
      "Epoch [25/100], Real Loss: -0.001, Fake Loss: 0.000, Generator Loss: -0.000, Time: 53.15s\n"
     ]
    },
    {
     "name": "stderr",
     "output_type": "stream",
     "text": [
      "100%|████████████████████████████| 469/469 [00:52<00:00,  9.01batch/s]\n"
     ]
    },
    {
     "name": "stdout",
     "output_type": "stream",
     "text": [
      "Epoch [26/100], Real Loss: -0.001, Fake Loss: 0.000, Generator Loss: -0.000, Time: 52.05s\n"
     ]
    },
    {
     "name": "stderr",
     "output_type": "stream",
     "text": [
      "100%|████████████████████████████| 469/469 [00:53<00:00,  8.71batch/s]\n"
     ]
    },
    {
     "name": "stdout",
     "output_type": "stream",
     "text": [
      "Epoch [27/100], Real Loss: -0.001, Fake Loss: 0.000, Generator Loss: -0.000, Time: 53.86s\n"
     ]
    },
    {
     "name": "stderr",
     "output_type": "stream",
     "text": [
      "100%|████████████████████████████| 469/469 [00:52<00:00,  8.98batch/s]\n"
     ]
    },
    {
     "name": "stdout",
     "output_type": "stream",
     "text": [
      "Epoch [28/100], Real Loss: -0.001, Fake Loss: 0.000, Generator Loss: -0.000, Time: 52.22s\n"
     ]
    },
    {
     "name": "stderr",
     "output_type": "stream",
     "text": [
      "100%|████████████████████████████| 469/469 [00:52<00:00,  8.90batch/s]\n"
     ]
    },
    {
     "name": "stdout",
     "output_type": "stream",
     "text": [
      "Epoch [29/100], Real Loss: -0.001, Fake Loss: 0.000, Generator Loss: -0.000, Time: 52.70s\n"
     ]
    },
    {
     "name": "stderr",
     "output_type": "stream",
     "text": [
      "100%|████████████████████████████| 469/469 [00:51<00:00,  9.04batch/s]\n"
     ]
    },
    {
     "name": "stdout",
     "output_type": "stream",
     "text": [
      "Epoch [30/100], Real Loss: -0.001, Fake Loss: 0.000, Generator Loss: -0.000, Time: 51.86s\n"
     ]
    },
    {
     "name": "stderr",
     "output_type": "stream",
     "text": [
      "100%|████████████████████████████| 469/469 [00:52<00:00,  8.98batch/s]\n"
     ]
    },
    {
     "name": "stdout",
     "output_type": "stream",
     "text": [
      "Epoch [31/100], Real Loss: -0.001, Fake Loss: 0.000, Generator Loss: -0.000, Time: 52.21s\n"
     ]
    },
    {
     "name": "stderr",
     "output_type": "stream",
     "text": [
      "100%|████████████████████████████| 469/469 [00:50<00:00,  9.26batch/s]\n"
     ]
    },
    {
     "name": "stdout",
     "output_type": "stream",
     "text": [
      "Epoch [32/100], Real Loss: -0.001, Fake Loss: 0.000, Generator Loss: -0.000, Time: 50.66s\n"
     ]
    },
    {
     "name": "stderr",
     "output_type": "stream",
     "text": [
      "100%|████████████████████████████| 469/469 [00:50<00:00,  9.36batch/s]\n"
     ]
    },
    {
     "name": "stdout",
     "output_type": "stream",
     "text": [
      "Epoch [33/100], Real Loss: -0.001, Fake Loss: 0.000, Generator Loss: -0.000, Time: 50.13s\n"
     ]
    },
    {
     "name": "stderr",
     "output_type": "stream",
     "text": [
      "100%|████████████████████████████| 469/469 [00:50<00:00,  9.33batch/s]\n"
     ]
    },
    {
     "name": "stdout",
     "output_type": "stream",
     "text": [
      "Epoch [34/100], Real Loss: -0.001, Fake Loss: 0.000, Generator Loss: -0.000, Time: 50.27s\n"
     ]
    },
    {
     "name": "stderr",
     "output_type": "stream",
     "text": [
      "100%|████████████████████████████| 469/469 [00:51<00:00,  9.11batch/s]\n"
     ]
    },
    {
     "name": "stdout",
     "output_type": "stream",
     "text": [
      "Epoch [35/100], Real Loss: -0.001, Fake Loss: 0.000, Generator Loss: -0.000, Time: 51.50s\n"
     ]
    },
    {
     "name": "stderr",
     "output_type": "stream",
     "text": [
      "100%|████████████████████████████| 469/469 [00:54<00:00,  8.68batch/s]\n"
     ]
    },
    {
     "name": "stdout",
     "output_type": "stream",
     "text": [
      "Epoch [36/100], Real Loss: -0.001, Fake Loss: 0.000, Generator Loss: -0.000, Time: 54.02s\n"
     ]
    },
    {
     "name": "stderr",
     "output_type": "stream",
     "text": [
      "100%|████████████████████████████| 469/469 [00:36<00:00, 13.03batch/s]\n"
     ]
    },
    {
     "name": "stdout",
     "output_type": "stream",
     "text": [
      "Epoch [37/100], Real Loss: -0.001, Fake Loss: 0.000, Generator Loss: -0.000, Time: 36.01s\n"
     ]
    },
    {
     "name": "stderr",
     "output_type": "stream",
     "text": [
      "100%|████████████████████████████| 469/469 [00:35<00:00, 13.18batch/s]\n"
     ]
    },
    {
     "name": "stdout",
     "output_type": "stream",
     "text": [
      "Epoch [38/100], Real Loss: -0.001, Fake Loss: 0.000, Generator Loss: -0.000, Time: 35.58s\n"
     ]
    },
    {
     "name": "stderr",
     "output_type": "stream",
     "text": [
      "100%|████████████████████████████| 469/469 [00:40<00:00, 11.51batch/s]\n"
     ]
    },
    {
     "name": "stdout",
     "output_type": "stream",
     "text": [
      "Epoch [39/100], Real Loss: -0.001, Fake Loss: 0.000, Generator Loss: -0.000, Time: 40.73s\n"
     ]
    },
    {
     "name": "stderr",
     "output_type": "stream",
     "text": [
      "100%|████████████████████████████| 469/469 [00:39<00:00, 11.86batch/s]\n"
     ]
    },
    {
     "name": "stdout",
     "output_type": "stream",
     "text": [
      "Epoch [40/100], Real Loss: -0.001, Fake Loss: 0.000, Generator Loss: -0.000, Time: 39.56s\n"
     ]
    },
    {
     "name": "stderr",
     "output_type": "stream",
     "text": [
      "100%|████████████████████████████| 469/469 [00:36<00:00, 12.97batch/s]\n"
     ]
    },
    {
     "name": "stdout",
     "output_type": "stream",
     "text": [
      "Epoch [41/100], Real Loss: -0.001, Fake Loss: 0.000, Generator Loss: -0.000, Time: 36.17s\n"
     ]
    },
    {
     "name": "stderr",
     "output_type": "stream",
     "text": [
      "100%|████████████████████████████| 469/469 [00:36<00:00, 12.79batch/s]\n"
     ]
    },
    {
     "name": "stdout",
     "output_type": "stream",
     "text": [
      "Epoch [42/100], Real Loss: -0.001, Fake Loss: 0.000, Generator Loss: -0.000, Time: 36.68s\n"
     ]
    },
    {
     "name": "stderr",
     "output_type": "stream",
     "text": [
      "100%|████████████████████████████| 469/469 [00:36<00:00, 13.02batch/s]\n"
     ]
    },
    {
     "name": "stdout",
     "output_type": "stream",
     "text": [
      "Epoch [43/100], Real Loss: -0.001, Fake Loss: 0.000, Generator Loss: -0.000, Time: 36.03s\n"
     ]
    },
    {
     "name": "stderr",
     "output_type": "stream",
     "text": [
      "100%|████████████████████████████| 469/469 [00:36<00:00, 12.68batch/s]\n"
     ]
    },
    {
     "name": "stdout",
     "output_type": "stream",
     "text": [
      "Epoch [44/100], Real Loss: -0.001, Fake Loss: 0.000, Generator Loss: -0.000, Time: 36.99s\n"
     ]
    },
    {
     "name": "stderr",
     "output_type": "stream",
     "text": [
      "100%|████████████████████████████| 469/469 [00:36<00:00, 12.74batch/s]\n"
     ]
    },
    {
     "name": "stdout",
     "output_type": "stream",
     "text": [
      "Epoch [45/100], Real Loss: -0.001, Fake Loss: 0.000, Generator Loss: -0.000, Time: 36.83s\n"
     ]
    },
    {
     "name": "stderr",
     "output_type": "stream",
     "text": [
      "100%|████████████████████████████| 469/469 [00:37<00:00, 12.51batch/s]\n"
     ]
    },
    {
     "name": "stdout",
     "output_type": "stream",
     "text": [
      "Epoch [46/100], Real Loss: -0.001, Fake Loss: 0.000, Generator Loss: -0.000, Time: 37.50s\n"
     ]
    },
    {
     "name": "stderr",
     "output_type": "stream",
     "text": [
      "100%|████████████████████████████| 469/469 [00:36<00:00, 12.76batch/s]\n"
     ]
    },
    {
     "name": "stdout",
     "output_type": "stream",
     "text": [
      "Epoch [47/100], Real Loss: -0.001, Fake Loss: 0.000, Generator Loss: -0.000, Time: 36.74s\n"
     ]
    },
    {
     "name": "stderr",
     "output_type": "stream",
     "text": [
      "100%|████████████████████████████| 469/469 [00:36<00:00, 12.81batch/s]\n"
     ]
    },
    {
     "name": "stdout",
     "output_type": "stream",
     "text": [
      "Epoch [48/100], Real Loss: -0.001, Fake Loss: 0.000, Generator Loss: -0.000, Time: 36.62s\n"
     ]
    },
    {
     "name": "stderr",
     "output_type": "stream",
     "text": [
      "100%|████████████████████████████| 469/469 [00:37<00:00, 12.66batch/s]\n"
     ]
    },
    {
     "name": "stdout",
     "output_type": "stream",
     "text": [
      "Epoch [49/100], Real Loss: -0.001, Fake Loss: 0.000, Generator Loss: -0.000, Time: 37.04s\n"
     ]
    },
    {
     "name": "stderr",
     "output_type": "stream",
     "text": [
      "100%|████████████████████████████| 469/469 [00:36<00:00, 12.78batch/s]\n"
     ]
    },
    {
     "name": "stdout",
     "output_type": "stream",
     "text": [
      "Epoch [50/100], Real Loss: -0.001, Fake Loss: 0.000, Generator Loss: -0.000, Time: 36.69s\n"
     ]
    },
    {
     "name": "stderr",
     "output_type": "stream",
     "text": [
      "100%|████████████████████████████| 469/469 [00:42<00:00, 10.91batch/s]\n"
     ]
    },
    {
     "name": "stdout",
     "output_type": "stream",
     "text": [
      "Epoch [51/100], Real Loss: -0.001, Fake Loss: 0.000, Generator Loss: -0.000, Time: 42.97s\n"
     ]
    },
    {
     "name": "stderr",
     "output_type": "stream",
     "text": [
      "100%|████████████████████████████| 469/469 [00:36<00:00, 12.69batch/s]\n"
     ]
    },
    {
     "name": "stdout",
     "output_type": "stream",
     "text": [
      "Epoch [52/100], Real Loss: -0.001, Fake Loss: 0.000, Generator Loss: -0.000, Time: 36.95s\n"
     ]
    },
    {
     "name": "stderr",
     "output_type": "stream",
     "text": [
      "100%|████████████████████████████| 469/469 [00:36<00:00, 12.80batch/s]\n"
     ]
    },
    {
     "name": "stdout",
     "output_type": "stream",
     "text": [
      "Epoch [53/100], Real Loss: -0.001, Fake Loss: 0.000, Generator Loss: -0.000, Time: 36.63s\n"
     ]
    },
    {
     "name": "stderr",
     "output_type": "stream",
     "text": [
      "100%|████████████████████████████| 469/469 [00:36<00:00, 12.81batch/s]\n"
     ]
    },
    {
     "name": "stdout",
     "output_type": "stream",
     "text": [
      "Epoch [54/100], Real Loss: -0.001, Fake Loss: 0.000, Generator Loss: -0.000, Time: 36.61s\n"
     ]
    },
    {
     "name": "stderr",
     "output_type": "stream",
     "text": [
      "100%|████████████████████████████| 469/469 [00:36<00:00, 12.70batch/s]\n"
     ]
    },
    {
     "name": "stdout",
     "output_type": "stream",
     "text": [
      "Epoch [55/100], Real Loss: -0.001, Fake Loss: 0.000, Generator Loss: -0.000, Time: 36.93s\n"
     ]
    },
    {
     "name": "stderr",
     "output_type": "stream",
     "text": [
      "100%|████████████████████████████| 469/469 [00:38<00:00, 12.30batch/s]\n"
     ]
    },
    {
     "name": "stdout",
     "output_type": "stream",
     "text": [
      "Epoch [56/100], Real Loss: -0.001, Fake Loss: 0.000, Generator Loss: -0.000, Time: 38.12s\n"
     ]
    },
    {
     "name": "stderr",
     "output_type": "stream",
     "text": [
      "100%|████████████████████████████| 469/469 [00:36<00:00, 12.82batch/s]\n"
     ]
    },
    {
     "name": "stdout",
     "output_type": "stream",
     "text": [
      "Epoch [57/100], Real Loss: -0.001, Fake Loss: 0.000, Generator Loss: -0.000, Time: 36.58s\n"
     ]
    },
    {
     "name": "stderr",
     "output_type": "stream",
     "text": [
      "100%|████████████████████████████| 469/469 [00:37<00:00, 12.38batch/s]\n"
     ]
    },
    {
     "name": "stdout",
     "output_type": "stream",
     "text": [
      "Epoch [58/100], Real Loss: -0.001, Fake Loss: 0.000, Generator Loss: -0.000, Time: 37.87s\n"
     ]
    },
    {
     "name": "stderr",
     "output_type": "stream",
     "text": [
      "100%|████████████████████████████| 469/469 [00:38<00:00, 12.15batch/s]\n"
     ]
    },
    {
     "name": "stdout",
     "output_type": "stream",
     "text": [
      "Epoch [59/100], Real Loss: -0.001, Fake Loss: 0.000, Generator Loss: -0.000, Time: 38.60s\n"
     ]
    },
    {
     "name": "stderr",
     "output_type": "stream",
     "text": [
      "100%|████████████████████████████| 469/469 [00:36<00:00, 12.69batch/s]\n"
     ]
    },
    {
     "name": "stdout",
     "output_type": "stream",
     "text": [
      "Epoch [60/100], Real Loss: -0.001, Fake Loss: 0.000, Generator Loss: -0.000, Time: 36.97s\n"
     ]
    },
    {
     "name": "stderr",
     "output_type": "stream",
     "text": [
      "100%|████████████████████████████| 469/469 [00:37<00:00, 12.37batch/s]\n"
     ]
    },
    {
     "name": "stdout",
     "output_type": "stream",
     "text": [
      "Epoch [61/100], Real Loss: -0.001, Fake Loss: 0.000, Generator Loss: -0.000, Time: 37.90s\n"
     ]
    },
    {
     "name": "stderr",
     "output_type": "stream",
     "text": [
      "100%|████████████████████████████| 469/469 [00:40<00:00, 11.68batch/s]\n"
     ]
    },
    {
     "name": "stdout",
     "output_type": "stream",
     "text": [
      "Epoch [62/100], Real Loss: -0.001, Fake Loss: 0.000, Generator Loss: -0.000, Time: 40.15s\n"
     ]
    },
    {
     "name": "stderr",
     "output_type": "stream",
     "text": [
      "100%|████████████████████████████| 469/469 [00:37<00:00, 12.50batch/s]\n"
     ]
    },
    {
     "name": "stdout",
     "output_type": "stream",
     "text": [
      "Epoch [63/100], Real Loss: -0.001, Fake Loss: 0.000, Generator Loss: -0.000, Time: 37.51s\n"
     ]
    },
    {
     "name": "stderr",
     "output_type": "stream",
     "text": [
      "100%|████████████████████████████| 469/469 [00:37<00:00, 12.38batch/s]\n"
     ]
    },
    {
     "name": "stdout",
     "output_type": "stream",
     "text": [
      "Epoch [64/100], Real Loss: -0.001, Fake Loss: 0.000, Generator Loss: -0.000, Time: 37.90s\n"
     ]
    },
    {
     "name": "stderr",
     "output_type": "stream",
     "text": [
      "100%|████████████████████████████| 469/469 [00:38<00:00, 12.03batch/s]\n"
     ]
    },
    {
     "name": "stdout",
     "output_type": "stream",
     "text": [
      "Epoch [65/100], Real Loss: -0.001, Fake Loss: 0.000, Generator Loss: -0.000, Time: 38.98s\n"
     ]
    },
    {
     "name": "stderr",
     "output_type": "stream",
     "text": [
      "100%|████████████████████████████| 469/469 [00:38<00:00, 12.23batch/s]\n"
     ]
    },
    {
     "name": "stdout",
     "output_type": "stream",
     "text": [
      "Epoch [66/100], Real Loss: -0.001, Fake Loss: 0.000, Generator Loss: -0.000, Time: 38.35s\n"
     ]
    },
    {
     "name": "stderr",
     "output_type": "stream",
     "text": [
      "100%|████████████████████████████| 469/469 [00:39<00:00, 12.02batch/s]\n"
     ]
    },
    {
     "name": "stdout",
     "output_type": "stream",
     "text": [
      "Epoch [67/100], Real Loss: -0.001, Fake Loss: 0.000, Generator Loss: -0.000, Time: 39.01s\n"
     ]
    },
    {
     "name": "stderr",
     "output_type": "stream",
     "text": [
      "100%|████████████████████████████| 469/469 [00:38<00:00, 12.18batch/s]\n"
     ]
    },
    {
     "name": "stdout",
     "output_type": "stream",
     "text": [
      "Epoch [68/100], Real Loss: -0.001, Fake Loss: 0.000, Generator Loss: -0.000, Time: 38.52s\n"
     ]
    },
    {
     "name": "stderr",
     "output_type": "stream",
     "text": [
      "100%|████████████████████████████| 469/469 [00:38<00:00, 12.06batch/s]\n"
     ]
    },
    {
     "name": "stdout",
     "output_type": "stream",
     "text": [
      "Epoch [69/100], Real Loss: -0.001, Fake Loss: 0.000, Generator Loss: -0.000, Time: 38.88s\n"
     ]
    },
    {
     "name": "stderr",
     "output_type": "stream",
     "text": [
      "100%|████████████████████████████| 469/469 [00:37<00:00, 12.42batch/s]\n"
     ]
    },
    {
     "name": "stdout",
     "output_type": "stream",
     "text": [
      "Epoch [70/100], Real Loss: -0.001, Fake Loss: 0.000, Generator Loss: -0.000, Time: 37.76s\n"
     ]
    },
    {
     "name": "stderr",
     "output_type": "stream",
     "text": [
      "100%|████████████████████████████| 469/469 [00:39<00:00, 11.74batch/s]\n"
     ]
    },
    {
     "name": "stdout",
     "output_type": "stream",
     "text": [
      "Epoch [71/100], Real Loss: -0.001, Fake Loss: 0.000, Generator Loss: -0.000, Time: 39.94s\n"
     ]
    },
    {
     "name": "stderr",
     "output_type": "stream",
     "text": [
      "100%|████████████████████████████| 469/469 [00:39<00:00, 11.81batch/s]\n"
     ]
    },
    {
     "name": "stdout",
     "output_type": "stream",
     "text": [
      "Epoch [72/100], Real Loss: -0.001, Fake Loss: 0.000, Generator Loss: -0.000, Time: 39.73s\n"
     ]
    },
    {
     "name": "stderr",
     "output_type": "stream",
     "text": [
      "100%|████████████████████████████| 469/469 [00:39<00:00, 11.92batch/s]\n"
     ]
    },
    {
     "name": "stdout",
     "output_type": "stream",
     "text": [
      "Epoch [73/100], Real Loss: -0.001, Fake Loss: 0.000, Generator Loss: -0.000, Time: 39.33s\n"
     ]
    },
    {
     "name": "stderr",
     "output_type": "stream",
     "text": [
      "100%|████████████████████████████| 469/469 [00:42<00:00, 11.10batch/s]\n"
     ]
    },
    {
     "name": "stdout",
     "output_type": "stream",
     "text": [
      "Epoch [74/100], Real Loss: -0.001, Fake Loss: 0.000, Generator Loss: -0.000, Time: 42.25s\n"
     ]
    },
    {
     "name": "stderr",
     "output_type": "stream",
     "text": [
      "100%|████████████████████████████| 469/469 [00:41<00:00, 11.18batch/s]\n"
     ]
    },
    {
     "name": "stdout",
     "output_type": "stream",
     "text": [
      "Epoch [75/100], Real Loss: -0.001, Fake Loss: 0.000, Generator Loss: -0.000, Time: 41.96s\n"
     ]
    },
    {
     "name": "stderr",
     "output_type": "stream",
     "text": [
      "100%|████████████████████████████| 469/469 [00:38<00:00, 12.10batch/s]\n"
     ]
    },
    {
     "name": "stdout",
     "output_type": "stream",
     "text": [
      "Epoch [76/100], Real Loss: -0.001, Fake Loss: 0.000, Generator Loss: -0.000, Time: 38.77s\n"
     ]
    },
    {
     "name": "stderr",
     "output_type": "stream",
     "text": [
      "100%|████████████████████████████| 469/469 [00:42<00:00, 11.07batch/s]\n"
     ]
    },
    {
     "name": "stdout",
     "output_type": "stream",
     "text": [
      "Epoch [77/100], Real Loss: -0.001, Fake Loss: 0.000, Generator Loss: -0.000, Time: 42.36s\n"
     ]
    },
    {
     "name": "stderr",
     "output_type": "stream",
     "text": [
      "100%|████████████████████████████| 469/469 [00:39<00:00, 12.00batch/s]\n"
     ]
    },
    {
     "name": "stdout",
     "output_type": "stream",
     "text": [
      "Epoch [78/100], Real Loss: -0.001, Fake Loss: 0.000, Generator Loss: -0.000, Time: 39.07s\n"
     ]
    },
    {
     "name": "stderr",
     "output_type": "stream",
     "text": [
      "100%|████████████████████████████| 469/469 [00:40<00:00, 11.50batch/s]\n"
     ]
    },
    {
     "name": "stdout",
     "output_type": "stream",
     "text": [
      "Epoch [79/100], Real Loss: -0.001, Fake Loss: 0.000, Generator Loss: -0.000, Time: 40.80s\n"
     ]
    },
    {
     "name": "stderr",
     "output_type": "stream",
     "text": [
      "100%|████████████████████████████| 469/469 [00:39<00:00, 11.89batch/s]\n"
     ]
    },
    {
     "name": "stdout",
     "output_type": "stream",
     "text": [
      "Epoch [80/100], Real Loss: -0.001, Fake Loss: 0.000, Generator Loss: -0.000, Time: 39.45s\n"
     ]
    },
    {
     "name": "stderr",
     "output_type": "stream",
     "text": [
      "100%|████████████████████████████| 469/469 [00:38<00:00, 12.18batch/s]\n"
     ]
    },
    {
     "name": "stdout",
     "output_type": "stream",
     "text": [
      "Epoch [81/100], Real Loss: -0.001, Fake Loss: 0.000, Generator Loss: -0.000, Time: 38.50s\n"
     ]
    },
    {
     "name": "stderr",
     "output_type": "stream",
     "text": [
      "100%|████████████████████████████| 469/469 [00:41<00:00, 11.33batch/s]\n"
     ]
    },
    {
     "name": "stdout",
     "output_type": "stream",
     "text": [
      "Epoch [82/100], Real Loss: -0.001, Fake Loss: 0.000, Generator Loss: -0.000, Time: 41.40s\n"
     ]
    },
    {
     "name": "stderr",
     "output_type": "stream",
     "text": [
      "100%|████████████████████████████| 469/469 [00:41<00:00, 11.34batch/s]\n"
     ]
    },
    {
     "name": "stdout",
     "output_type": "stream",
     "text": [
      "Epoch [83/100], Real Loss: -0.001, Fake Loss: 0.000, Generator Loss: -0.000, Time: 41.36s\n"
     ]
    },
    {
     "name": "stderr",
     "output_type": "stream",
     "text": [
      "100%|████████████████████████████| 469/469 [00:39<00:00, 11.83batch/s]\n"
     ]
    },
    {
     "name": "stdout",
     "output_type": "stream",
     "text": [
      "Epoch [84/100], Real Loss: -0.001, Fake Loss: 0.000, Generator Loss: -0.000, Time: 39.65s\n"
     ]
    },
    {
     "name": "stderr",
     "output_type": "stream",
     "text": [
      "100%|████████████████████████████| 469/469 [00:39<00:00, 11.80batch/s]\n"
     ]
    },
    {
     "name": "stdout",
     "output_type": "stream",
     "text": [
      "Epoch [85/100], Real Loss: -0.001, Fake Loss: 0.000, Generator Loss: -0.000, Time: 39.75s\n"
     ]
    },
    {
     "name": "stderr",
     "output_type": "stream",
     "text": [
      "100%|████████████████████████████| 469/469 [00:42<00:00, 11.10batch/s]\n"
     ]
    },
    {
     "name": "stdout",
     "output_type": "stream",
     "text": [
      "Epoch [86/100], Real Loss: -0.001, Fake Loss: 0.001, Generator Loss: -0.000, Time: 42.27s\n"
     ]
    },
    {
     "name": "stderr",
     "output_type": "stream",
     "text": [
      "100%|████████████████████████████| 469/469 [00:39<00:00, 11.89batch/s]\n"
     ]
    },
    {
     "name": "stdout",
     "output_type": "stream",
     "text": [
      "Epoch [87/100], Real Loss: -0.003, Fake Loss: 0.002, Generator Loss: -0.000, Time: 39.43s\n"
     ]
    },
    {
     "name": "stderr",
     "output_type": "stream",
     "text": [
      "100%|████████████████████████████| 469/469 [00:37<00:00, 12.60batch/s]\n"
     ]
    },
    {
     "name": "stdout",
     "output_type": "stream",
     "text": [
      "Epoch [88/100], Real Loss: -0.003, Fake Loss: 0.002, Generator Loss: -0.000, Time: 37.22s\n"
     ]
    },
    {
     "name": "stderr",
     "output_type": "stream",
     "text": [
      "100%|████████████████████████████| 469/469 [00:40<00:00, 11.64batch/s]\n"
     ]
    },
    {
     "name": "stdout",
     "output_type": "stream",
     "text": [
      "Epoch [89/100], Real Loss: -0.002, Fake Loss: 0.002, Generator Loss: -0.000, Time: 40.30s\n"
     ]
    },
    {
     "name": "stderr",
     "output_type": "stream",
     "text": [
      "100%|████████████████████████████| 469/469 [00:41<00:00, 11.35batch/s]\n"
     ]
    },
    {
     "name": "stdout",
     "output_type": "stream",
     "text": [
      "Epoch [90/100], Real Loss: -0.003, Fake Loss: 0.002, Generator Loss: -0.000, Time: 41.32s\n"
     ]
    },
    {
     "name": "stderr",
     "output_type": "stream",
     "text": [
      "100%|████████████████████████████| 469/469 [00:38<00:00, 12.09batch/s]\n"
     ]
    },
    {
     "name": "stdout",
     "output_type": "stream",
     "text": [
      "Epoch [91/100], Real Loss: -0.003, Fake Loss: 0.002, Generator Loss: -0.000, Time: 38.81s\n"
     ]
    },
    {
     "name": "stderr",
     "output_type": "stream",
     "text": [
      "100%|████████████████████████████| 469/469 [00:39<00:00, 11.92batch/s]\n"
     ]
    },
    {
     "name": "stdout",
     "output_type": "stream",
     "text": [
      "Epoch [92/100], Real Loss: -0.002, Fake Loss: 0.002, Generator Loss: -0.000, Time: 39.34s\n"
     ]
    },
    {
     "name": "stderr",
     "output_type": "stream",
     "text": [
      "100%|████████████████████████████| 469/469 [00:40<00:00, 11.47batch/s]\n"
     ]
    },
    {
     "name": "stdout",
     "output_type": "stream",
     "text": [
      "Epoch [93/100], Real Loss: -0.002, Fake Loss: 0.002, Generator Loss: -0.000, Time: 40.89s\n"
     ]
    },
    {
     "name": "stderr",
     "output_type": "stream",
     "text": [
      "100%|████████████████████████████| 469/469 [00:39<00:00, 11.83batch/s]\n"
     ]
    },
    {
     "name": "stdout",
     "output_type": "stream",
     "text": [
      "Epoch [94/100], Real Loss: -0.002, Fake Loss: 0.002, Generator Loss: -0.000, Time: 39.65s\n"
     ]
    },
    {
     "name": "stderr",
     "output_type": "stream",
     "text": [
      "100%|████████████████████████████| 469/469 [00:37<00:00, 12.42batch/s]\n"
     ]
    },
    {
     "name": "stdout",
     "output_type": "stream",
     "text": [
      "Epoch [95/100], Real Loss: -0.002, Fake Loss: 0.001, Generator Loss: -0.000, Time: 37.77s\n"
     ]
    },
    {
     "name": "stderr",
     "output_type": "stream",
     "text": [
      "100%|████████████████████████████| 469/469 [00:40<00:00, 11.49batch/s]\n"
     ]
    },
    {
     "name": "stdout",
     "output_type": "stream",
     "text": [
      "Epoch [96/100], Real Loss: -0.002, Fake Loss: 0.001, Generator Loss: -0.000, Time: 40.81s\n"
     ]
    },
    {
     "name": "stderr",
     "output_type": "stream",
     "text": [
      "100%|████████████████████████████| 469/469 [00:43<00:00, 10.74batch/s]\n"
     ]
    },
    {
     "name": "stdout",
     "output_type": "stream",
     "text": [
      "Epoch [97/100], Real Loss: -0.002, Fake Loss: 0.001, Generator Loss: -0.000, Time: 43.65s\n"
     ]
    },
    {
     "name": "stderr",
     "output_type": "stream",
     "text": [
      "100%|████████████████████████████| 469/469 [00:37<00:00, 12.66batch/s]\n"
     ]
    },
    {
     "name": "stdout",
     "output_type": "stream",
     "text": [
      "Epoch [98/100], Real Loss: -0.002, Fake Loss: 0.001, Generator Loss: -0.000, Time: 37.05s\n"
     ]
    },
    {
     "name": "stderr",
     "output_type": "stream",
     "text": [
      "100%|████████████████████████████| 469/469 [00:42<00:00, 11.07batch/s]\n"
     ]
    },
    {
     "name": "stdout",
     "output_type": "stream",
     "text": [
      "Epoch [99/100], Real Loss: -0.002, Fake Loss: 0.001, Generator Loss: -0.000, Time: 42.36s\n"
     ]
    },
    {
     "name": "stderr",
     "output_type": "stream",
     "text": [
      "100%|████████████████████████████| 469/469 [00:39<00:00, 11.88batch/s]"
     ]
    },
    {
     "name": "stdout",
     "output_type": "stream",
     "text": [
      "Epoch [100/100], Real Loss: -0.002, Fake Loss: 0.001, Generator Loss: -0.000, Time: 39.49s\n"
     ]
    },
    {
     "name": "stderr",
     "output_type": "stream",
     "text": [
      "\n"
     ]
    }
   ],
   "source": [
    "num_epochs = 100\n",
    "batch_size = 128\n",
    "transform = transforms.Compose([transforms.ToTensor(), transforms.Normalize((0.5,), (0.5,))])\n",
    "dataset = MNIST(root='./', train=True, transform=transform, download=False)\n",
    "dataloader = DataLoader(dataset, batch_size=batch_size, shuffle=True)\n",
    "(loss_history_dr, loss_history_df), loss_history_g = train_wgan(generator, discriminator, dataloader, num_epochs, clip_value=0.005)"
   ]
  },
  {
   "cell_type": "code",
   "execution_count": 21,
   "id": "ba071591",
   "metadata": {},
   "outputs": [
    {
     "data": {
      "image/png": "[encoded data removed]",
      "text/plain": [
       "<Figure size 640x480 with 1 Axes>"
      ]
     },
     "metadata": {},
     "output_type": "display_data"
    }
   ],
   "source": [
    "plt.plot(loss_history_dr, label='Real Loss')\n",
    "plt.plot(loss_history_df, label='Fake Loss')\n",
    "plt.plot(loss_history_g, label='Generator Loss')\n",
    "plt.title(\"Loss History\")\n",
    "plt.xlabel(\"Epochs\")\n",
    "plt.ylabel(\"Loss\")\n",
    "plt.legend()\n",
    "plt.savefig(fname=\"./WGAN_Loss_Smaller_Window_critic_5.png\")\n",
    "plt.show()"
   ]
  },
  {
   "cell_type": "code",
   "execution_count": 22,
   "id": "d3fef647",
   "metadata": {},
   "outputs": [],
   "source": [
    "torch.save(generator.state_dict(), \"./models/W_Generator_Smaller_Window_critic_5.pth\")\n",
    "torch.save(discriminator.state_dict(), \"./models/W_Descriminator_Smaller_Window_critic_5.pth\")\n",
    "del generator, discriminator"
   ]
  },
  {
   "cell_type": "markdown",
   "id": "51ded72a",
   "metadata": {},
   "source": [
    "### Instance 3\n",
    "critic_iterations = 1\n",
    "clipping_value = 0.01"
   ]
  },
  {
   "cell_type": "code",
   "execution_count": 29,
   "id": "72dd7438",
   "metadata": {
    "scrolled": true
   },
   "outputs": [
    {
     "name": "stderr",
     "output_type": "stream",
     "text": [
      "100%|████████████████████████████| 469/469 [00:32<00:00, 14.39batch/s]\n"
     ]
    },
    {
     "name": "stdout",
     "output_type": "stream",
     "text": [
      "Epoch [1/100], Real Loss: -0.006, Fake Loss: 0.006, Generator Loss: -0.006, Time: 32.60s\n"
     ]
    },
    {
     "name": "stderr",
     "output_type": "stream",
     "text": [
      "100%|████████████████████████████| 469/469 [00:32<00:00, 14.34batch/s]\n"
     ]
    },
    {
     "name": "stdout",
     "output_type": "stream",
     "text": [
      "Epoch [2/100], Real Loss: -0.006, Fake Loss: 0.005, Generator Loss: -0.005, Time: 32.70s\n"
     ]
    },
    {
     "name": "stderr",
     "output_type": "stream",
     "text": [
      "100%|████████████████████████████| 469/469 [00:31<00:00, 14.76batch/s]\n"
     ]
    },
    {
     "name": "stdout",
     "output_type": "stream",
     "text": [
      "Epoch [3/100], Real Loss: -0.004, Fake Loss: 0.004, Generator Loss: -0.004, Time: 31.78s\n"
     ]
    },
    {
     "name": "stderr",
     "output_type": "stream",
     "text": [
      "100%|████████████████████████████| 469/469 [00:34<00:00, 13.64batch/s]\n"
     ]
    },
    {
     "name": "stdout",
     "output_type": "stream",
     "text": [
      "Epoch [4/100], Real Loss: -0.004, Fake Loss: 0.003, Generator Loss: -0.003, Time: 34.37s\n"
     ]
    },
    {
     "name": "stderr",
     "output_type": "stream",
     "text": [
      "100%|████████████████████████████| 469/469 [00:38<00:00, 12.23batch/s]\n"
     ]
    },
    {
     "name": "stdout",
     "output_type": "stream",
     "text": [
      "Epoch [5/100], Real Loss: -0.003, Fake Loss: 0.003, Generator Loss: -0.003, Time: 38.35s\n"
     ]
    },
    {
     "name": "stderr",
     "output_type": "stream",
     "text": [
      "100%|████████████████████████████| 469/469 [00:36<00:00, 12.92batch/s]\n"
     ]
    },
    {
     "name": "stdout",
     "output_type": "stream",
     "text": [
      "Epoch [6/100], Real Loss: -0.003, Fake Loss: 0.002, Generator Loss: -0.002, Time: 36.30s\n"
     ]
    },
    {
     "name": "stderr",
     "output_type": "stream",
     "text": [
      "100%|████████████████████████████| 469/469 [00:33<00:00, 13.80batch/s]\n"
     ]
    },
    {
     "name": "stdout",
     "output_type": "stream",
     "text": [
      "Epoch [7/100], Real Loss: -0.003, Fake Loss: 0.002, Generator Loss: -0.002, Time: 34.00s\n"
     ]
    },
    {
     "name": "stderr",
     "output_type": "stream",
     "text": [
      "100%|████████████████████████████| 469/469 [00:33<00:00, 13.99batch/s]\n"
     ]
    },
    {
     "name": "stdout",
     "output_type": "stream",
     "text": [
      "Epoch [8/100], Real Loss: -0.003, Fake Loss: 0.002, Generator Loss: -0.002, Time: 33.52s\n"
     ]
    },
    {
     "name": "stderr",
     "output_type": "stream",
     "text": [
      "100%|████████████████████████████| 469/469 [00:32<00:00, 14.37batch/s]\n"
     ]
    },
    {
     "name": "stdout",
     "output_type": "stream",
     "text": [
      "Epoch [9/100], Real Loss: -0.002, Fake Loss: 0.002, Generator Loss: -0.002, Time: 32.64s\n"
     ]
    },
    {
     "name": "stderr",
     "output_type": "stream",
     "text": [
      "100%|████████████████████████████| 469/469 [00:33<00:00, 14.03batch/s]\n"
     ]
    },
    {
     "name": "stdout",
     "output_type": "stream",
     "text": [
      "Epoch [10/100], Real Loss: -0.002, Fake Loss: 0.002, Generator Loss: -0.002, Time: 33.43s\n"
     ]
    },
    {
     "name": "stderr",
     "output_type": "stream",
     "text": [
      "100%|████████████████████████████| 469/469 [00:32<00:00, 14.39batch/s]\n"
     ]
    },
    {
     "name": "stdout",
     "output_type": "stream",
     "text": [
      "Epoch [11/100], Real Loss: -0.002, Fake Loss: 0.001, Generator Loss: -0.001, Time: 32.59s\n"
     ]
    },
    {
     "name": "stderr",
     "output_type": "stream",
     "text": [
      "100%|████████████████████████████| 469/469 [00:32<00:00, 14.25batch/s]\n"
     ]
    },
    {
     "name": "stdout",
     "output_type": "stream",
     "text": [
      "Epoch [12/100], Real Loss: -0.002, Fake Loss: 0.001, Generator Loss: -0.001, Time: 32.93s\n"
     ]
    },
    {
     "name": "stderr",
     "output_type": "stream",
     "text": [
      "100%|████████████████████████████| 469/469 [00:33<00:00, 14.00batch/s]\n"
     ]
    },
    {
     "name": "stdout",
     "output_type": "stream",
     "text": [
      "Epoch [13/100], Real Loss: -0.002, Fake Loss: 0.001, Generator Loss: -0.001, Time: 33.49s\n"
     ]
    },
    {
     "name": "stderr",
     "output_type": "stream",
     "text": [
      "100%|████████████████████████████| 469/469 [00:32<00:00, 14.34batch/s]\n"
     ]
    },
    {
     "name": "stdout",
     "output_type": "stream",
     "text": [
      "Epoch [14/100], Real Loss: -0.002, Fake Loss: 0.001, Generator Loss: -0.001, Time: 32.71s\n"
     ]
    },
    {
     "name": "stderr",
     "output_type": "stream",
     "text": [
      "100%|████████████████████████████| 469/469 [00:33<00:00, 13.87batch/s]\n"
     ]
    },
    {
     "name": "stdout",
     "output_type": "stream",
     "text": [
      "Epoch [15/100], Real Loss: -0.001, Fake Loss: 0.001, Generator Loss: -0.001, Time: 33.82s\n"
     ]
    },
    {
     "name": "stderr",
     "output_type": "stream",
     "text": [
      "100%|████████████████████████████| 469/469 [00:31<00:00, 14.67batch/s]\n"
     ]
    },
    {
     "name": "stdout",
     "output_type": "stream",
     "text": [
      "Epoch [16/100], Real Loss: -0.001, Fake Loss: 0.001, Generator Loss: -0.001, Time: 31.96s\n"
     ]
    },
    {
     "name": "stderr",
     "output_type": "stream",
     "text": [
      "100%|████████████████████████████| 469/469 [00:31<00:00, 14.70batch/s]\n"
     ]
    },
    {
     "name": "stdout",
     "output_type": "stream",
     "text": [
      "Epoch [17/100], Real Loss: -0.001, Fake Loss: 0.001, Generator Loss: -0.001, Time: 31.90s\n"
     ]
    },
    {
     "name": "stderr",
     "output_type": "stream",
     "text": [
      "100%|████████████████████████████| 469/469 [00:33<00:00, 14.10batch/s]\n"
     ]
    },
    {
     "name": "stdout",
     "output_type": "stream",
     "text": [
      "Epoch [18/100], Real Loss: -0.001, Fake Loss: 0.001, Generator Loss: -0.001, Time: 33.26s\n"
     ]
    },
    {
     "name": "stderr",
     "output_type": "stream",
     "text": [
      "100%|████████████████████████████| 469/469 [00:31<00:00, 14.77batch/s]\n"
     ]
    },
    {
     "name": "stdout",
     "output_type": "stream",
     "text": [
      "Epoch [19/100], Real Loss: -0.001, Fake Loss: 0.001, Generator Loss: -0.001, Time: 31.75s\n"
     ]
    },
    {
     "name": "stderr",
     "output_type": "stream",
     "text": [
      "100%|████████████████████████████| 469/469 [00:33<00:00, 13.83batch/s]\n"
     ]
    },
    {
     "name": "stdout",
     "output_type": "stream",
     "text": [
      "Epoch [20/100], Real Loss: -0.001, Fake Loss: 0.000, Generator Loss: -0.000, Time: 33.91s\n"
     ]
    },
    {
     "name": "stderr",
     "output_type": "stream",
     "text": [
      "100%|████████████████████████████| 469/469 [00:32<00:00, 14.52batch/s]\n"
     ]
    },
    {
     "name": "stdout",
     "output_type": "stream",
     "text": [
      "Epoch [21/100], Real Loss: -0.001, Fake Loss: 0.000, Generator Loss: -0.000, Time: 32.31s\n"
     ]
    },
    {
     "name": "stderr",
     "output_type": "stream",
     "text": [
      "100%|████████████████████████████| 469/469 [00:32<00:00, 14.50batch/s]\n"
     ]
    },
    {
     "name": "stdout",
     "output_type": "stream",
     "text": [
      "Epoch [22/100], Real Loss: -0.001, Fake Loss: 0.000, Generator Loss: -0.000, Time: 32.35s\n"
     ]
    },
    {
     "name": "stderr",
     "output_type": "stream",
     "text": [
      "100%|████████████████████████████| 469/469 [00:33<00:00, 13.91batch/s]\n"
     ]
    },
    {
     "name": "stdout",
     "output_type": "stream",
     "text": [
      "Epoch [23/100], Real Loss: -0.001, Fake Loss: -0.000, Generator Loss: 0.000, Time: 33.71s\n"
     ]
    },
    {
     "name": "stderr",
     "output_type": "stream",
     "text": [
      "100%|████████████████████████████| 469/469 [00:32<00:00, 14.40batch/s]\n"
     ]
    },
    {
     "name": "stdout",
     "output_type": "stream",
     "text": [
      "Epoch [24/100], Real Loss: -0.001, Fake Loss: 0.000, Generator Loss: -0.000, Time: 32.57s\n"
     ]
    },
    {
     "name": "stderr",
     "output_type": "stream",
     "text": [
      "100%|████████████████████████████| 469/469 [00:31<00:00, 14.91batch/s]\n"
     ]
    },
    {
     "name": "stdout",
     "output_type": "stream",
     "text": [
      "Epoch [25/100], Real Loss: -0.001, Fake Loss: -0.000, Generator Loss: 0.000, Time: 31.46s\n"
     ]
    },
    {
     "name": "stderr",
     "output_type": "stream",
     "text": [
      "100%|████████████████████████████| 469/469 [00:32<00:00, 14.46batch/s]\n"
     ]
    },
    {
     "name": "stdout",
     "output_type": "stream",
     "text": [
      "Epoch [26/100], Real Loss: -0.000, Fake Loss: -0.000, Generator Loss: 0.000, Time: 32.44s\n"
     ]
    },
    {
     "name": "stderr",
     "output_type": "stream",
     "text": [
      "100%|████████████████████████████| 469/469 [00:32<00:00, 14.25batch/s]\n"
     ]
    },
    {
     "name": "stdout",
     "output_type": "stream",
     "text": [
      "Epoch [27/100], Real Loss: -0.001, Fake Loss: 0.000, Generator Loss: -0.000, Time: 32.92s\n"
     ]
    },
    {
     "name": "stderr",
     "output_type": "stream",
     "text": [
      "100%|████████████████████████████| 469/469 [00:32<00:00, 14.59batch/s]\n"
     ]
    },
    {
     "name": "stdout",
     "output_type": "stream",
     "text": [
      "Epoch [28/100], Real Loss: -0.001, Fake Loss: 0.000, Generator Loss: -0.000, Time: 32.15s\n"
     ]
    },
    {
     "name": "stderr",
     "output_type": "stream",
     "text": [
      "100%|████████████████████████████| 469/469 [00:43<00:00, 10.68batch/s]\n"
     ]
    },
    {
     "name": "stdout",
     "output_type": "stream",
     "text": [
      "Epoch [29/100], Real Loss: -0.001, Fake Loss: 0.000, Generator Loss: -0.000, Time: 43.93s\n"
     ]
    },
    {
     "name": "stderr",
     "output_type": "stream",
     "text": [
      "100%|████████████████████████████| 469/469 [00:33<00:00, 13.87batch/s]\n"
     ]
    },
    {
     "name": "stdout",
     "output_type": "stream",
     "text": [
      "Epoch [30/100], Real Loss: -0.001, Fake Loss: 0.000, Generator Loss: -0.000, Time: 33.82s\n"
     ]
    },
    {
     "name": "stderr",
     "output_type": "stream",
     "text": [
      "100%|████████████████████████████| 469/469 [00:36<00:00, 13.00batch/s]\n"
     ]
    },
    {
     "name": "stdout",
     "output_type": "stream",
     "text": [
      "Epoch [31/100], Real Loss: -0.001, Fake Loss: 0.000, Generator Loss: -0.000, Time: 36.09s\n"
     ]
    },
    {
     "name": "stderr",
     "output_type": "stream",
     "text": [
      "100%|████████████████████████████| 469/469 [00:37<00:00, 12.50batch/s]\n"
     ]
    },
    {
     "name": "stdout",
     "output_type": "stream",
     "text": [
      "Epoch [32/100], Real Loss: -0.001, Fake Loss: 0.000, Generator Loss: -0.000, Time: 37.51s\n"
     ]
    },
    {
     "name": "stderr",
     "output_type": "stream",
     "text": [
      "100%|████████████████████████████| 469/469 [00:30<00:00, 15.62batch/s]\n"
     ]
    },
    {
     "name": "stdout",
     "output_type": "stream",
     "text": [
      "Epoch [33/100], Real Loss: -0.001, Fake Loss: 0.000, Generator Loss: -0.000, Time: 30.02s\n"
     ]
    },
    {
     "name": "stderr",
     "output_type": "stream",
     "text": [
      "100%|████████████████████████████| 469/469 [00:28<00:00, 16.25batch/s]\n"
     ]
    },
    {
     "name": "stdout",
     "output_type": "stream",
     "text": [
      "Epoch [34/100], Real Loss: -0.001, Fake Loss: 0.000, Generator Loss: -0.000, Time: 28.85s\n"
     ]
    },
    {
     "name": "stderr",
     "output_type": "stream",
     "text": [
      "100%|████████████████████████████| 469/469 [00:29<00:00, 15.66batch/s]\n"
     ]
    },
    {
     "name": "stdout",
     "output_type": "stream",
     "text": [
      "Epoch [35/100], Real Loss: -0.001, Fake Loss: 0.000, Generator Loss: -0.000, Time: 29.94s\n"
     ]
    },
    {
     "name": "stderr",
     "output_type": "stream",
     "text": [
      "100%|████████████████████████████| 469/469 [00:31<00:00, 14.85batch/s]\n"
     ]
    },
    {
     "name": "stdout",
     "output_type": "stream",
     "text": [
      "Epoch [36/100], Real Loss: -0.000, Fake Loss: 0.000, Generator Loss: -0.000, Time: 31.59s\n"
     ]
    },
    {
     "name": "stderr",
     "output_type": "stream",
     "text": [
      "100%|████████████████████████████| 469/469 [00:34<00:00, 13.43batch/s]\n"
     ]
    },
    {
     "name": "stdout",
     "output_type": "stream",
     "text": [
      "Epoch [37/100], Real Loss: -0.001, Fake Loss: 0.000, Generator Loss: -0.000, Time: 34.93s\n"
     ]
    },
    {
     "name": "stderr",
     "output_type": "stream",
     "text": [
      "100%|████████████████████████████| 469/469 [00:33<00:00, 13.92batch/s]\n"
     ]
    },
    {
     "name": "stdout",
     "output_type": "stream",
     "text": [
      "Epoch [38/100], Real Loss: -0.000, Fake Loss: 0.000, Generator Loss: -0.000, Time: 33.69s\n"
     ]
    },
    {
     "name": "stderr",
     "output_type": "stream",
     "text": [
      "100%|████████████████████████████| 469/469 [00:31<00:00, 15.01batch/s]\n"
     ]
    },
    {
     "name": "stdout",
     "output_type": "stream",
     "text": [
      "Epoch [39/100], Real Loss: -0.001, Fake Loss: 0.000, Generator Loss: -0.000, Time: 31.25s\n"
     ]
    },
    {
     "name": "stderr",
     "output_type": "stream",
     "text": [
      "100%|████████████████████████████| 469/469 [00:32<00:00, 14.56batch/s]\n"
     ]
    },
    {
     "name": "stdout",
     "output_type": "stream",
     "text": [
      "Epoch [40/100], Real Loss: -0.001, Fake Loss: 0.000, Generator Loss: -0.000, Time: 32.21s\n"
     ]
    },
    {
     "name": "stderr",
     "output_type": "stream",
     "text": [
      "100%|████████████████████████████| 469/469 [00:33<00:00, 13.90batch/s]\n"
     ]
    },
    {
     "name": "stdout",
     "output_type": "stream",
     "text": [
      "Epoch [41/100], Real Loss: -0.001, Fake Loss: 0.000, Generator Loss: -0.000, Time: 33.74s\n"
     ]
    },
    {
     "name": "stderr",
     "output_type": "stream",
     "text": [
      "100%|████████████████████████████| 469/469 [00:44<00:00, 10.52batch/s]\n"
     ]
    },
    {
     "name": "stdout",
     "output_type": "stream",
     "text": [
      "Epoch [42/100], Real Loss: -0.000, Fake Loss: 0.000, Generator Loss: -0.000, Time: 44.59s\n"
     ]
    },
    {
     "name": "stderr",
     "output_type": "stream",
     "text": [
      "100%|████████████████████████████| 469/469 [00:40<00:00, 11.71batch/s]\n"
     ]
    },
    {
     "name": "stdout",
     "output_type": "stream",
     "text": [
      "Epoch [43/100], Real Loss: -0.001, Fake Loss: 0.000, Generator Loss: -0.000, Time: 40.04s\n"
     ]
    },
    {
     "name": "stderr",
     "output_type": "stream",
     "text": [
      "100%|████████████████████████████| 469/469 [00:34<00:00, 13.63batch/s]\n"
     ]
    },
    {
     "name": "stdout",
     "output_type": "stream",
     "text": [
      "Epoch [44/100], Real Loss: -0.000, Fake Loss: 0.000, Generator Loss: -0.000, Time: 34.40s\n"
     ]
    },
    {
     "name": "stderr",
     "output_type": "stream",
     "text": [
      "100%|████████████████████████████| 469/469 [00:33<00:00, 13.85batch/s]\n"
     ]
    },
    {
     "name": "stdout",
     "output_type": "stream",
     "text": [
      "Epoch [45/100], Real Loss: -0.000, Fake Loss: -0.000, Generator Loss: 0.000, Time: 33.86s\n"
     ]
    },
    {
     "name": "stderr",
     "output_type": "stream",
     "text": [
      "100%|████████████████████████████| 469/469 [00:34<00:00, 13.44batch/s]\n"
     ]
    },
    {
     "name": "stdout",
     "output_type": "stream",
     "text": [
      "Epoch [46/100], Real Loss: -0.000, Fake Loss: -0.000, Generator Loss: 0.000, Time: 34.91s\n"
     ]
    },
    {
     "name": "stderr",
     "output_type": "stream",
     "text": [
      "100%|████████████████████████████| 469/469 [00:36<00:00, 12.90batch/s]\n"
     ]
    },
    {
     "name": "stdout",
     "output_type": "stream",
     "text": [
      "Epoch [47/100], Real Loss: -0.000, Fake Loss: -0.000, Generator Loss: 0.000, Time: 36.35s\n"
     ]
    },
    {
     "name": "stderr",
     "output_type": "stream",
     "text": [
      "100%|████████████████████████████| 469/469 [00:35<00:00, 13.28batch/s]\n"
     ]
    },
    {
     "name": "stdout",
     "output_type": "stream",
     "text": [
      "Epoch [48/100], Real Loss: -0.000, Fake Loss: 0.000, Generator Loss: -0.000, Time: 35.32s\n"
     ]
    },
    {
     "name": "stderr",
     "output_type": "stream",
     "text": [
      "100%|████████████████████████████| 469/469 [00:33<00:00, 14.15batch/s]\n"
     ]
    },
    {
     "name": "stdout",
     "output_type": "stream",
     "text": [
      "Epoch [49/100], Real Loss: -0.000, Fake Loss: -0.000, Generator Loss: 0.000, Time: 33.14s\n"
     ]
    },
    {
     "name": "stderr",
     "output_type": "stream",
     "text": [
      "100%|████████████████████████████| 469/469 [00:33<00:00, 14.19batch/s]\n"
     ]
    },
    {
     "name": "stdout",
     "output_type": "stream",
     "text": [
      "Epoch [50/100], Real Loss: -0.000, Fake Loss: 0.000, Generator Loss: -0.000, Time: 33.04s\n"
     ]
    },
    {
     "name": "stderr",
     "output_type": "stream",
     "text": [
      "100%|████████████████████████████| 469/469 [00:31<00:00, 14.76batch/s]\n"
     ]
    },
    {
     "name": "stdout",
     "output_type": "stream",
     "text": [
      "Epoch [51/100], Real Loss: -0.000, Fake Loss: -0.000, Generator Loss: 0.000, Time: 31.78s\n"
     ]
    },
    {
     "name": "stderr",
     "output_type": "stream",
     "text": [
      "100%|████████████████████████████| 469/469 [00:36<00:00, 12.77batch/s]\n"
     ]
    },
    {
     "name": "stdout",
     "output_type": "stream",
     "text": [
      "Epoch [52/100], Real Loss: -0.001, Fake Loss: 0.000, Generator Loss: -0.000, Time: 36.72s\n"
     ]
    },
    {
     "name": "stderr",
     "output_type": "stream",
     "text": [
      "100%|████████████████████████████| 469/469 [00:33<00:00, 14.12batch/s]\n"
     ]
    },
    {
     "name": "stdout",
     "output_type": "stream",
     "text": [
      "Epoch [53/100], Real Loss: -0.000, Fake Loss: -0.000, Generator Loss: 0.000, Time: 33.22s\n"
     ]
    },
    {
     "name": "stderr",
     "output_type": "stream",
     "text": [
      "100%|████████████████████████████| 469/469 [00:33<00:00, 14.11batch/s]\n"
     ]
    },
    {
     "name": "stdout",
     "output_type": "stream",
     "text": [
      "Epoch [54/100], Real Loss: -0.001, Fake Loss: 0.000, Generator Loss: -0.000, Time: 33.25s\n"
     ]
    },
    {
     "name": "stderr",
     "output_type": "stream",
     "text": [
      "100%|████████████████████████████| 469/469 [00:33<00:00, 14.07batch/s]\n"
     ]
    },
    {
     "name": "stdout",
     "output_type": "stream",
     "text": [
      "Epoch [55/100], Real Loss: -0.000, Fake Loss: -0.000, Generator Loss: 0.000, Time: 33.34s\n"
     ]
    },
    {
     "name": "stderr",
     "output_type": "stream",
     "text": [
      "100%|████████████████████████████| 469/469 [00:36<00:00, 12.93batch/s]\n"
     ]
    },
    {
     "name": "stdout",
     "output_type": "stream",
     "text": [
      "Epoch [56/100], Real Loss: -0.000, Fake Loss: 0.000, Generator Loss: -0.000, Time: 36.28s\n"
     ]
    },
    {
     "name": "stderr",
     "output_type": "stream",
     "text": [
      "100%|████████████████████████████| 469/469 [00:34<00:00, 13.69batch/s]\n"
     ]
    },
    {
     "name": "stdout",
     "output_type": "stream",
     "text": [
      "Epoch [57/100], Real Loss: -0.000, Fake Loss: -0.000, Generator Loss: 0.000, Time: 34.26s\n"
     ]
    },
    {
     "name": "stderr",
     "output_type": "stream",
     "text": [
      "100%|████████████████████████████| 469/469 [00:37<00:00, 12.57batch/s]\n"
     ]
    },
    {
     "name": "stdout",
     "output_type": "stream",
     "text": [
      "Epoch [58/100], Real Loss: -0.000, Fake Loss: 0.000, Generator Loss: -0.000, Time: 37.32s\n"
     ]
    },
    {
     "name": "stderr",
     "output_type": "stream",
     "text": [
      "100%|████████████████████████████| 469/469 [00:39<00:00, 11.92batch/s]\n"
     ]
    },
    {
     "name": "stdout",
     "output_type": "stream",
     "text": [
      "Epoch [59/100], Real Loss: -0.000, Fake Loss: -0.000, Generator Loss: 0.000, Time: 39.36s\n"
     ]
    },
    {
     "name": "stderr",
     "output_type": "stream",
     "text": [
      "100%|████████████████████████████| 469/469 [00:33<00:00, 13.82batch/s]\n"
     ]
    },
    {
     "name": "stdout",
     "output_type": "stream",
     "text": [
      "Epoch [60/100], Real Loss: -0.000, Fake Loss: -0.000, Generator Loss: 0.000, Time: 33.93s\n"
     ]
    },
    {
     "name": "stderr",
     "output_type": "stream",
     "text": [
      "100%|████████████████████████████| 469/469 [00:33<00:00, 13.94batch/s]\n"
     ]
    },
    {
     "name": "stdout",
     "output_type": "stream",
     "text": [
      "Epoch [61/100], Real Loss: -0.000, Fake Loss: -0.000, Generator Loss: 0.000, Time: 33.64s\n"
     ]
    },
    {
     "name": "stderr",
     "output_type": "stream",
     "text": [
      "100%|████████████████████████████| 469/469 [00:34<00:00, 13.64batch/s]\n"
     ]
    },
    {
     "name": "stdout",
     "output_type": "stream",
     "text": [
      "Epoch [62/100], Real Loss: -0.000, Fake Loss: -0.000, Generator Loss: 0.000, Time: 34.38s\n"
     ]
    },
    {
     "name": "stderr",
     "output_type": "stream",
     "text": [
      "100%|████████████████████████████| 469/469 [00:35<00:00, 13.25batch/s]\n"
     ]
    },
    {
     "name": "stdout",
     "output_type": "stream",
     "text": [
      "Epoch [63/100], Real Loss: -0.000, Fake Loss: -0.000, Generator Loss: 0.000, Time: 35.40s\n"
     ]
    },
    {
     "name": "stderr",
     "output_type": "stream",
     "text": [
      "100%|████████████████████████████| 469/469 [00:32<00:00, 14.52batch/s]\n"
     ]
    },
    {
     "name": "stdout",
     "output_type": "stream",
     "text": [
      "Epoch [64/100], Real Loss: -0.000, Fake Loss: -0.000, Generator Loss: 0.000, Time: 32.29s\n"
     ]
    },
    {
     "name": "stderr",
     "output_type": "stream",
     "text": [
      "100%|████████████████████████████| 469/469 [00:35<00:00, 13.03batch/s]\n"
     ]
    },
    {
     "name": "stdout",
     "output_type": "stream",
     "text": [
      "Epoch [65/100], Real Loss: -0.000, Fake Loss: -0.000, Generator Loss: 0.000, Time: 35.99s\n"
     ]
    },
    {
     "name": "stderr",
     "output_type": "stream",
     "text": [
      "100%|████████████████████████████| 469/469 [00:34<00:00, 13.69batch/s]\n"
     ]
    },
    {
     "name": "stdout",
     "output_type": "stream",
     "text": [
      "Epoch [66/100], Real Loss: -0.000, Fake Loss: -0.000, Generator Loss: 0.000, Time: 34.25s\n"
     ]
    },
    {
     "name": "stderr",
     "output_type": "stream",
     "text": [
      "100%|████████████████████████████| 469/469 [00:34<00:00, 13.62batch/s]\n"
     ]
    },
    {
     "name": "stdout",
     "output_type": "stream",
     "text": [
      "Epoch [67/100], Real Loss: -0.000, Fake Loss: -0.000, Generator Loss: 0.000, Time: 34.43s\n"
     ]
    },
    {
     "name": "stderr",
     "output_type": "stream",
     "text": [
      "100%|████████████████████████████| 469/469 [00:34<00:00, 13.52batch/s]\n"
     ]
    },
    {
     "name": "stdout",
     "output_type": "stream",
     "text": [
      "Epoch [68/100], Real Loss: -0.000, Fake Loss: -0.000, Generator Loss: 0.000, Time: 34.69s\n"
     ]
    },
    {
     "name": "stderr",
     "output_type": "stream",
     "text": [
      "100%|████████████████████████████| 469/469 [00:32<00:00, 14.38batch/s]\n"
     ]
    },
    {
     "name": "stdout",
     "output_type": "stream",
     "text": [
      "Epoch [69/100], Real Loss: -0.000, Fake Loss: 0.000, Generator Loss: -0.000, Time: 32.61s\n"
     ]
    },
    {
     "name": "stderr",
     "output_type": "stream",
     "text": [
      "100%|████████████████████████████| 469/469 [00:34<00:00, 13.70batch/s]\n"
     ]
    },
    {
     "name": "stdout",
     "output_type": "stream",
     "text": [
      "Epoch [70/100], Real Loss: -0.000, Fake Loss: 0.000, Generator Loss: -0.000, Time: 34.24s\n"
     ]
    },
    {
     "name": "stderr",
     "output_type": "stream",
     "text": [
      "100%|████████████████████████████| 469/469 [00:33<00:00, 13.83batch/s]\n"
     ]
    },
    {
     "name": "stdout",
     "output_type": "stream",
     "text": [
      "Epoch [71/100], Real Loss: -0.000, Fake Loss: 0.000, Generator Loss: -0.000, Time: 33.91s\n"
     ]
    },
    {
     "name": "stderr",
     "output_type": "stream",
     "text": [
      "100%|████████████████████████████| 469/469 [00:33<00:00, 13.90batch/s]\n"
     ]
    },
    {
     "name": "stdout",
     "output_type": "stream",
     "text": [
      "Epoch [72/100], Real Loss: -0.000, Fake Loss: 0.000, Generator Loss: -0.000, Time: 33.74s\n"
     ]
    },
    {
     "name": "stderr",
     "output_type": "stream",
     "text": [
      "100%|████████████████████████████| 469/469 [00:35<00:00, 13.40batch/s]\n"
     ]
    },
    {
     "name": "stdout",
     "output_type": "stream",
     "text": [
      "Epoch [73/100], Real Loss: -0.000, Fake Loss: 0.000, Generator Loss: -0.000, Time: 35.01s\n"
     ]
    },
    {
     "name": "stderr",
     "output_type": "stream",
     "text": [
      "100%|████████████████████████████| 469/469 [00:33<00:00, 13.92batch/s]\n"
     ]
    },
    {
     "name": "stdout",
     "output_type": "stream",
     "text": [
      "Epoch [74/100], Real Loss: -0.000, Fake Loss: 0.000, Generator Loss: -0.000, Time: 33.69s\n"
     ]
    },
    {
     "name": "stderr",
     "output_type": "stream",
     "text": [
      "100%|████████████████████████████| 469/469 [00:33<00:00, 13.92batch/s]\n"
     ]
    },
    {
     "name": "stdout",
     "output_type": "stream",
     "text": [
      "Epoch [75/100], Real Loss: -0.000, Fake Loss: 0.000, Generator Loss: -0.000, Time: 33.69s\n"
     ]
    },
    {
     "name": "stderr",
     "output_type": "stream",
     "text": [
      "100%|████████████████████████████| 469/469 [00:33<00:00, 14.05batch/s]\n"
     ]
    },
    {
     "name": "stdout",
     "output_type": "stream",
     "text": [
      "Epoch [76/100], Real Loss: -0.000, Fake Loss: 0.000, Generator Loss: -0.000, Time: 33.38s\n"
     ]
    },
    {
     "name": "stderr",
     "output_type": "stream",
     "text": [
      "100%|████████████████████████████| 469/469 [00:34<00:00, 13.46batch/s]\n"
     ]
    },
    {
     "name": "stdout",
     "output_type": "stream",
     "text": [
      "Epoch [77/100], Real Loss: -0.000, Fake Loss: 0.000, Generator Loss: -0.000, Time: 34.84s\n"
     ]
    },
    {
     "name": "stderr",
     "output_type": "stream",
     "text": [
      "100%|████████████████████████████| 469/469 [00:38<00:00, 12.27batch/s]\n"
     ]
    },
    {
     "name": "stdout",
     "output_type": "stream",
     "text": [
      "Epoch [78/100], Real Loss: -0.000, Fake Loss: 0.000, Generator Loss: -0.000, Time: 38.21s\n"
     ]
    },
    {
     "name": "stderr",
     "output_type": "stream",
     "text": [
      "100%|████████████████████████████| 469/469 [00:34<00:00, 13.78batch/s]\n"
     ]
    },
    {
     "name": "stdout",
     "output_type": "stream",
     "text": [
      "Epoch [79/100], Real Loss: -0.000, Fake Loss: 0.000, Generator Loss: -0.000, Time: 34.03s\n"
     ]
    },
    {
     "name": "stderr",
     "output_type": "stream",
     "text": [
      "100%|████████████████████████████| 469/469 [00:37<00:00, 12.46batch/s]\n"
     ]
    },
    {
     "name": "stdout",
     "output_type": "stream",
     "text": [
      "Epoch [80/100], Real Loss: -0.000, Fake Loss: 0.000, Generator Loss: -0.000, Time: 37.64s\n"
     ]
    },
    {
     "name": "stderr",
     "output_type": "stream",
     "text": [
      "100%|████████████████████████████| 469/469 [00:34<00:00, 13.48batch/s]\n"
     ]
    },
    {
     "name": "stdout",
     "output_type": "stream",
     "text": [
      "Epoch [81/100], Real Loss: -0.000, Fake Loss: 0.000, Generator Loss: -0.000, Time: 34.80s\n"
     ]
    },
    {
     "name": "stderr",
     "output_type": "stream",
     "text": [
      "100%|████████████████████████████| 469/469 [00:31<00:00, 15.10batch/s]\n"
     ]
    },
    {
     "name": "stdout",
     "output_type": "stream",
     "text": [
      "Epoch [82/100], Real Loss: -0.000, Fake Loss: 0.000, Generator Loss: -0.000, Time: 31.06s\n"
     ]
    },
    {
     "name": "stderr",
     "output_type": "stream",
     "text": [
      "100%|████████████████████████████| 469/469 [00:32<00:00, 14.42batch/s]\n"
     ]
    },
    {
     "name": "stdout",
     "output_type": "stream",
     "text": [
      "Epoch [83/100], Real Loss: -0.000, Fake Loss: 0.000, Generator Loss: -0.000, Time: 32.54s\n"
     ]
    },
    {
     "name": "stderr",
     "output_type": "stream",
     "text": [
      "100%|████████████████████████████| 469/469 [00:33<00:00, 13.84batch/s]\n"
     ]
    },
    {
     "name": "stdout",
     "output_type": "stream",
     "text": [
      "Epoch [84/100], Real Loss: -0.000, Fake Loss: 0.000, Generator Loss: -0.000, Time: 33.89s\n"
     ]
    },
    {
     "name": "stderr",
     "output_type": "stream",
     "text": [
      "100%|████████████████████████████| 469/469 [00:34<00:00, 13.74batch/s]\n"
     ]
    },
    {
     "name": "stdout",
     "output_type": "stream",
     "text": [
      "Epoch [85/100], Real Loss: -0.000, Fake Loss: 0.000, Generator Loss: -0.000, Time: 34.15s\n"
     ]
    },
    {
     "name": "stderr",
     "output_type": "stream",
     "text": [
      "100%|████████████████████████████| 469/469 [00:40<00:00, 11.62batch/s]\n"
     ]
    },
    {
     "name": "stdout",
     "output_type": "stream",
     "text": [
      "Epoch [86/100], Real Loss: -0.000, Fake Loss: 0.000, Generator Loss: -0.000, Time: 40.37s\n"
     ]
    },
    {
     "name": "stderr",
     "output_type": "stream",
     "text": [
      "100%|████████████████████████████| 469/469 [00:36<00:00, 12.74batch/s]\n"
     ]
    },
    {
     "name": "stdout",
     "output_type": "stream",
     "text": [
      "Epoch [87/100], Real Loss: -0.000, Fake Loss: 0.000, Generator Loss: -0.000, Time: 36.83s\n"
     ]
    },
    {
     "name": "stderr",
     "output_type": "stream",
     "text": [
      "100%|████████████████████████████| 469/469 [00:43<00:00, 10.81batch/s]\n"
     ]
    },
    {
     "name": "stdout",
     "output_type": "stream",
     "text": [
      "Epoch [88/100], Real Loss: -0.000, Fake Loss: 0.000, Generator Loss: -0.000, Time: 43.38s\n"
     ]
    },
    {
     "name": "stderr",
     "output_type": "stream",
     "text": [
      "100%|████████████████████████████| 469/469 [00:40<00:00, 11.55batch/s]\n"
     ]
    },
    {
     "name": "stdout",
     "output_type": "stream",
     "text": [
      "Epoch [89/100], Real Loss: -0.000, Fake Loss: 0.000, Generator Loss: -0.000, Time: 40.63s\n"
     ]
    },
    {
     "name": "stderr",
     "output_type": "stream",
     "text": [
      "100%|████████████████████████████| 469/469 [00:37<00:00, 12.34batch/s]\n"
     ]
    },
    {
     "name": "stdout",
     "output_type": "stream",
     "text": [
      "Epoch [90/100], Real Loss: -0.000, Fake Loss: 0.000, Generator Loss: -0.000, Time: 37.99s\n"
     ]
    },
    {
     "name": "stderr",
     "output_type": "stream",
     "text": [
      "100%|████████████████████████████| 469/469 [00:37<00:00, 12.52batch/s]\n"
     ]
    },
    {
     "name": "stdout",
     "output_type": "stream",
     "text": [
      "Epoch [91/100], Real Loss: -0.000, Fake Loss: 0.000, Generator Loss: -0.000, Time: 37.45s\n"
     ]
    },
    {
     "name": "stderr",
     "output_type": "stream",
     "text": [
      "100%|████████████████████████████| 469/469 [00:37<00:00, 12.46batch/s]\n"
     ]
    },
    {
     "name": "stdout",
     "output_type": "stream",
     "text": [
      "Epoch [92/100], Real Loss: -0.000, Fake Loss: 0.000, Generator Loss: -0.000, Time: 37.66s\n"
     ]
    },
    {
     "name": "stderr",
     "output_type": "stream",
     "text": [
      "100%|████████████████████████████| 469/469 [00:38<00:00, 12.16batch/s]\n"
     ]
    },
    {
     "name": "stdout",
     "output_type": "stream",
     "text": [
      "Epoch [93/100], Real Loss: -0.000, Fake Loss: 0.000, Generator Loss: -0.000, Time: 38.58s\n"
     ]
    },
    {
     "name": "stderr",
     "output_type": "stream",
     "text": [
      "100%|████████████████████████████| 469/469 [00:38<00:00, 12.03batch/s]\n"
     ]
    },
    {
     "name": "stdout",
     "output_type": "stream",
     "text": [
      "Epoch [94/100], Real Loss: -0.000, Fake Loss: 0.000, Generator Loss: -0.000, Time: 39.00s\n"
     ]
    },
    {
     "name": "stderr",
     "output_type": "stream",
     "text": [
      "100%|████████████████████████████| 469/469 [00:39<00:00, 11.88batch/s]\n"
     ]
    },
    {
     "name": "stdout",
     "output_type": "stream",
     "text": [
      "Epoch [95/100], Real Loss: -0.000, Fake Loss: 0.000, Generator Loss: -0.000, Time: 39.48s\n"
     ]
    },
    {
     "name": "stderr",
     "output_type": "stream",
     "text": [
      "100%|████████████████████████████| 469/469 [00:35<00:00, 13.12batch/s]\n"
     ]
    },
    {
     "name": "stdout",
     "output_type": "stream",
     "text": [
      "Epoch [96/100], Real Loss: -0.000, Fake Loss: 0.000, Generator Loss: -0.000, Time: 35.76s\n"
     ]
    },
    {
     "name": "stderr",
     "output_type": "stream",
     "text": [
      "100%|████████████████████████████| 469/469 [00:40<00:00, 11.66batch/s]\n"
     ]
    },
    {
     "name": "stdout",
     "output_type": "stream",
     "text": [
      "Epoch [97/100], Real Loss: -0.000, Fake Loss: 0.000, Generator Loss: -0.000, Time: 40.22s\n"
     ]
    },
    {
     "name": "stderr",
     "output_type": "stream",
     "text": [
      "100%|████████████████████████████| 469/469 [00:36<00:00, 12.91batch/s]\n"
     ]
    },
    {
     "name": "stdout",
     "output_type": "stream",
     "text": [
      "Epoch [98/100], Real Loss: -0.000, Fake Loss: 0.000, Generator Loss: -0.000, Time: 36.34s\n"
     ]
    },
    {
     "name": "stderr",
     "output_type": "stream",
     "text": [
      "100%|████████████████████████████| 469/469 [00:34<00:00, 13.49batch/s]\n"
     ]
    },
    {
     "name": "stdout",
     "output_type": "stream",
     "text": [
      "Epoch [99/100], Real Loss: -0.000, Fake Loss: 0.000, Generator Loss: -0.000, Time: 34.76s\n"
     ]
    },
    {
     "name": "stderr",
     "output_type": "stream",
     "text": [
      "100%|████████████████████████████| 469/469 [00:32<00:00, 14.25batch/s]"
     ]
    },
    {
     "name": "stdout",
     "output_type": "stream",
     "text": [
      "Epoch [100/100], Real Loss: -0.001, Fake Loss: 0.000, Generator Loss: -0.000, Time: 32.91s\n"
     ]
    },
    {
     "name": "stderr",
     "output_type": "stream",
     "text": [
      "\n"
     ]
    }
   ],
   "source": [
    "critic_iterations = 1\n",
    "num_epochs = 100\n",
    "batch_size = 128\n",
    "transform = transforms.Compose([transforms.ToTensor(), transforms.Normalize((0.5,), (0.5,))])\n",
    "dataset = MNIST(root='./', train=True, transform=transform, download=False)\n",
    "dataloader = DataLoader(dataset, batch_size=batch_size, shuffle=True)\n",
    "(loss_history_dr, loss_history_df), loss_history_g = train_wgan(generator, discriminator, dataloader, num_epochs)"
   ]
  },
  {
   "cell_type": "code",
   "execution_count": 30,
   "id": "71320b5c",
   "metadata": {},
   "outputs": [
    {
     "data": {
      "image/png": "[encoded data removed]",
      "text/plain": [
       "<Figure size 640x480 with 1 Axes>"
      ]
     },
     "metadata": {},
     "output_type": "display_data"
    }
   ],
   "source": [
    "plt.plot(loss_history_dr, label='Real Loss')\n",
    "plt.plot(loss_history_df, label='Fake Loss')\n",
    "plt.plot(loss_history_g, label='Generator Loss')\n",
    "plt.title(\"Loss History\")\n",
    "plt.xlabel(\"Epochs\")\n",
    "plt.ylabel(\"Loss\")\n",
    "plt.legend()\n",
    "plt.savefig(fname=\"./WGAN_Loss_critic_1.png\")\n",
    "plt.show()"
   ]
  },
  {
   "cell_type": "code",
   "execution_count": 31,
   "id": "fbab52a6",
   "metadata": {},
   "outputs": [],
   "source": [
    "torch.save(generator.state_dict(), \"./models/W_Generator_critic_1.pth\")\n",
    "torch.save(discriminator.state_dict(), \"./models/W_Descriminator_critic_1.pth\")\n",
    "del generator, discriminator"
   ]
  },
  {
   "cell_type": "code",
   "execution_count": null,
   "id": "c493b441",
   "metadata": {},
   "outputs": [],
   "source": []
  }
 ],
 "metadata": {
  "kernelspec": {
   "display_name": "cvdl_project",
   "language": "python",
   "name": "cvdl_project"
  },
  "language_info": {
   "codemirror_mode": {
    "name": "ipython",
    "version": 3
   },
   "file_extension": ".py",
   "mimetype": "text/x-python",
   "name": "python",
   "nbconvert_exporter": "python",
   "pygments_lexer": "ipython3",
   "version": "3.8.16"
  }
 },
 "nbformat": 4,
 "nbformat_minor": 5
}
